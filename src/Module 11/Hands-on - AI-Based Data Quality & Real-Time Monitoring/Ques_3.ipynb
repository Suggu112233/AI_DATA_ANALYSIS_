{
 "cells": [
  {
   "cell_type": "markdown",
   "metadata": {},
   "source": [
    "## Isolation Forest for Anomaly Detection\n",
    "**Objective**: Understand and apply the Isolation Forest algorithm to identify anomalies in datasets.\n",
    "\n",
    "### Task: Anomaly Detection in Sensor Data\n",
    "**Steps**:\n",
    "1. Load Dataset\n",
    "2. Feature Selection\n",
    "3. Isolation Forest Implementation\n",
    "4. Plot Results"
   ]
  },
  {
   "cell_type": "code",
   "execution_count": null,
   "metadata": {},
   "outputs": [],
   "source": [
    "# write your code from here\n",
    "import numpy as np\n",
    "import pandas as pd\n",
    "import matplotlib.pyplot as plt\n",
    "from sklearn.ensemble import IsolationForest\n",
    "from sklearn.preprocessing import StandardScaler\n",
    "\n",
    "# Step 1: Load Dataset\n",
    "# For demo, create synthetic sensor data with normal and anomalous points\n",
    "\n",
    "np.random.seed(0)\n",
    "\n",
    "# Normal sensor readings: 1000 samples, 2 features (e.g., temperature and humidity)\n",
    "normal_data = np.random.normal(loc=[20, 50], scale=[2, 5], size=(1000, 2))\n",
    "\n",
    "# Anomalous sensor readings: 50 samples far from normal distribution\n",
    "anomalies = np.random.uniform(low=[30, 80], high=[40, 100], size=(50, 2))\n",
    "\n",
    "# Combine into one dataset\n",
    "data = np.vstack((normal_data, anomalies))\n",
    "df = pd.DataFrame(data, columns=['temperature', 'humidity'])\n",
    "\n",
    "# Step 2: Feature Selection\n",
    "# Use all features here (temperature, humidity)\n",
    "X = df[['temperature', 'humidity']]\n",
    "\n",
    "# Optional: scale features for better Isolation Forest performance\n",
    "scaler = StandardScaler()\n",
    "X_scaled = scaler.fit_transform(X)\n",
    "\n",
    "# Step 3: Isolation Forest Implementation\n",
    "iso_forest = IsolationForest(contamination=0.045, random_state=42)  # ~4.5% anomalies\n",
    "df['anomaly'] = iso_forest.fit_predict(X_scaled)\n",
    "# anomaly = -1 means anomaly, 1 means normal\n",
    "\n",
    "# Step 4: Plot Results\n",
    "plt.figure(figsize=(10, 6))\n",
    "plt.scatter(df['temperature'], df['humidity'], c=(df['anomaly'] == -1), cmap='coolwarm', edgecolor='k', s=50)\n",
    "plt.title('Isolation Forest Anomaly Detection in Sensor Data')\n",
    "plt.xlabel('Temperature')\n",
    "plt.ylabel('Humidity')\n",
    "plt.colorbar(label='Anomaly (1=Anomaly, 0=Normal)')\n",
    "plt.show()\n"
   ]
  }
 ],
 "metadata": {
  "kernelspec": {
   "display_name": "base",
   "language": "python",
   "name": "python3"
  },
  "language_info": {
   "name": "python",
   "version": "3.12.7"
  }
 },
 "nbformat": 4,
 "nbformat_minor": 2
}
