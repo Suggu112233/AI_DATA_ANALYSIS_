{
 "cells": [
  {
   "cell_type": "markdown",
   "metadata": {},
   "source": [
    "### Task 1: Introduction to Isolation Forest\n",
    "**Description**: Install the necessary library and load a sample dataset.\n",
    "\n",
    "**Steps**:\n",
    "1. Install scikit-learn\n",
    "2. Load a sample dataset using Python"
   ]
  },
  {
   "cell_type": "code",
   "execution_count": null,
   "metadata": {},
   "outputs": [],
   "source": [
    "# write your code from here\n",
    "from sklearn.datasets import load_breast_cancer\n",
    "\n",
    "# Load sample dataset\n",
    "data = load_breast_cancer()\n",
    "X = data.data\n",
    "y = data.target\n",
    "\n",
    "print(\"Features shape:\", X.shape)\n",
    "print(\"Target shape:\", y.shape)\n",
    "print(\"Feature names:\", data.feature_names)\n"
   ]
  },
  {
   "cell_type": "markdown",
   "metadata": {},
   "source": [
    "### Task 2: Building an Isolation Forest\n",
    "**Description**: Initialize an Isolation Forest model and fit it to the Boston dataset.\n",
    "\n",
    "**Steps**:\n",
    "1. Initialize Isolation Forest\n",
    "2. Fit model"
   ]
  },
  {
   "cell_type": "code",
   "execution_count": null,
   "metadata": {},
   "outputs": [],
   "source": [
    "# write your code from here\n",
    "# Step 0: Install required packages if needed\n",
    "# !pip install scikit-learn\n",
    "\n",
    "from sklearn.datasets import load_boston\n",
    "from sklearn.ensemble import IsolationForest\n",
    "import numpy as np\n",
    "\n",
    "# Step 1: Load Boston dataset\n",
    "boston = load_boston()\n",
    "X = boston.data\n",
    "\n",
    "# Step 2: Initialize Isolation Forest model\n",
    "iso_forest = IsolationForest(n_estimators=100, contamination='auto', random_state=42)\n",
    "\n",
    "# Step 3: Fit model\n",
    "iso_forest.fit(X)\n",
    "\n",
    "# Optional: Predict anomalies (-1 means anomaly, 1 means normal)\n",
    "preds = iso_forest.predict(X)\n",
    "print(\"Predictions (1 = normal, -1 = anomaly):\")\n",
    "print(preds)\n",
    "\n",
    "# Summary of anomalies detected\n",
    "num_anomalies = np.sum(preds == -1)\n",
    "print(f\"Number of anomalies detected: {num_anomalies}\")\n",
    "\n"
   ]
  },
  {
   "cell_type": "markdown",
   "metadata": {},
   "source": [
    "### Task 3: Detecting Anomalies\n",
    "**Description**: Use the fitted Isolation Forest model to predict anomalies.\n",
    "\n",
    "**Steps**:\n",
    "1. Predict anomalies\n",
    "2. Display anomaly counts"
   ]
  },
  {
   "cell_type": "code",
   "execution_count": null,
   "metadata": {},
   "outputs": [],
   "source": [
    "# write your code from here\n",
    "from sklearn.datasets import load_boston\n",
    "from sklearn.ensemble import IsolationForest\n",
    "import numpy as np\n",
    "\n",
    "# Load data\n",
    "boston = load_boston()\n",
    "X = boston.data\n",
    "\n",
    "# Initialize and fit Isolation Forest\n",
    "iso_forest = IsolationForest(n_estimators=100, contamination='auto', random_state=42)\n",
    "iso_forest.fit(X)\n",
    "\n",
    "# Step 1: Predict anomalies (-1 means anomaly, 1 means normal)\n",
    "predictions = iso_forest.predict(X)\n",
    "\n",
    "# Step 2: Display anomaly counts\n",
    "num_anomalies = np.sum(predictions == -1)\n",
    "num_normals = np.sum(predictions == 1)\n",
    "\n",
    "print(f\"Total samples: {len(predictions)}\")\n",
    "print(f\"Anomalies detected: {num_anomalies}\")\n",
    "print(f\"Normal samples: {num_normals}\")\n"
   ]
  },
  {
   "cell_type": "markdown",
   "metadata": {},
   "source": [
    "### Task 4: Visualizing Anomalies\n",
    "**Description**: Visualize the results to see which samples are considered anomalies.\n",
    "\n",
    "**Steps**:\n",
    "1. Plot a scatter plot"
   ]
  },
  {
   "cell_type": "code",
   "execution_count": null,
   "metadata": {},
   "outputs": [],
   "source": [
    "# write your code from here\n",
    "import matplotlib.pyplot as plt\n",
    "from sklearn.datasets import load_boston\n",
    "from sklearn.ensemble import IsolationForest\n",
    "\n",
    "# Load data\n",
    "boston = load_boston()\n",
    "X = boston.data\n",
    "\n",
    "# Fit Isolation Forest\n",
    "iso_forest = IsolationForest(n_estimators=100, contamination='auto', random_state=42)\n",
    "iso_forest.fit(X)\n",
    "\n",
    "# Predict anomalies\n",
    "predictions = iso_forest.predict(X)\n",
    "\n",
    "# Plot\n",
    "plt.figure(figsize=(10, 6))\n",
    "plt.title(\"Isolation Forest Anomaly Detection (First two features)\")\n",
    "\n",
    "# Normal points\n",
    "plt.scatter(X[predictions == 1, 0], X[predictions == 1, 1], c='blue', label='Normal')\n",
    "\n",
    "# Anomalies\n",
    "plt.scatter(X[predictions == -1, 0], X[predictions == -1, 1], c='red', label='Anomaly')\n",
    "\n",
    "plt.xlabel('Feature 1 (CRIM)')\n",
    "plt.ylabel('Feature 2 (ZN)')\n",
    "plt.legend()\n",
    "plt.show()\n"
   ]
  },
  {
   "cell_type": "markdown",
   "metadata": {},
   "source": [
    "### Task 5: Interpret Contamination Parameter\n",
    "**Description**: Experiment with different contamination levels."
   ]
  },
  {
   "cell_type": "code",
   "execution_count": null,
   "metadata": {},
   "outputs": [],
   "source": [
    "# write your code from here\n",
    "import numpy as np\n",
    "import matplotlib.pyplot as plt\n",
    "from sklearn.datasets import load_boston\n",
    "from sklearn.ensemble import IsolationForest\n",
    "\n",
    "# Load data\n",
    "boston = load_boston()\n",
    "X = boston.data\n",
    "\n",
    "# Define contamination values to test\n",
    "contamination_levels = np.linspace(0.01, 0.2, 10)  # from 1% to 20%\n",
    "\n",
    "anomaly_counts = []\n",
    "\n",
    "for contamination in contamination_levels:\n",
    "    iso_forest = IsolationForest(n_estimators=100, contamination=contamination, random_state=42)\n",
    "    iso_forest.fit(X)\n",
    "    preds = iso_forest.predict(X)\n",
    "    # Count anomalies (-1 labels)\n",
    "    count_anomalies = sum(preds == -1)\n",
    "    anomaly_counts.append(count_anomalies)\n",
    "    print(f\"Contamination: {contamination:.2f} -> Anomalies detected: {count_anomalies}\")\n",
    "\n",
    "# Plot contamination vs anomalies detected\n",
    "plt.figure(figsize=(8,5))\n",
    "plt.plot(contamination_levels, anomaly_counts, marker='o')\n",
    "plt.title('Effect of Contamination Parameter on Anomaly Detection')\n",
    "plt.xlabel('Contamination')\n",
    "plt.ylabel('Number of Anomalies Detected')\n",
    "plt.grid(True)\n",
    "plt.show()\n"
   ]
  }
 ],
 "metadata": {
  "kernelspec": {
   "display_name": "base",
   "language": "python",
   "name": "python3"
  },
  "language_info": {
   "name": "python",
   "version": "3.12.7"
  }
 },
 "nbformat": 4,
 "nbformat_minor": 2
}
