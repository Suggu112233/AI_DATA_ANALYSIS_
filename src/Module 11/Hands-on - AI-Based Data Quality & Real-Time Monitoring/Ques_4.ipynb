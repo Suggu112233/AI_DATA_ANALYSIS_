{
 "cells": [
  {
   "cell_type": "markdown",
   "metadata": {},
   "source": [
    "## Isolation Forest for Anomaly Detection\n",
    "**Objective**: Understand and apply the Isolation Forest algorithm to identify anomalies in datasets.\n",
    "\n",
    "### Task: Anomaly Detection in Network Traffic\n",
    "**Steps**:\n",
    "1. Extract Features from Dataset:\n",
    "    - Load `network_traffic.csv` .\n",
    "2. Isolation Forest Model\n",
    "3. Display Anomalies"
   ]
  },
  {
   "cell_type": "code",
   "execution_count": null,
   "metadata": {},
   "outputs": [],
   "source": [
    "\n",
    "# write your code from here\n",
    "import pandas as pd\n",
    "from sklearn.ensemble import IsolationForest\n",
    "\n",
    "# Step 1: Load the network traffic dataset\n",
    "df = pd.read_csv('network_traffic.csv')\n",
    "\n",
    "# Display first few rows to understand data structure\n",
    "print(\"Dataset preview:\")\n",
    "print(df.head())\n",
    "\n",
    "# Step 1 (cont.): Select numeric features for anomaly detection\n",
    "# Replace these column names with your actual features\n",
    "features = ['packet_size', 'duration', 'source_bytes', 'destination_bytes']  \n",
    "\n",
    "X = df[features]\n",
    "\n",
    "# Step 2: Initialize and fit Isolation Forest\n",
    "iso_forest = IsolationForest(contamination=0.05, random_state=42)  # assume 5% anomalies expected\n",
    "df['anomaly'] = iso_forest.fit_predict(X)\n",
    "\n",
    "# Step 3: Display anomalies\n",
    "# anomaly = -1 indicates anomaly, 1 indicates normal\n",
    "anomalies = df[df['anomaly'] == -1]\n",
    "\n",
    "print(f\"Detected {len(anomalies)} anomalies in the network traffic data.\")\n",
    "\n",
    "print(\"Sample anomalies:\")\n",
    "print(anomalies.head())\n",
    "\n",
    "# Optional: Save anomalies to CSV for further analysis\n",
    "anomalies.to_csv('network_traffic_anomalies.csv', index=False)\n"
   ]
  }
 ],
 "metadata": {
  "kernelspec": {
   "display_name": "base",
   "language": "python",
   "name": "python3"
  },
  "language_info": {
   "name": "python",
   "version": "3.12.7"
  }
 },
 "nbformat": 4,
 "nbformat_minor": 2
}
