{
 "cells": [
  {
   "cell_type": "markdown",
   "metadata": {},
   "source": [
    "## Isolation Forest for Anomaly Detection\n",
    "**Objective**: Understand and apply the Isolation Forest algorithm to identify anomalies in datasets.\n",
    "\n",
    "### Task: Anomaly Detection in Financial Transactions\n",
    "**Steps**:\n",
    "1. Import Libraries\n",
    "2. Load Dataset\n",
    "3. Apply Isolation Forest\n",
    "4. Visualize Anomalies"
   ]
  },
  {
   "cell_type": "code",
   "execution_count": null,
   "metadata": {},
   "outputs": [],
   "source": [
    "# write your code from here\n",
    "# Step 1: Import Libraries\n",
    "import numpy as np\n",
    "import pandas as pd\n",
    "import matplotlib.pyplot as plt\n",
    "from sklearn.ensemble import IsolationForest\n",
    "from sklearn.preprocessing import StandardScaler\n",
    "\n",
    "# Step 2: Load Dataset\n",
    "# For demonstration, we will create a synthetic dataset representing financial transactions.\n",
    "# Assume two features: 'transaction_amount' and 'transaction_time'\n",
    "\n",
    "np.random.seed(42)\n",
    "normal_data = np.random.normal(loc=[50, 12], scale=[10, 3], size=(500, 2))  # normal transactions\n",
    "anomalies = np.random.uniform(low=[100, 0], high=[200, 24], size=(20, 2))    # anomalous transactions\n",
    "\n",
    "data = np.vstack([normal_data, anomalies])\n",
    "df = pd.DataFrame(data, columns=['transaction_amount', 'transaction_time'])\n",
    "\n",
    "# Step 3: Apply Isolation Forest\n",
    "\n",
    "# Scale features for better performance\n",
    "scaler = StandardScaler()\n",
    "X_scaled = scaler.fit_transform(df)\n",
    "\n",
    "# Initialize and fit Isolation Forest\n",
    "iso_forest = IsolationForest(contamination=0.04, random_state=42)\n",
    "df['anomaly'] = iso_forest.fit_predict(X_scaled)\n",
    "\n",
    "# anomaly = -1 indicates anomaly, 1 indicates normal\n",
    "df['anomaly_flag'] = df['anomaly'].apply(lambda x: 'Anomaly' if x == -1 else 'Normal')\n",
    "\n",
    "# Step 4: Visualize Anomalies\n",
    "plt.figure(figsize=(10, 6))\n",
    "plt.scatter(df['transaction_amount'], df['transaction_time'], c=(df['anomaly'] == -1), cmap='coolwarm', edgecolor='k', s=60)\n",
    "plt.title('Isolation Forest Anomaly Detection on Financial Transactions')\n",
    "plt.xlabel('Transaction Amount')\n",
    "plt.ylabel('Transaction Time')\n",
    "plt.colorbar(label='Anomaly')\n",
    "plt.show()\n"
   ]
  }
 ],
 "metadata": {
  "kernelspec": {
   "display_name": "base",
   "language": "python",
   "name": "python3"
  },
  "language_info": {
   "name": "python",
   "version": "3.12.7"
  }
 },
 "nbformat": 4,
 "nbformat_minor": 2
}
