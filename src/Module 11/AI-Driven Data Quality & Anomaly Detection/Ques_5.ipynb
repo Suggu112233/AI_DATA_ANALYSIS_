{
 "cells": [
  {
   "cell_type": "markdown",
   "metadata": {},
   "source": [
    "# Data Deduplication using Clustering\n",
    "**Objective**: Learn and implement data deduplication techniques.\n",
    "\n",
    "**Task**: Hierarchical Clustering for Deduplication\n",
    "\n",
    "**Steps**:\n",
    "1. Data Set: Obtain a dataset containing duplicate employee information.\n",
    "2. Perform Clustering: Use hierarchical agglomerative clustering to cluster the employee\n",
    "records.\n",
    "3. Evaluate Duplicates: Determine duplicates by analyzing the clusters formed.\n",
    "4. Clean Data: Remove duplicate employee records found during clustering."
   ]
  },
  {
   "cell_type": "code",
   "execution_count": 3,
   "metadata": {},
   "outputs": [
    {
     "data": {
      "image/png": "[encoded data removed]",
      "text/plain": [
       "<Figure size 1000x700 with 1 Axes>"
      ]
     },
     "metadata": {},
     "output_type": "display_data"
    },
    {
     "name": "stdout",
     "output_type": "stream",
     "text": [
      "Original Data:\n",
      "   EmployeeID           Name  Age  Salary  Cluster\n",
      "0           1       John Doe   28   70000        3\n",
      "1           2        Jon Doe   29   71000        3\n",
      "2           3     Jane Smith   34   80000        2\n",
      "3           4    Janet Smith   34   80000        2\n",
      "4           5     Mike Brown   45   90000        1\n",
      "5           6  Michael Brown   46   91000        1\n",
      "6           7       Anna Lee   30   60000        3\n",
      "\n",
      "Duplicates detected (indices): [5, 3, 1, 6]\n",
      "\n",
      "Data after deduplication:\n",
      "   EmployeeID        Name  Age  Salary  Cluster\n",
      "0           1    John Doe   28   70000        3\n",
      "2           3  Jane Smith   34   80000        2\n",
      "4           5  Mike Brown   45   90000        1\n"
     ]
    }
   ],
   "source": [
    "# write your code from here\n",
    "import pandas as pd\n",
    "import numpy as np\n",
    "from sklearn.preprocessing import StandardScaler\n",
    "from scipy.cluster.hierarchy import linkage, fcluster, dendrogram\n",
    "from scipy.spatial.distance import pdist\n",
    "import matplotlib.pyplot as plt\n",
    "\n",
    "# 1. Sample employee dataset with duplicates\n",
    "data = {\n",
    "    'EmployeeID': [1, 2, 3, 4, 5, 6, 7],\n",
    "    'Name': ['John Doe', 'Jon Doe', 'Jane Smith', 'Janet Smith', 'Mike Brown', 'Michael Brown', 'Anna Lee'],\n",
    "    'Age': [28, 29, 34, 34, 45, 46, 30],\n",
    "    'Salary': [70000, 71000, 80000, 80000, 90000, 91000, 60000]\n",
    "}\n",
    "\n",
    "df = pd.DataFrame(data)\n",
    "\n",
    "# For deduplication, use numerical features (Age, Salary)\n",
    "features = df[['Age', 'Salary']]\n",
    "\n",
    "# 2. Standardize features\n",
    "scaler = StandardScaler()\n",
    "features_scaled = scaler.fit_transform(features)\n",
    "\n",
    "# 3. Perform hierarchical agglomerative clustering\n",
    "# Using 'ward' linkage for clustering\n",
    "linked = linkage(features_scaled, method='ward')\n",
    "\n",
    "# Plot dendrogram (optional visualization)\n",
    "plt.figure(figsize=(10, 7))\n",
    "dendrogram(linked,\n",
    "           labels=df['EmployeeID'].values,\n",
    "           distance_sort='ascending')\n",
    "plt.title('Hierarchical Clustering Dendrogram')\n",
    "plt.xlabel('Employee ID')\n",
    "plt.ylabel('Distance')\n",
    "plt.show()\n",
    "\n",
    "# 4. Choose a threshold to form flat clusters (tune this threshold)\n",
    "threshold = 1.5  # Lower value means tighter clusters\n",
    "\n",
    "clusters = fcluster(linked, threshold, criterion='distance')\n",
    "df['Cluster'] = clusters\n",
    "\n",
    "# 5. Identify duplicates within each cluster\n",
    "# We assume duplicates are entries sharing the same cluster\n",
    "duplicates_indices = []\n",
    "\n",
    "for cluster_id in np.unique(clusters):\n",
    "    cluster_indices = df[df['Cluster'] == cluster_id].index.tolist()\n",
    "    if len(cluster_indices) > 1:\n",
    "        # Mark all except the first record in cluster as duplicate\n",
    "        duplicates_indices.extend(cluster_indices[1:])\n",
    "\n",
    "# 6. Remove duplicates\n",
    "df_deduplicated = df.drop(index=duplicates_indices)\n",
    "\n",
    "print(\"Original Data:\")\n",
    "print(df)\n",
    "\n",
    "print(\"\\nDuplicates detected (indices):\", duplicates_indices)\n",
    "\n",
    "print(\"\\nData after deduplication:\")\n",
    "print(df_deduplicated)\n",
    "\n",
    "\n"
   ]
  }
 ],
 "metadata": {
  "kernelspec": {
   "display_name": "Python 3",
   "language": "python",
   "name": "python3"
  },
  "language_info": {
   "codemirror_mode": {
    "name": "ipython",
    "version": 3
   },
   "file_extension": ".py",
   "mimetype": "text/x-python",
   "name": "python",
   "nbconvert_exporter": "python",
   "pygments_lexer": "ipython3",
   "version": "3.10.12"
  }
 },
 "nbformat": 4,
 "nbformat_minor": 2
}
