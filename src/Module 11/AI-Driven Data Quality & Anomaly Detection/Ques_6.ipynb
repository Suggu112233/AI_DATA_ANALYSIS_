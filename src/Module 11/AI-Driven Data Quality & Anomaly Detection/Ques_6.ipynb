{
 "cells": [
  {
   "cell_type": "markdown",
   "metadata": {},
   "source": [
    "# Data Deduplication using Clustering\n",
    "**Objective**: Learn and implement data deduplication techniques.\n",
    "\n",
    "**Task**: DBSCAN for Data Deduplication\n",
    "\n",
    "**Steps**:\n",
    "1. Data Set: Download a dataset containing duplicate entries for event registrations.\n",
    "2. DBSCAN Clustering: Apply the DBSCAN algorithm to cluster similar registrations.\n",
    "3. Identify Duplicates: Detect duplicates based on density of the clusters.\n",
    "4. Refinement: Validate clusters and remove any erroneous duplicates."
   ]
  },
  {
   "cell_type": "code",
   "execution_count": 1,
   "metadata": {},
   "outputs": [
    {
     "name": "stdout",
     "output_type": "stream",
     "text": [
      "Original Data:\n",
      "   RegistrationID            Name  Age  Email_Score  Cluster\n",
      "0               1     Alice Smith   28         0.90       -1\n",
      "1               2    Alicia Smith   29         0.92       -1\n",
      "2               3       Bob Jones   35         0.85        0\n",
      "3               4     Bobby Jones   34         0.86        0\n",
      "4               5     Carol White   42         0.95        1\n",
      "5               6  Caroline White   43         0.96        1\n",
      "6               7      Dave Green   31         0.88        2\n",
      "7               8     David Green   31         0.87        2\n",
      "\n",
      "Duplicates detected (indices): [3, 5, 7]\n",
      "\n",
      "Data after deduplication:\n",
      "   RegistrationID          Name  Age  Email_Score  Cluster\n",
      "0               1   Alice Smith   28         0.90       -1\n",
      "1               2  Alicia Smith   29         0.92       -1\n",
      "2               3     Bob Jones   35         0.85        0\n",
      "4               5   Carol White   42         0.95        1\n",
      "6               7    Dave Green   31         0.88        2\n"
     ]
    }
   ],
   "source": [
    "# write your code from here\n",
    "import pandas as pd\n",
    "import numpy as np\n",
    "from sklearn.preprocessing import StandardScaler\n",
    "from sklearn.cluster import DBSCAN\n",
    "\n",
    "# Step 1: Sample event registration data with duplicates\n",
    "data = {\n",
    "    'RegistrationID': [1, 2, 3, 4, 5, 6, 7, 8],\n",
    "    'Name': ['Alice Smith', 'Alicia Smith', 'Bob Jones', 'Bobby Jones', 'Carol White', 'Caroline White', 'Dave Green', 'David Green'],\n",
    "    'Age': [28, 29, 35, 34, 42, 43, 31, 31],\n",
    "    'Email_Score': [0.9, 0.92, 0.85, 0.86, 0.95, 0.96, 0.88, 0.87]  # Simulated similarity score of email or other features\n",
    "}\n",
    "\n",
    "df = pd.DataFrame(data)\n",
    "\n",
    "# Step 2: Preprocess features used for clustering\n",
    "# Use numerical features Age and Email_Score for clustering\n",
    "features = df[['Age', 'Email_Score']]\n",
    "\n",
    "# Standardize features\n",
    "scaler = StandardScaler()\n",
    "features_scaled = scaler.fit_transform(features)\n",
    "\n",
    "# Step 3: Apply DBSCAN clustering\n",
    "# eps: max distance between two samples to be considered neighbors\n",
    "# min_samples: minimum samples in a cluster\n",
    "dbscan = DBSCAN(eps=0.5, min_samples=2)\n",
    "df['Cluster'] = dbscan.fit_predict(features_scaled)\n",
    "\n",
    "# Step 4: Identify duplicates based on clusters\n",
    "# Cluster label -1 means noise (no cluster), others are clusters\n",
    "duplicates_indices = []\n",
    "\n",
    "for cluster_label in set(df['Cluster']):\n",
    "    if cluster_label == -1:\n",
    "        continue  # skip noise points\n",
    "    cluster_indices = df[df['Cluster'] == cluster_label].index.tolist()\n",
    "    if len(cluster_indices) > 1:\n",
    "        # Mark all except the first in the cluster as duplicates\n",
    "        duplicates_indices.extend(cluster_indices[1:])\n",
    "\n",
    "# Step 5: Remove duplicates\n",
    "df_deduplicated = df.drop(index=duplicates_indices)\n",
    "\n",
    "print(\"Original Data:\")\n",
    "print(df)\n",
    "\n",
    "print(\"\\nDuplicates detected (indices):\", duplicates_indices)\n",
    "\n",
    "print(\"\\nData after deduplication:\")\n",
    "print(df_deduplicated)\n"
   ]
  }
 ],
 "metadata": {
  "kernelspec": {
   "display_name": "Python 3",
   "language": "python",
   "name": "python3"
  },
  "language_info": {
   "codemirror_mode": {
    "name": "ipython",
    "version": 3
   },
   "file_extension": ".py",
   "mimetype": "text/x-python",
   "name": "python",
   "nbconvert_exporter": "python",
   "pygments_lexer": "ipython3",
   "version": "3.10.12"
  }
 },
 "nbformat": 4,
 "nbformat_minor": 2
}
