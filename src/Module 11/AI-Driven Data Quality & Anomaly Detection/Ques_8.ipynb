{
 "cells": [
  {
   "cell_type": "markdown",
   "metadata": {},
   "source": [
    "### Using NLP for Text Data Quality\n",
    "**Objective**: Enhance text data quality using NLP techniques.\n",
    "\n",
    "**Task**: Removing Stopwords\n",
    "\n",
    "**Steps**:\n",
    "1. Data Set: Use a dataset of text product descriptions.\n",
    "2. Stopword Removal: Utilize an NLP library (e.g., NLTK) to remove stopwords from the\n",
    "descriptions.\n",
    "3. Assess Impact: Examine the effectiveness by analyzing word frequency before and after\n",
    "removal."
   ]
  },
  {
   "cell_type": "code",
   "execution_count": 3,
   "metadata": {},
   "outputs": [
    {
     "ename": "ModuleNotFoundError",
     "evalue": "No module named 'nltk'",
     "output_type": "error",
     "traceback": [
      "\u001b[0;31m---------------------------------------------------------------------------\u001b[0m",
      "\u001b[0;31mModuleNotFoundError\u001b[0m                       Traceback (most recent call last)",
      "Cell \u001b[0;32mIn[3], line 3\u001b[0m\n\u001b[1;32m      1\u001b[0m \u001b[38;5;66;03m# write your code from here\u001b[39;00m\n\u001b[1;32m      2\u001b[0m \u001b[38;5;28;01mimport\u001b[39;00m\u001b[38;5;250m \u001b[39m\u001b[38;5;21;01mpandas\u001b[39;00m\u001b[38;5;250m \u001b[39m\u001b[38;5;28;01mas\u001b[39;00m\u001b[38;5;250m \u001b[39m\u001b[38;5;21;01mpd\u001b[39;00m\n\u001b[0;32m----> 3\u001b[0m \u001b[38;5;28;01mimport\u001b[39;00m\u001b[38;5;250m \u001b[39m\u001b[38;5;21;01mnltk\u001b[39;00m\n\u001b[1;32m      4\u001b[0m \u001b[38;5;28;01mfrom\u001b[39;00m\u001b[38;5;250m \u001b[39m\u001b[38;5;21;01mnltk\u001b[39;00m\u001b[38;5;21;01m.\u001b[39;00m\u001b[38;5;21;01mcorpus\u001b[39;00m\u001b[38;5;250m \u001b[39m\u001b[38;5;28;01mimport\u001b[39;00m stopwords\n\u001b[1;32m      5\u001b[0m \u001b[38;5;28;01mfrom\u001b[39;00m\u001b[38;5;250m \u001b[39m\u001b[38;5;21;01mcollections\u001b[39;00m\u001b[38;5;250m \u001b[39m\u001b[38;5;28;01mimport\u001b[39;00m Counter\n",
      "\u001b[0;31mModuleNotFoundError\u001b[0m: No module named 'nltk'"
     ]
    }
   ],
   "source": [
    "# write your code from here\n",
    "import pandas as pd\n",
    "import nltk\n",
    "from nltk.corpus import stopwords\n",
    "from collections import Counter\n",
    "import matplotlib.pyplot as plt\n",
    "\n",
    "# Step 1: Sample product descriptions\n",
    "data = {\n",
    "    'ProductID': [101, 102, 103],\n",
    "    'Description': [\n",
    "        \"This is a high-quality leather wallet with multiple compartments.\",\n",
    "        \"Elegant stainless steel wristwatch suitable for formal occasions.\",\n",
    "        \"Comfortable cotton t-shirt available in various sizes and colors.\"\n",
    "    ]\n",
    "}\n",
    "\n",
    "df = pd.DataFrame(data)\n",
    "\n",
    "# Download NLTK stopwords if not already downloaded\n",
    "nltk.download('stopwords')\n",
    "stop_words = set(stopwords.words('english'))\n",
    "\n",
    "# Tokenize and count word frequencies function\n",
    "def get_word_freq(text):\n",
    "    words = text.lower().split()\n",
    "    return Counter(words)\n",
    "\n",
    "# Step 2: Remove stopwords\n",
    "def remove_stopwords(text):\n",
    "    words = text.lower().split()\n",
    "    filtered_words = [word for word in words if word not in stop_words]\n",
    "    return ' '.join(filtered_words)\n",
    "\n",
    "# Word frequency before stopword removal\n",
    "all_text_before = ' '.join(df['Description'])\n",
    "freq_before = get_word_freq(all_text_before)\n",
    "\n",
    "# Remove stopwords from descriptions\n",
    "df['CleanedDescription'] = df['Description'].apply(remove_stopwords)\n",
    "\n",
    "# Word frequency after stopword removal\n",
    "all_text_after = ' '.join(df['CleanedDescription'])\n",
    "freq_after = get_word_freq(all_text_after)\n",
    "\n",
    "# Step 3: Compare top 10 words before and after\n",
    "print(\"Top 10 words BEFORE stopword removal:\")\n",
    "print(freq_before.most_common(10))\n",
    "\n",
    "print(\"\\nTop 10 words AFTER stopword removal:\")\n",
    "print(freq_after.most_common(10))\n",
    "\n",
    "# Optional: Plot word frequency comparison\n",
    "def plot_word_freq(freq_before, freq_after):\n",
    "    words_before, counts_before = zip(*freq_before.most_common(10))\n",
    "    words_after, counts_after = zip(*freq_after.most_common(10))\n",
    "    \n",
    "    fig, axes = plt.subplots(1, 2, figsize=(14,5))\n",
    "    \n",
    "    axes[0].bar(words_before, counts_before, color='skyblue')\n",
    "    axes[0].set_title('Top 10 Words Before Stopword Removal')\n",
    "    axes[0].tick_params(axis='x', rotation=45)\n",
    "    \n",
    "    axes[1].bar(words_after, counts_after, color='salmon')\n",
    "    axes[1].set_title('Top 10 Words After Stopword Removal')\n",
    "    axes[1].tick_params(axis='x', rotation=45)\n",
    "    \n",
    "    plt.tight_layout()\n",
    "    plt.show()\n",
    "\n",
    "plot_word_freq(freq_before, freq_after)\n",
    "\n"
   ]
  }
 ],
 "metadata": {
  "kernelspec": {
   "display_name": "Python 3",
   "language": "python",
   "name": "python3"
  },
  "language_info": {
   "codemirror_mode": {
    "name": "ipython",
    "version": 3
   },
   "file_extension": ".py",
   "mimetype": "text/x-python",
   "name": "python",
   "nbconvert_exporter": "python",
   "pygments_lexer": "ipython3",
   "version": "3.10.12"
  }
 },
 "nbformat": 4,
 "nbformat_minor": 2
}
