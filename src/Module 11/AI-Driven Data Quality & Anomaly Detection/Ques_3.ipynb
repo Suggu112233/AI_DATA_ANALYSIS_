{
 "cells": [
  {
   "cell_type": "markdown",
   "metadata": {},
   "source": [
    "# Automated Anomaly Detection\n",
    "**Objective**: Understand and practice automated anomaly detection using various techniques.\n",
    "\n",
    "**Task**: Autoencoders for Anomaly Detection\n",
    "\n",
    "**Steps**:\n",
    "1. Data Set: Download a dataset of electricity consumption data.\n",
    "2. Build an Autoencoder: Construct a simple autoencoder using a neural network for the\n",
    "normal consumption data.\n",
    "3. Identify Anomalies: Use the trained model to reconstruct the data and identify anomalies based on reconstruction error.\n",
    "4. Visualize: Plot both the actual and reconstructed data to highlight anomalies."
   ]
  },
  {
   "cell_type": "code",
   "execution_count": 3,
   "metadata": {},
   "outputs": [
    {
     "ename": "ModuleNotFoundError",
     "evalue": "No module named 'tensorflow'",
     "output_type": "error",
     "traceback": [
      "\u001b[0;31m---------------------------------------------------------------------------\u001b[0m",
      "\u001b[0;31mModuleNotFoundError\u001b[0m                       Traceback (most recent call last)",
      "Cell \u001b[0;32mIn[3], line 7\u001b[0m\n\u001b[1;32m      5\u001b[0m \u001b[38;5;28;01mimport\u001b[39;00m\u001b[38;5;250m \u001b[39m\u001b[38;5;21;01mmatplotlib\u001b[39;00m\u001b[38;5;21;01m.\u001b[39;00m\u001b[38;5;21;01mpyplot\u001b[39;00m\u001b[38;5;250m \u001b[39m\u001b[38;5;28;01mas\u001b[39;00m\u001b[38;5;250m \u001b[39m\u001b[38;5;21;01mplt\u001b[39;00m\n\u001b[1;32m      6\u001b[0m \u001b[38;5;28;01mfrom\u001b[39;00m\u001b[38;5;250m \u001b[39m\u001b[38;5;21;01msklearn\u001b[39;00m\u001b[38;5;21;01m.\u001b[39;00m\u001b[38;5;21;01mpreprocessing\u001b[39;00m\u001b[38;5;250m \u001b[39m\u001b[38;5;28;01mimport\u001b[39;00m MinMaxScaler\n\u001b[0;32m----> 7\u001b[0m \u001b[38;5;28;01mfrom\u001b[39;00m\u001b[38;5;250m \u001b[39m\u001b[38;5;21;01mtensorflow\u001b[39;00m\u001b[38;5;21;01m.\u001b[39;00m\u001b[38;5;21;01mkeras\u001b[39;00m\u001b[38;5;21;01m.\u001b[39;00m\u001b[38;5;21;01mmodels\u001b[39;00m\u001b[38;5;250m \u001b[39m\u001b[38;5;28;01mimport\u001b[39;00m Model\n\u001b[1;32m      8\u001b[0m \u001b[38;5;28;01mfrom\u001b[39;00m\u001b[38;5;250m \u001b[39m\u001b[38;5;21;01mtensorflow\u001b[39;00m\u001b[38;5;21;01m.\u001b[39;00m\u001b[38;5;21;01mkeras\u001b[39;00m\u001b[38;5;21;01m.\u001b[39;00m\u001b[38;5;21;01mlayers\u001b[39;00m\u001b[38;5;250m \u001b[39m\u001b[38;5;28;01mimport\u001b[39;00m Input, Dense\n\u001b[1;32m      9\u001b[0m \u001b[38;5;28;01mfrom\u001b[39;00m\u001b[38;5;250m \u001b[39m\u001b[38;5;21;01mtensorflow\u001b[39;00m\u001b[38;5;21;01m.\u001b[39;00m\u001b[38;5;21;01mkeras\u001b[39;00m\u001b[38;5;250m \u001b[39m\u001b[38;5;28;01mimport\u001b[39;00m regularizers\n",
      "\u001b[0;31mModuleNotFoundError\u001b[0m: No module named 'tensorflow'"
     ]
    }
   ],
   "source": [
    "# write your code from here\n",
    "\n",
    "import numpy as np\n",
    "import pandas as pd\n",
    "import matplotlib.pyplot as plt\n",
    "from sklearn.preprocessing import MinMaxScaler\n",
    "from tensorflow.keras.models import Model\n",
    "from tensorflow.keras.layers import Input, Dense\n",
    "from tensorflow.keras import regularizers\n",
    "\n",
    "# 1. Simulate or Load Electricity Consumption Data\n",
    "# For demo, simulate normal consumption with anomalies\n",
    "np.random.seed(42)\n",
    "time_steps = 200\n",
    "# Normal consumption around 100 with small noise\n",
    "data_normal = np.random.normal(loc=100, scale=5, size=time_steps)\n",
    "\n",
    "# Inject anomalies\n",
    "data_normal[50] = 150  # High spike anomaly\n",
    "data_normal[120] = 30  # Low dip anomaly\n",
    "data_normal[180] = 160 # High spike anomaly\n",
    "\n",
    "df = pd.DataFrame({'Consumption': data_normal})\n",
    "\n",
    "# 2. Preprocess: Scale data to [0,1]\n",
    "scaler = MinMaxScaler()\n",
    "data_scaled = scaler.fit_transform(df)\n",
    "\n",
    "# 3. Build Autoencoder Model\n",
    "input_dim = data_scaled.shape[1]  # 1 feature\n",
    "encoding_dim = 8  # size of encoded representation\n",
    "\n",
    "input_layer = Input(shape=(input_dim,))\n",
    "# Encoder\n",
    "encoded = Dense(encoding_dim, activation='relu',\n",
    "                activity_regularizer=regularizers.l1(1e-5))(input_layer)\n",
    "encoded = Dense(4, activation='relu')(encoded)\n",
    "# Decoder\n",
    "decoded = Dense(encoding_dim, activation='relu')(encoded)\n",
    "decoded = Dense(input_dim, activation='sigmoid')(decoded)\n",
    "\n",
    "autoencoder = Model(inputs=input_layer, outputs=decoded)\n",
    "autoencoder.compile(optimizer='adam', loss='mse')\n",
    "\n",
    "# 4. Train Autoencoder on normal data (here full dataset, in real case train only on normal)\n",
    "history = autoencoder.fit(data_scaled, data_scaled,\n",
    "                          epochs=100,\n",
    "                          batch_size=16,\n",
    "                          shuffle=True,\n",
    "                          validation_split=0.1,\n",
    "                          verbose=0)\n",
    "\n",
    "# 5. Use autoencoder to reconstruct and calculate reconstruction error\n",
    "reconstructions = autoencoder.predict(data_scaled)\n",
    "mse = np.mean(np.power(data_scaled - reconstructions, 2), axis=1)\n",
    "\n",
    "# 6. Detect anomalies based on reconstruction error threshold\n",
    "threshold = np.percentile(mse, 95)  # set threshold at 95th percentile\n",
    "df['reconstruction_error'] = mse\n",
    "df['anomaly'] = mse > threshold\n",
    "\n",
    "# 7. Plot original vs reconstructed with anomalies highlighted\n",
    "plt.figure(figsize=(14,6))\n",
    "plt.plot(df.index, scaler.inverse_transform(data_scaled), label='Original Consumption')\n",
    "plt.plot(df.index, scaler.inverse_transform(reconstructions), label='Reconstructed Consumption')\n",
    "plt.scatter(df.index[df['anomaly']], scaler.inverse_transform(data_scaled)[df['anomaly']], color='red', label='Anomalies', s=100)\n",
    "plt.title('Electricity Consumption - Autoencoder Anomaly Detection')\n",
    "plt.xlabel('Time Step')\n",
    "plt.ylabel('Consumption')\n",
    "plt.legend()\n",
    "plt.grid(True)\n",
    "plt.show()\n",
    "\n",
    "# Optional: print anomalies\n",
    "print(\"Anomalies detected at indices:\")\n",
    "print(df[df['anomaly']])\n"
   ]
  }
 ],
 "metadata": {
  "kernelspec": {
   "display_name": "Python 3",
   "language": "python",
   "name": "python3"
  },
  "language_info": {
   "codemirror_mode": {
    "name": "ipython",
    "version": 3
   },
   "file_extension": ".py",
   "mimetype": "text/x-python",
   "name": "python",
   "nbconvert_exporter": "python",
   "pygments_lexer": "ipython3",
   "version": "3.10.12"
  }
 },
 "nbformat": 4,
 "nbformat_minor": 2
}
