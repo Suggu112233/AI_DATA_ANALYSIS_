{
 "cells": [
  {
   "cell_type": "markdown",
   "metadata": {},
   "source": [
    "# Data Deduplication using Clustering\n",
    "**Objective**: Learn and implement data deduplication techniques.\n",
    "\n",
    "**Task**: Deduplication Using K-means Clustering\n",
    "\n",
    "**Steps**:\n",
    "1. Data Set: Download a dataset containing duplicate customer records.\n",
    "2. Preprocess: Standardize the data to ensure better clustering.\n",
    "3. Apply K-means: Use K-means clustering to find and group similar customer records.\n",
    "4. Identify Duplicates: Identify and remove duplicates within clusters."
   ]
  },
  {
   "cell_type": "code",
   "execution_count": 6,
   "metadata": {},
   "outputs": [
    {
     "name": "stdout",
     "output_type": "stream",
     "text": [
      "Original Data:\n",
      "   CustomerID      Name  Age  Income  Cluster\n",
      "0           1     Alice   25   50000        2\n",
      "1           2    Alicia   26   51000        2\n",
      "2           3       Bob   35   60000        0\n",
      "3           4     Bobby   34   61000        0\n",
      "4           5     Carol   45   80000        1\n",
      "5           6  Caroline   46   79000        1\n",
      "6           7      Dave   30   40000        2\n",
      "\n",
      "Duplicates detected at indices: {1, 3, 5}\n",
      "\n",
      "Data after deduplication:\n",
      "   CustomerID   Name  Age  Income  Cluster\n",
      "0           1  Alice   25   50000        2\n",
      "2           3    Bob   35   60000        0\n",
      "4           5  Carol   45   80000        1\n",
      "6           7   Dave   30   40000        2\n"
     ]
    }
   ],
   "source": [
    "# write your code from here\n",
    "import pandas as pd\n",
    "import numpy as np\n",
    "from sklearn.preprocessing import StandardScaler\n",
    "from sklearn.cluster import KMeans\n",
    "\n",
    "# 1. Sample Data: Simulate customer records with duplicates\n",
    "data = {\n",
    "    'CustomerID': [1, 2, 3, 4, 5, 6, 7],\n",
    "    'Name': ['Alice', 'Alicia', 'Bob', 'Bobby', 'Carol', 'Caroline', 'Dave'],\n",
    "    'Age': [25, 26, 35, 34, 45, 46, 30],\n",
    "    'Income': [50000, 51000, 60000, 61000, 80000, 79000, 40000]\n",
    "}\n",
    "\n",
    "df = pd.DataFrame(data)\n",
    "\n",
    "# For deduplication, we consider numerical features Age and Income\n",
    "features = df[['Age', 'Income']]\n",
    "\n",
    "# 2. Preprocess: Standardize the data\n",
    "scaler = StandardScaler()\n",
    "features_scaled = scaler.fit_transform(features)\n",
    "\n",
    "# 3. Apply K-means clustering to group similar records\n",
    "# Number of clusters is an assumption; here 3\n",
    "kmeans = KMeans(n_clusters=3, random_state=42)\n",
    "df['Cluster'] = kmeans.fit_predict(features_scaled)\n",
    "\n",
    "# 4. Identify duplicates within each cluster\n",
    "# We consider duplicates as records within the same cluster that have very similar features\n",
    "# Define a threshold for Euclidean distance within cluster to flag duplicates\n",
    "\n",
    "from scipy.spatial.distance import cdist\n",
    "\n",
    "duplicates_indices = set()\n",
    "\n",
    "for cluster_label in df['Cluster'].unique():\n",
    "    cluster_data = df[df['Cluster'] == cluster_label]\n",
    "    cluster_features = features_scaled[cluster_data.index]\n",
    "    \n",
    "    # Calculate pairwise distances within cluster\n",
    "    distances = cdist(cluster_features, cluster_features, metric='euclidean')\n",
    "    \n",
    "    # Mark pairs with distance less than threshold as duplicates\n",
    "    threshold = 0.5  # Tune this threshold based on data\n",
    "    for i in range(len(cluster_data)):\n",
    "        for j in range(i + 1, len(cluster_data)):\n",
    "            if distances[i, j] < threshold:\n",
    "                # Mark the record with higher index as duplicate\n",
    "                duplicates_indices.add(cluster_data.index[j])\n",
    "\n",
    "# Remove duplicates\n",
    "df_deduplicated = df.drop(index=duplicates_indices)\n",
    "\n",
    "print(\"Original Data:\")\n",
    "print(df)\n",
    "print(\"\\nDuplicates detected at indices:\", duplicates_indices)\n",
    "print(\"\\nData after deduplication:\")\n",
    "print(df_deduplicated)\n",
    "\n"
   ]
  }
 ],
 "metadata": {
  "kernelspec": {
   "display_name": "Python 3",
   "language": "python",
   "name": "python3"
  },
  "language_info": {
   "codemirror_mode": {
    "name": "ipython",
    "version": 3
   },
   "file_extension": ".py",
   "mimetype": "text/x-python",
   "name": "python",
   "nbconvert_exporter": "python",
   "pygments_lexer": "ipython3",
   "version": "3.10.12"
  }
 },
 "nbformat": 4,
 "nbformat_minor": 2
}
