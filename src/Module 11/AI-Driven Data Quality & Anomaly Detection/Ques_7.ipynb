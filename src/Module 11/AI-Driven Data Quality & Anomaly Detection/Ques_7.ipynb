{
 "cells": [
  {
   "cell_type": "markdown",
   "metadata": {},
   "source": [
    "### Using NLP for Text Data Quality\n",
    "**Objective**: Enhance text data quality using NLP techniques.\n",
    "\n",
    "**Task**: Handling Noisy Text Data\n",
    "\n",
    "**Steps**:\n",
    "1. Data Set: Obtain a dataset with customer reviews containing noise (e.g., random characters).\n",
    "2. Clean Data: Use regex patterns to clean the noise from text data.\n",
    "3. Evaluate: Compare the text before and after cleaning for noise."
   ]
  },
  {
   "cell_type": "code",
   "execution_count": 6,
   "metadata": {},
   "outputs": [
    {
     "name": "stdout",
     "output_type": "stream",
     "text": [
      "Original Review [1]: Great product!!! $$$ Loved it :) #awesome123\n",
      "Cleaned Review  [1]: Great product!!! Loved it awesome123\n",
      "------------------------------------------------------------\n",
      "Original Review [2]: Terrible service...!!! #### Will not buy again!!!\n",
      "Cleaned Review  [2]: Terrible service...!!! Will not buy again!!!\n",
      "------------------------------------------------------------\n",
      "Original Review [3]: Good value for $$$ money!!! But shipping was slow...##\n",
      "Cleaned Review  [3]: Good value for money!!! But shipping was slow...\n",
      "------------------------------------------------------------\n",
      "Original Review [4]: ??? Worst experience ever!!! Call 123-456-7890!!!\n",
      "Cleaned Review  [4]: ??? Worst experience ever!!! Call 1234567890!!!\n",
      "------------------------------------------------------------\n"
     ]
    }
   ],
   "source": [
    "# write your code from here\n",
    "\n",
    "import pandas as pd\n",
    "import re\n",
    "\n",
    "# Step 1: Sample noisy customer reviews\n",
    "data = {\n",
    "    'ReviewID': [1, 2, 3, 4],\n",
    "    'ReviewText': [\n",
    "        \"Great product!!! $$$ Loved it :) #awesome123\",\n",
    "        \"Terrible service...!!! #### Will not buy again!!!\",\n",
    "        \"Good value for $$$ money!!! But shipping was slow...##\",\n",
    "        \"??? Worst experience ever!!! Call 123-456-7890!!!\"\n",
    "    ]\n",
    "}\n",
    "\n",
    "df = pd.DataFrame(data)\n",
    "\n",
    "# Function to clean noisy text using regex\n",
    "def clean_text(text):\n",
    "    # Remove special characters except basic punctuation and letters/numbers\n",
    "    text = re.sub(r'[^a-zA-Z0-9\\s,.!?]', '', text)\n",
    "    # Replace multiple spaces with single space\n",
    "    text = re.sub(r'\\s+', ' ', text)\n",
    "    # Strip leading/trailing spaces\n",
    "    return text.strip()\n",
    "\n",
    "# Step 2: Clean the reviews\n",
    "df['CleanedReview'] = df['ReviewText'].apply(clean_text)\n",
    "\n",
    "# Step 3: Evaluate before and after cleaning\n",
    "for i, row in df.iterrows():\n",
    "    print(f\"Original Review [{row['ReviewID']}]: {row['ReviewText']}\")\n",
    "    print(f\"Cleaned Review  [{row['ReviewID']}]: {row['CleanedReview']}\")\n",
    "    print(\"-\" * 60)\n"
   ]
  }
 ],
 "metadata": {
  "kernelspec": {
   "display_name": "Python 3",
   "language": "python",
   "name": "python3"
  },
  "language_info": {
   "codemirror_mode": {
    "name": "ipython",
    "version": 3
   },
   "file_extension": ".py",
   "mimetype": "text/x-python",
   "name": "python",
   "nbconvert_exporter": "python",
   "pygments_lexer": "ipython3",
   "version": "3.10.12"
  }
 },
 "nbformat": 4,
 "nbformat_minor": 2
}
