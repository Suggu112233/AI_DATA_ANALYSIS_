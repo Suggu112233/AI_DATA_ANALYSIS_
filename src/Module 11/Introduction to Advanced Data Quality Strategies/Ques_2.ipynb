{
 "cells": [
  {
   "cell_type": "markdown",
   "metadata": {},
   "source": [
    "### Handling Unstructured Data with Python\n",
    "**Description**: Extract structured data from unstructured text using Python.\n",
    "\n",
    "**Steps**:\n",
    "1. Load and analyze an unstructured text document.\n",
    "2. Extract information using regex."
   ]
  },
  {
   "cell_type": "code",
   "execution_count": null,
   "metadata": {},
   "outputs": [],
   "source": [
    "# write your code from here\n",
    "import re\n",
    "\n",
    "# Step 1: Load and Read the Unstructured Text File\n",
    "with open('data.txt', 'r') as file:\n",
    "    text_data = file.read()\n",
    "\n",
    "# Step 2: Define Regular Expression Patterns\n",
    "name_pattern = r\"Name:\\s*(.+)\"\n",
    "email_pattern = r\"Email:\\s*([\\w\\.-]+@[\\w\\.-]+\\.\\w+)\"\n",
    "phone_pattern = r\"Phone:\\s*([\\(\\)\\d\\-\\s]+)\"\n",
    "date_pattern = r\"Joined:\\s*([A-Za-z]+\\s\\d{1,2},\\s\\d{4})\"\n",
    "\n",
    "# Step 3: Extract Data Using Regex\n",
    "names = re.findall(name_pattern, text_data)\n",
    "emails = re.findall(email_pattern, text_data)\n",
    "phones = re.findall(phone_pattern, text_data)\n",
    "dates = re.findall(date_pattern, text_data)\n",
    "\n",
    "# Step 4: Combine Extracted Data into Structured Format\n",
    "extracted_data = list(zip(names, emails, phones, dates))\n",
    "\n",
    "# Step 5: Display Results\n",
    "print(\"Extracted Structured Data:\\n\")\n",
    "for i, (name, email, phone, date) in enumerate(extracted_data, 1):\n",
    "    print(f\"Record {i}:\")\n",
    "\n",
    "\n"
   ]
  }
 ],
 "metadata": {
  "kernelspec": {
   "display_name": "base",
   "language": "python",
   "name": "python3"
  },
  "language_info": {
   "name": "python",
   "version": "3.12.7"
  }
 },
 "nbformat": 4,
 "nbformat_minor": 2
}
