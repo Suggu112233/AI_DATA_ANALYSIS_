{
 "cells": [
  {
   "cell_type": "markdown",
   "metadata": {},
   "source": [
    "### Machine Learning for Data Quality Prediction\n",
    "**Description**: Use a machine learning model to predict data quality issues.\n",
    "\n",
    "**Steps**:\n",
    "1. Create a mock dataset with features and label (quality issue/label: 0: good, 1: issue).\n",
    "2. Train a machine learning model.\n",
    "3. Evaluate the model performance."
   ]
  },
  {
   "cell_type": "code",
   "execution_count": null,
   "metadata": {},
   "outputs": [],
   "source": [
    "# write your code from here\n",
    "import pandas as pd\n",
    "import numpy as np\n",
    "from sklearn.model_selection import train_test_split\n",
    "from sklearn.ensemble import RandomForestClassifier\n",
    "from sklearn.metrics import classification_report, confusion_matrix, accuracy_score\n",
    "import seaborn as sns\n",
    "import matplotlib.pyplot as plt\n",
    "\n",
    "# Step 1: Create a Mock Dataset\n",
    "np.random.seed(42)\n",
    "data_size = 500\n",
    "\n",
    "# Simulated features\n",
    "data = pd.DataFrame({\n",
    "    \"missing_values_ratio\": np.random.rand(data_size),                   # % of missing values\n",
    "    \"duplicates_count\": np.random.randint(0, 100, size=data_size),       # number of duplicates\n",
    "    \"inconsistent_format_ratio\": np.random.rand(data_size),             # % of inconsistent formatting\n",
    "    \"outlier_score\": np.random.rand(data_size),                         # outlier score (e.g., from isolation forest)\n",
    "    \"quality_label\": np.random.choice([0, 1], size=data_size, p=[0.7, 0.3])  # 0: good, 1: issue\n",
    "})\n",
    "\n",
    "# Step 2: Train a Machine Learning Model\n",
    "X = data.drop(\"quality_label\", axis=1)\n",
    "y = data[\"quality_label\"]\n",
    "\n",
    "X_train, X_test, y_train, y_test = train_test_split(X, y, test_size=0.2, random_state=42)\n",
    "\n",
    "model = RandomForestClassifier(n_estimators=100, random_state=42)\n",
    "model.fit(X_train, y_train)\n",
    "\n",
    "# Step 3: Evaluate the Model Performance\n",
    "y_pred = model.predict(X_test)\n",
    "\n",
    "# Accuracy & classification report\n",
    "print(\"Accuracy:\", accuracy_score(y_test, y_pred))\n",
    "print(\"\\nClassification Report:\\n\", classification_report(y_test, y_pred))\n",
    "\n",
    "# Confusion Matrix\n",
    "conf_matrix = confusion_matrix(y_test, y_pred)\n",
    "\n",
    "plt.figure(figsize=(6, 4))\n",
    "sns.heatmap(conf_matrix, annot=True, fmt=\"d\", cmap=\"Blues\", xticklabels=[\"Good\", \"Issue\"], yticklabels=[\"Good\", \"Issue\"])\n",
    "plt.title(\"Confusion Matrix\")\n",
    "plt.xlabel(\"Predicted\")\n",
    "plt.ylabel(\"Actual\")\n",
    "plt.show()\n",
    "\n"
   ]
  }
 ],
 "metadata": {
  "kernelspec": {
   "display_name": "base",
   "language": "python",
   "name": "python3"
  },
  "language_info": {
   "name": "python",
   "version": "3.12.7"
  }
 },
 "nbformat": 4,
 "nbformat_minor": 2
}
