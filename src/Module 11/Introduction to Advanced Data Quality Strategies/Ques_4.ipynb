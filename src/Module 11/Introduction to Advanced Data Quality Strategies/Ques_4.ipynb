{
 "cells": [
  {
   "cell_type": "markdown",
   "metadata": {},
   "source": [
    "## AI & Machine Learning for Data Quality\n",
    "**Description**: AI and machine learning can automate and enhance data quality checks by learning patterns and identifying anomalies more effectively than static rules.\n",
    "\n",
    "**Task 1**: Training a model to predict and flag unusual trend patterns in sales data that\n",
    "deviate from historical norms."
   ]
  },
  {
   "cell_type": "code",
   "execution_count": null,
   "metadata": {},
   "outputs": [],
   "source": [
    "# write your code from here\n"
   ]
  },
  {
   "cell_type": "markdown",
   "metadata": {},
   "source": [
    "**Task 2**: Using clustering algorithms to detect duplicate records where entries are not\n",
    "exactly identical."
   ]
  },
  {
   "cell_type": "code",
   "execution_count": null,
   "metadata": {},
   "outputs": [],
   "source": [
    "# write your code from here"
   ]
  },
  {
   "cell_type": "markdown",
   "metadata": {},
   "source": [
    "**Task 3**: Implementing classification models to validate data based on learned\n",
    "characteristics from labeled datasets."
   ]
  },
  {
   "cell_type": "code",
   "execution_count": null,
   "metadata": {},
   "outputs": [],
   "source": [
    "import pandas as pd\n",
    "import numpy as np\n",
    "from sklearn.ensemble import IsolationForest, RandomForestClassifier\n",
    "from sklearn.cluster import DBSCAN\n",
    "from sklearn.model_selection import train_test_split\n",
    "from sklearn.metrics import classification_report, accuracy_score\n",
    "from sklearn.preprocessing import StandardScaler\n",
    "import matplotlib.pyplot as plt\n",
    "import seaborn as sns\n",
    "\n",
    "# ---------------------------\n",
    "# Task 1: Detecting Unusual Trends in Sales Data (Anomaly Detection)\n",
    "# ---------------------------\n",
    "\n",
    "# Create mock sales data\n",
    "np.random.seed(0)\n",
    "days = pd.date_range(\"2023-01-01\", periods=180)\n",
    "sales = np.random.normal(loc=200, scale=20, size=180)\n",
    "# Inject some anomalies\n",
    "sales[30] = 400\n",
    "sales[100] = 50\n",
    "sales[150] = 350\n",
    "\n",
    "sales_data = pd.DataFrame({\"date\": days, \"sales\": sales})\n",
    "\n",
    "# Anomaly detection using Isolation Forest\n",
    "iso_model = IsolationForest(contamination=0.03, random_state=42)\n",
    "sales_data['anomaly'] = iso_model.fit_predict(sales_data[['sales']])\n",
    "sales_data['anomaly'] = sales_data['anomaly'].map({1: 0, -1: 1})  # 1 = anomaly\n",
    "\n",
    "# Plot sales with anomalies\n",
    "plt.figure(figsize=(12, 4))\n",
    "plt.plot(sales_data['date'], sales_data['sales'], label='Sales')\n",
    "plt.scatter(sales_data[sales_data['anomaly'] == 1]['date'],\n",
    "            sales_data[sales_data['anomaly'] == 1]['sales'],\n",
    "            color='red', label='Anomaly')\n",
    "plt.title(\"Sales Data with Detected Anomalies\")\n",
    "plt.xlabel(\"Date\")\n",
    "plt.ylabel(\"Sales\")\n",
    "plt.legend()\n",
    "plt.tight_layout()\n",
    "plt.show()\n",
    "\n",
    "# ---------------------------\n",
    "# Task 2: Clustering for Duplicate Detection (Fuzzy Matching with Clustering)\n",
    "# ---------------------------\n",
    "\n",
    "# Create mock customer records with slight variations\n",
    "records = pd.DataFrame({\n",
    "    'name': ['John Smith', 'Jon Smith', 'Jane Smythe', 'Jane Smith', 'J. Smith', 'Jake Doe'],\n",
    "    'email': ['john@example.com', 'jon@example.com', 'jane@sample.com', 'jane@sample.com', 'j.smith@sample.com', 'jake@site.com']\n",
    "})\n",
    "\n",
    "# Vectorize names using character-level TF-IDF (simple simulation using ASCII values)\n",
    "def simple_vectorizer(name):\n",
    "    return [ord(c) for c in name.lower() if c.isalnum()]\n",
    "\n",
    "name_vectors = np.array([np.pad(simple_vectorizer(n), (0, 15), mode='constant')[:15] for n in records['name']])\n",
    "\n",
    "# Normalize and cluster\n",
    "scaler = StandardScaler()\n",
    "X_scaled = scaler.fit_transform(name_vectors)\n",
    "\n",
    "cluster_model = DBSCAN(eps=1.5, min_samples=1)\n",
    "clusters = cluster_model.fit_predict(X_scaled)\n",
    "\n",
    "records['cluster'] = clusters\n",
    "\n",
    "print(\"\\nDetected Duplicate Groups (Clusters):\")\n",
    "print(records)\n",
    "\n",
    "# ---------------------------\n",
    "# Task 3: Classification to Validate Data\n",
    "# ---------------------------\n",
    "\n",
    "# Create mock dataset with labels for 'valid' or 'invalid' entries\n",
    "np.random.seed(42)\n",
    "df = pd.DataFrame({\n",
    "    'missing_ratio': np.random.rand(300),\n",
    "    'outlier_score': np.random.rand(300),\n",
    "    'type_mismatch': np.random.randint(0, 2, size=300),\n",
    "    'label': np.random.choice([0, 1], size=300, p=[0.8, 0.2])  # 0: valid, 1: invalid\n",
    "})\n",
    "\n",
    "X = df.drop('label', axis=1)\n",
    "y = df['label']\n",
    "\n",
    "X_train, X_test, y_train, y_test = train_test_split(X, y, test_size=0.2, random_state=42)\n",
    "\n",
    "clf = RandomForestClassifier(n_estimators=100, random_state=42)\n",
    "clf.fit(X_train, y_train)\n",
    "\n",
    "y_pred = clf.predict(X_test)\n",
    "\n",
    "print(\"\\nClassification Report (Valid vs Invalid Records):\")\n",
    "print(classification_report(y_test, y_pred))\n",
    "print(\"Accuracy:\", accuracy_score(y_test, y_pred))\n"
   ]
  },
  {
   "cell_type": "code",
   "execution_count": null,
   "metadata": {},
   "outputs": [],
   "source": [
    "# write your code from here\n"
   ]
  }
 ],
 "metadata": {
  "kernelspec": {
   "display_name": "base",
   "language": "python",
   "name": "python3"
  },
  "language_info": {
   "name": "python",
   "version": "3.12.7"
  }
 },
 "nbformat": 4,
 "nbformat_minor": 2
}
