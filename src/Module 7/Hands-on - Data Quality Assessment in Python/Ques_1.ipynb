{
 "cells": [
  {
   "cell_type": "markdown",
   "metadata": {},
   "source": [
    "**Task 1**: Checking Null Values for Completeness\n",
    "\n",
    "**Description**: Verify if there are any null values in a dataset, which indicate incomplete data."
   ]
  },
  {
   "cell_type": "code",
   "execution_count": 1,
   "metadata": {},
   "outputs": [
    {
     "name": "stdout",
     "output_type": "stream",
     "text": [
      "Null values count per column:\n",
      "Name      1\n",
      "Age       1\n",
      "Salary    1\n",
      "dtype: int64\n",
      "\n",
      "The dataset contains missing values.\n"
     ]
    }
   ],
   "source": [
    "# Write your code from here\n",
    "import pandas as pd\n",
    "\n",
    "# Example: Load your dataset (replace 'your_dataset.csv' with your actual file)\n",
    "# data = pd.read_csv('your_dataset.csv')\n",
    "\n",
    "# For demonstration, let's create a sample dataframe with some nulls\n",
    "data = pd.DataFrame({\n",
    "    'Name': ['Alice', 'Bob', None, 'David'],\n",
    "    'Age': [25, None, 30, 22],\n",
    "    'Salary': [50000, 60000, 55000, None]\n",
    "})\n",
    "\n",
    "# Check for null values in each column\n",
    "null_counts = data.isnull().sum()\n",
    "\n",
    "print(\"Null values count per column:\")\n",
    "print(null_counts)\n",
    "\n",
    "# Check if dataset has any null values overall\n",
    "if data.isnull().values.any():\n",
    "    print(\"\\nThe dataset contains missing values.\")\n",
    "else:\n",
    "    print(\"\\nThe dataset has no missing values.\")\n"
   ]
  },
  {
   "cell_type": "markdown",
   "metadata": {},
   "source": [
    "**Task 2**: Checking Data Type Validity\n",
    "\n",
    "**Description**: Ensure that columns contain data of expected types, e.g., ages are integers."
   ]
  },
  {
   "cell_type": "code",
   "execution_count": 2,
   "metadata": {},
   "outputs": [
    {
     "name": "stdout",
     "output_type": "stream",
     "text": [
      "Current data types:\n",
      "Name       object\n",
      "Age        object\n",
      "Salary    float64\n",
      "dtype: object\n",
      "Column 'Age' contains values that cannot be converted to <class 'int'>.\n"
     ]
    }
   ],
   "source": [
    "# Write your code from here\n",
    "import pandas as pd\n",
    "\n",
    "# Example dataset with mixed types\n",
    "data = pd.DataFrame({\n",
    "    'Name': ['Alice', 'Bob', 'Charlie'],\n",
    "    'Age': [25, 'Thirty', 30],   # 'Thirty' is invalid for age\n",
    "    'Salary': [50000.0, 60000.0, 55000.0]\n",
    "})\n",
    "\n",
    "# Check current data types\n",
    "print(\"Current data types:\")\n",
    "print(data.dtypes)\n",
    "\n",
    "# Function to validate if a column can be converted to a specific type\n",
    "def validate_column_type(df, column, expected_type):\n",
    "    try:\n",
    "        # Attempt conversion\n",
    "        converted = df[column].astype(expected_type)\n",
    "        print(f\"Column '{column}' can be converted to {expected_type}.\")\n",
    "    except ValueError:\n",
    "        print(f\"Column '{column}' contains values that cannot be converted to {expected_type}.\")\n",
    "\n",
    "# Validate Age column for integer type\n",
    "validate_column_type(data, 'Age', int)\n"
   ]
  },
  {
   "cell_type": "markdown",
   "metadata": {},
   "source": [
    "**Task 3**: Verify Uniqueness of Identifiers\n",
    "\n",
    "**Description**: Check if a dataset has unique identifiers (e.g., emails)."
   ]
  },
  {
   "cell_type": "code",
   "execution_count": 3,
   "metadata": {},
   "outputs": [
    {
     "name": "stdout",
     "output_type": "stream",
     "text": [
      "Duplicate rows based on 'Email':\n",
      "               Email    Name\n",
      "2  alice@example.com  Alice2\n",
      "There are duplicate emails in the dataset.\n"
     ]
    }
   ],
   "source": [
    "# Write your code from here\n",
    "import pandas as pd\n",
    "\n",
    "# Sample data with emails\n",
    "data = pd.DataFrame({\n",
    "    'Email': ['alice@example.com', 'bob@example.com', 'alice@example.com', 'charlie@example.com'],\n",
    "    'Name': ['Alice', 'Bob', 'Alice2', 'Charlie']\n",
    "})\n",
    "\n",
    "# Check for duplicates in the identifier column\n",
    "duplicates = data['Email'].duplicated()\n",
    "\n",
    "print(\"Duplicate rows based on 'Email':\")\n",
    "print(data[duplicates])\n",
    "\n",
    "# Check if all identifiers are unique\n",
    "if data['Email'].is_unique:\n",
    "    print(\"All emails are unique.\")\n",
    "else:\n",
    "    print(\"There are duplicate emails in the dataset.\")\n"
   ]
  },
  {
   "cell_type": "markdown",
   "metadata": {},
   "source": [
    "Task 4: Validate Email Format Using Regex\n",
    "\n",
    "Description: Validate if email addresses in a dataset have the correct format."
   ]
  },
  {
   "cell_type": "code",
   "execution_count": 4,
   "metadata": {},
   "outputs": [
    {
     "name": "stdout",
     "output_type": "stream",
     "text": [
      "                Email  Valid_Email\n",
      "0   alice@example.com         True\n",
      "1  bob_at_example.com        False\n",
      "2     charlie@example        False\n",
      "3   david@example.org         True\n"
     ]
    }
   ],
   "source": [
    "# Write your code from here\n",
    "import pandas as pd\n",
    "import re\n",
    "\n",
    "# Sample data\n",
    "data = pd.DataFrame({\n",
    "    'Email': ['alice@example.com', 'bob_at_example.com', 'charlie@example', 'david@example.org']\n",
    "})\n",
    "\n",
    "# Define email regex pattern\n",
    "email_pattern = re.compile(r'^[a-zA-Z0-9._%+-]+@[a-zA-Z0-9.-]+\\.[a-zA-Z]{2,}$')\n",
    "\n",
    "# Function to validate email format\n",
    "def validate_email(email):\n",
    "    if pd.isna(email):\n",
    "        return False  # or True if you consider missing emails valid\n",
    "    return bool(email_pattern.match(email))\n",
    "\n",
    "# Apply validation function to 'Email' column\n",
    "data['Valid_Email'] = data['Email'].apply(validate_email)\n",
    "\n",
    "print(data)\n"
   ]
  },
  {
   "cell_type": "markdown",
   "metadata": {},
   "source": [
    "Task 5: Check for Logical Age Validity\n",
    "\n",
    "Description: Ensure ages are within a reasonable human range (e.g., 0-120)."
   ]
  },
  {
   "cell_type": "code",
   "execution_count": 5,
   "metadata": {},
   "outputs": [
    {
     "name": "stdout",
     "output_type": "stream",
     "text": [
      "     Age  Age_Valid\n",
      "0   25.0       True\n",
      "1   34.0       True\n",
      "2   -5.0      False\n",
      "3  150.0      False\n",
      "4   45.0       True\n",
      "5    NaN      False\n",
      "6   80.0       True\n"
     ]
    }
   ],
   "source": [
    "# Write your code from here\n",
    "import pandas as pd\n",
    "\n",
    "# Sample data\n",
    "data = pd.DataFrame({\n",
    "    'Age': [25, 34, -5, 150, 45, None, 80]\n",
    "})\n",
    "\n",
    "# Define a function to check if age is valid\n",
    "def is_age_valid(age):\n",
    "    if pd.isna(age):\n",
    "        return False  # or True if you consider missing age as valid\n",
    "    return 0 <= age <= 120\n",
    "\n",
    "# Apply the function to the Age column\n",
    "data['Age_Valid'] = data['Age'].apply(is_age_valid)\n",
    "\n",
    "print(data)\n"
   ]
  },
  {
   "cell_type": "markdown",
   "metadata": {},
   "source": [
    "Task 6: Identify and Handle Missing Data\n",
    "\n",
    "Description: Identify missing values in a dataset and impute them using a simple strategy (e.g., mean)."
   ]
  },
  {
   "cell_type": "code",
   "execution_count": 6,
   "metadata": {},
   "outputs": [
    {
     "name": "stdout",
     "output_type": "stream",
     "text": [
      "Original Data with Missing Values:\n",
      "    Age   Salary\n",
      "0  25.0  50000.0\n",
      "1   NaN  60000.0\n",
      "2  35.0      NaN\n",
      "3  40.0  58000.0\n",
      "4   NaN  62000.0\n",
      "5  60.0      NaN\n",
      "\n",
      "Missing Values in Each Column:\n",
      "     Age  Salary\n",
      "0  False   False\n",
      "1   True   False\n",
      "2  False    True\n",
      "3  False   False\n",
      "4   True   False\n",
      "5  False    True\n",
      "\n",
      "Data after Imputation:\n",
      "    Age   Salary\n",
      "0  25.0  50000.0\n",
      "1  40.0  60000.0\n",
      "2  35.0  57500.0\n",
      "3  40.0  58000.0\n",
      "4  40.0  62000.0\n",
      "5  60.0  57500.0\n"
     ]
    }
   ],
   "source": [
    "# Write your code from here\n",
    "import pandas as pd\n",
    "from sklearn.impute import SimpleImputer\n",
    "import numpy as np\n",
    "\n",
    "# Sample data with missing values\n",
    "data = pd.DataFrame({\n",
    "    'Age': [25, np.nan, 35, 40, np.nan, 60],\n",
    "    'Salary': [50000, 60000, np.nan, 58000, 62000, np.nan]\n",
    "})\n",
    "\n",
    "print(\"Original Data with Missing Values:\")\n",
    "print(data)\n",
    "\n",
    "# Identify missing values (True if missing)\n",
    "missing_values = data.isnull()\n",
    "print(\"\\nMissing Values in Each Column:\")\n",
    "print(missing_values)\n",
    "\n",
    "# Impute missing values using mean\n",
    "imputer = SimpleImputer(strategy='mean')\n",
    "data_imputed = pd.DataFrame(imputer.fit_transform(data), columns=data.columns)\n",
    "\n",
    "print(\"\\nData after Imputation:\")\n",
    "print(data_imputed)\n"
   ]
  },
  {
   "cell_type": "markdown",
   "metadata": {},
   "source": [
    "Task 7: Detect Duplicates\n",
    "\n",
    "Description: Detect duplicate rows in the dataset."
   ]
  },
  {
   "cell_type": "code",
   "execution_count": 7,
   "metadata": {},
   "outputs": [
    {
     "name": "stdout",
     "output_type": "stream",
     "text": [
      "Original Data:\n",
      "    Name  Age  Salary\n",
      "0  Alice   25   50000\n",
      "1    Bob   30   60000\n",
      "2  Alice   25   50000\n",
      "3  David   40   70000\n",
      "4    Bob   30   60000\n",
      "\n",
      "Duplicate Rows Detected (True indicates duplicate):\n",
      "0    False\n",
      "1    False\n",
      "2     True\n",
      "3    False\n",
      "4     True\n",
      "dtype: bool\n",
      "\n",
      "Duplicate Rows:\n",
      "    Name  Age  Salary\n",
      "2  Alice   25   50000\n",
      "4    Bob   30   60000\n"
     ]
    }
   ],
   "source": [
    "# Write your code from here\n",
    "import pandas as pd\n",
    "\n",
    "# Sample dataset with duplicates\n",
    "data = pd.DataFrame({\n",
    "    'Name': ['Alice', 'Bob', 'Alice', 'David', 'Bob'],\n",
    "    'Age': [25, 30, 25, 40, 30],\n",
    "    'Salary': [50000, 60000, 50000, 70000, 60000]\n",
    "})\n",
    "\n",
    "print(\"Original Data:\")\n",
    "print(data)\n",
    "\n",
    "# Detect duplicate rows (returns a boolean Series)\n",
    "duplicates = data.duplicated()\n",
    "\n",
    "print(\"\\nDuplicate Rows Detected (True indicates duplicate):\")\n",
    "print(duplicates)\n",
    "\n",
    "# Optionally, show the duplicate rows only\n",
    "duplicate_rows = data[data.duplicated()]\n",
    "print(\"\\nDuplicate Rows:\")\n",
    "print(duplicate_rows)\n"
   ]
  },
  {
   "cell_type": "markdown",
   "metadata": {},
   "source": [
    "Task 8: Validate Correctness of Numerical Values\n",
    "\n",
    "Description: Ensure numerical columns are within a specified range."
   ]
  },
  {
   "cell_type": "code",
   "execution_count": 8,
   "metadata": {},
   "outputs": [
    {
     "name": "stdout",
     "output_type": "stream",
     "text": [
      "Original Data:\n",
      "   Age  Salary\n",
      "0   25   50000\n",
      "1   30   60000\n",
      "2   -5   70000\n",
      "3  150   80000\n",
      "4   45   -1000\n",
      "\n",
      "Invalid values detected in column 'Age':\n",
      "2     -5\n",
      "3    150\n",
      "Name: Age, dtype: int64\n",
      "\n",
      "Invalid values detected in column 'Salary':\n",
      "4   -1000\n",
      "Name: Salary, dtype: int64\n"
     ]
    }
   ],
   "source": [
    "# Write your code from here\n",
    "import pandas as pd\n",
    "\n",
    "# Sample data\n",
    "data = pd.DataFrame({\n",
    "    'Age': [25, 30, -5, 150, 45],\n",
    "    'Salary': [50000, 60000, 70000, 80000, -1000]\n",
    "})\n",
    "\n",
    "print(\"Original Data:\")\n",
    "print(data)\n",
    "\n",
    "# Define valid ranges for columns\n",
    "valid_ranges = {\n",
    "    'Age': (0, 120),\n",
    "    'Salary': (0, 200000)\n",
    "}\n",
    "\n",
    "# Function to check if values are within the range\n",
    "def validate_column(df, col, min_val, max_val):\n",
    "    invalid = ~df[col].between(min_val, max_val)\n",
    "    if invalid.any():\n",
    "        print(f\"\\nInvalid values detected in column '{col}':\")\n",
    "        print(df.loc[invalid, col])\n",
    "    else:\n",
    "        print(f\"\\nAll values in column '{col}' are within the valid range.\")\n",
    "\n",
    "# Validate each numerical column\n",
    "for col, (min_val, max_val) in valid_ranges.items():\n",
    "    validate_column(data, col, min_val, max_val)\n"
   ]
  },
  {
   "cell_type": "markdown",
   "metadata": {},
   "source": [
    "Task 9: Custom Completeness Rule Violation Report\n",
    "\n",
    "Description: Create a report showing which rows violate specific completeness rules, such as mandatory fields being empty."
   ]
  },
  {
   "cell_type": "code",
   "execution_count": 9,
   "metadata": {},
   "outputs": [
    {
     "name": "stdout",
     "output_type": "stream",
     "text": [
      "Completeness Rule Violation Report:\n",
      "    Name                Email   Age Country  Name_missing  Email_missing  \\\n",
      "1    Bob                       30.0     USA         False           True   \n",
      "2         charlie@example.com  22.0                  True          False   \n",
      "3  David    david@example.com   NaN      UK         False          False   \n",
      "4    Eve                 None  28.0  Canada         False           True   \n",
      "\n",
      "   Age_missing  \n",
      "1        False  \n",
      "2        False  \n",
      "3         True  \n",
      "4        False  \n"
     ]
    }
   ],
   "source": [
    "# Write your code from here\n",
    "import pandas as pd\n",
    "\n",
    "# Sample dataset\n",
    "data = pd.DataFrame({\n",
    "    'Name': ['Alice', 'Bob', '', 'David', 'Eve'],\n",
    "    'Email': ['alice@example.com', '', 'charlie@example.com', 'david@example.com', None],\n",
    "    'Age': [25, 30, 22, None, 28],\n",
    "    'Country': ['USA', 'USA', '', 'UK', 'Canada']\n",
    "})\n",
    "\n",
    "# Define mandatory fields\n",
    "mandatory_fields = ['Name', 'Email', 'Age']\n",
    "\n",
    "# Function to check completeness violations per row\n",
    "def completeness_violations(df, mandatory_cols):\n",
    "    # Create a boolean DataFrame where True indicates missing/empty values in mandatory fields\n",
    "    violations = df[mandatory_cols].isnull() | (df[mandatory_cols] == '')  # check NaN or empty string\n",
    "    \n",
    "    # Any row with any violation?\n",
    "    rows_with_violations = violations.any(axis=1)\n",
    "    \n",
    "    # Extract rows with violations\n",
    "    violation_report = df.loc[rows_with_violations].copy()\n",
    "    \n",
    "    # Add columns specifying which mandatory fields are missing per row\n",
    "    for col in mandatory_cols:\n",
    "        violation_report[f'{col}_missing'] = violations[col]\n",
    "    \n",
    "    return violation_report\n",
    "\n",
    "# Generate the report\n",
    "report = completeness_violations(data, mandatory_fields)\n",
    "\n",
    "print(\"Completeness Rule Violation Report:\")\n",
    "print(report)\n"
   ]
  },
  {
   "cell_type": "markdown",
   "metadata": {},
   "source": [
    "Task 10: Advanced Regex for Data Validity Check\n",
    "\n",
    "Description: Check for validity with advanced regex patterns, such as validating complex fields with multi-level rules."
   ]
  },
  {
   "cell_type": "code",
   "execution_count": 10,
   "metadata": {},
   "outputs": [
    {
     "name": "stdout",
     "output_type": "stream",
     "text": [
      "      Name                    Phone  Phone_Valid\n",
      "0    Alice  +1-800-555-1234 ext.123        False\n",
      "1      Bob           (800) 555-5678         True\n",
      "2  Charlie             800.555.8765         True\n",
      "3    David              123-45-6789        False\n"
     ]
    }
   ],
   "source": [
    "# Write your code from here\n",
    "import pandas as pd\n",
    "import re\n",
    "\n",
    "# Sample dataset\n",
    "data = pd.DataFrame({\n",
    "    'Name': ['Alice', 'Bob', 'Charlie', 'David'],\n",
    "    'Phone': [\n",
    "        '+1-800-555-1234 ext.123',   # valid with country code and extension\n",
    "        '(800) 555-5678',            # valid with parentheses area code\n",
    "        '800.555.8765',              # valid with dots separator\n",
    "        '123-45-6789'                # invalid format\n",
    "    ]\n",
    "})\n",
    "\n",
    "# Advanced regex pattern for US phone numbers:\n",
    "# Matches optional +1 country code, optional parentheses around area code,\n",
    "# separators like space, dash, dot, and optional extensions like ext, x, or extension.\n",
    "phone_pattern = re.compile(\n",
    "    r'^(\\+1[-\\s.]?)?(\\(?\\d{3}\\)?[-\\s.]?)?\\d{3}[-\\s.]?\\d{4}(\\s*(ext|x|extension)\\s*\\d+)?$', \n",
    "    re.IGNORECASE\n",
    ")\n",
    "\n",
    "# Function to validate phone numbers using regex\n",
    "def validate_phone(phone):\n",
    "    if pd.isna(phone):\n",
    "        return False\n",
    "    return bool(phone_pattern.match(phone.strip()))\n",
    "\n",
    "# Apply validation to the 'Phone' column\n",
    "data['Phone_Valid'] = data['Phone'].apply(validate_phone)\n",
    "\n",
    "print(data)\n"
   ]
  }
 ],
 "metadata": {
  "kernelspec": {
   "display_name": "Python 3",
   "language": "python",
   "name": "python3"
  },
  "language_info": {
   "codemirror_mode": {
    "name": "ipython",
    "version": 3
   },
   "file_extension": ".py",
   "mimetype": "text/x-python",
   "name": "python",
   "nbconvert_exporter": "python",
   "pygments_lexer": "ipython3",
   "version": "3.10.12"
  }
 },
 "nbformat": 4,
 "nbformat_minor": 2
}
