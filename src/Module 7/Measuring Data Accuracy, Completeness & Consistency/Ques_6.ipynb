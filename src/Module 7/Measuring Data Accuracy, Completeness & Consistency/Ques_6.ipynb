{
 "cells": [
  {
   "cell_type": "markdown",
   "metadata": {},
   "source": [
    "## Architecture to Monitor Data Quality Over Time\n",
    "\n",
    "**Description**: Design a monitoring system in Python that checks and logs data quality metrics (accuracy, completeness) for a dataset over time.\n",
    "\n",
    "**Steps to follow:**\n",
    "1. Implement a Scheduled Script:\n",
    "    - Use schedule library to periodically run a script.\n",
    "2. Script to Calculate Metrics:\n",
    "    - For simplicity, use a function calculate_quality_metrics() that calculates and logs metrics such as missing rate or mismatch rate.\n",
    "3. Store Logs:\n",
    "    - Use Python's logging library to save these metrics over time."
   ]
  },
  {
   "cell_type": "code",
   "execution_count": 1,
   "metadata": {},
   "outputs": [
    {
     "ename": "ModuleNotFoundError",
     "evalue": "No module named 'schedule'",
     "output_type": "error",
     "traceback": [
      "\u001b[0;31m---------------------------------------------------------------------------\u001b[0m",
      "\u001b[0;31mModuleNotFoundError\u001b[0m                       Traceback (most recent call last)",
      "Cell \u001b[0;32mIn[1], line 5\u001b[0m\n\u001b[1;32m      3\u001b[0m \u001b[38;5;28;01mimport\u001b[39;00m\u001b[38;5;250m \u001b[39m\u001b[38;5;21;01mnumpy\u001b[39;00m\u001b[38;5;250m \u001b[39m\u001b[38;5;28;01mas\u001b[39;00m\u001b[38;5;250m \u001b[39m\u001b[38;5;21;01mnp\u001b[39;00m\n\u001b[1;32m      4\u001b[0m \u001b[38;5;28;01mimport\u001b[39;00m\u001b[38;5;250m \u001b[39m\u001b[38;5;21;01mlogging\u001b[39;00m\n\u001b[0;32m----> 5\u001b[0m \u001b[38;5;28;01mimport\u001b[39;00m\u001b[38;5;250m \u001b[39m\u001b[38;5;21;01mschedule\u001b[39;00m\n\u001b[1;32m      6\u001b[0m \u001b[38;5;28;01mimport\u001b[39;00m\u001b[38;5;250m \u001b[39m\u001b[38;5;21;01mtime\u001b[39;00m\n\u001b[1;32m      7\u001b[0m \u001b[38;5;28;01mfrom\u001b[39;00m\u001b[38;5;250m \u001b[39m\u001b[38;5;21;01mdatetime\u001b[39;00m\u001b[38;5;250m \u001b[39m\u001b[38;5;28;01mimport\u001b[39;00m datetime\n",
      "\u001b[0;31mModuleNotFoundError\u001b[0m: No module named 'schedule'"
     ]
    }
   ],
   "source": [
    "# Write your code from here\n",
    "import pandas as pd\n",
    "import numpy as np\n",
    "import logging\n",
    "import schedule\n",
    "import time\n",
    "from datetime import datetime\n",
    "\n",
    "# Setup logger to log to file with timestamps\n",
    "logging.basicConfig(\n",
    "    filename='data_quality.log',\n",
    "    level=logging.INFO,\n",
    "    format='%(asctime)s - %(levelname)s - %(message)s'\n",
    ")\n",
    "\n",
    "def load_data():\n",
    "    \"\"\"\n",
    "    Simulate loading dataset.\n",
    "    Replace this with actual data loading logic.\n",
    "    \"\"\"\n",
    "    data = {\n",
    "        'id': [1, 2, 3, 4, 5, 6],\n",
    "        'price': [10.5, 23.0, None, 15.0, -5.0, 30.0],\n",
    "        'email': ['a@example.com', 'b@example', 'c@example.com', None, 'e@example.com', 'f@example.com']\n",
    "    }\n",
    "    return pd.DataFrame(data)\n",
    "\n",
    "def calculate_quality_metrics(df: pd.DataFrame) -> dict:\n",
    "    \"\"\"\n",
    "    Calculate data quality metrics:\n",
    "    - Missing rate (percentage of missing values)\n",
    "    - Negative values rate (price < 0)\n",
    "    - Invalid emails (simple regex check)\n",
    "    \"\"\"\n",
    "    total_rows = len(df)\n",
    "    missing_rate = df.isna().mean().mean() * 100  # Average missing rate across all columns\n",
    "    \n",
    "    # Negative price rate\n",
    "    negative_price_count = (df['price'] < 0).sum()\n",
    "    negative_price_rate = negative_price_count / total_rows * 100\n",
    "    \n",
    "    # Simple email validity check\n",
    "    invalid_emails = df['email'].apply(lambda x: isinstance(x, str) and '@' in x and '.' in x)\n",
    "    invalid_email_count = (~invalid_emails).sum()\n",
    "    invalid_email_rate = invalid_email_count / total_rows * 100\n",
    "    \n",
    "    metrics = {\n",
    "        'missing_rate_percent': round(missing_rate, 2),\n",
    "        'negative_price_rate_percent': round(negative_price_rate, 2),\n",
    "        'invalid_email_rate_percent': round(invalid_email_rate, 2)\n",
    "    }\n",
    "    return metrics\n",
    "\n",
    "def log_quality_metrics():\n",
    "    df = load_data()\n",
    "    metrics = calculate_quality_metrics(df)\n",
    "    \n",
    "    log_msg = (\n",
    "        f\"Missing Data Rate: {metrics['missing_rate_percent']}%, \"\n",
    "        f\"Negative Price Rate: {metrics['negative_price_rate_percent']}%, \"\n",
    "        f\"Invalid Email Rate: {metrics['invalid_email_rate_percent']}%\"\n",
    "    )\n",
    "    logging.info(log_msg)\n",
    "    print(f\"[{datetime.now()}] Logged metrics: {log_msg}\")\n",
    "\n",
    "def main():\n",
    "    # Schedule to run every 10 seconds (for demo; change as needed e.g., 'every().day.at(\"10:00\")')\n",
    "    schedule.every(10).seconds.do(log_quality_metrics)\n",
    "\n",
    "    print(\"Starting data quality monitoring...\")\n",
    "    while True:\n",
    "        schedule.run_pending()\n",
    "        time.sleep(1)\n",
    "\n",
    "if __name__ == \"__main__\":\n",
    "    main()\n"
   ]
  }
 ],
 "metadata": {
  "kernelspec": {
   "display_name": "Python 3",
   "language": "python",
   "name": "python3"
  },
  "language_info": {
   "codemirror_mode": {
    "name": "ipython",
    "version": 3
   },
   "file_extension": ".py",
   "mimetype": "text/x-python",
   "name": "python",
   "nbconvert_exporter": "python",
   "pygments_lexer": "ipython3",
   "version": "3.10.12"
  }
 },
 "nbformat": 4,
 "nbformat_minor": 2
}
