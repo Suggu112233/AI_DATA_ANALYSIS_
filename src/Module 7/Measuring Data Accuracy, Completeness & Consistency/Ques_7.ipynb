{
 "cells": [
  {
   "cell_type": "markdown",
   "metadata": {},
   "source": [
    "## Advanced Consistency Check with Hierarchical Data\n",
    "\n",
    "**Description**: You have two datasets `orders.csv` and `order_items.csv` . Perform a consistency check to ensure each order in `orders.csv` has corresponding items in `order_items.csv` ."
   ]
  },
  {
   "cell_type": "code",
   "execution_count": 2,
   "metadata": {},
   "outputs": [
    {
     "name": "stdout",
     "output_type": "stream",
     "text": [
      "Total Orders: 5\n",
      "Orders with Items: 4\n",
      "Orders WITHOUT Items: 1\n",
      "Data Consistency Rate: 80.0%\n",
      "\n",
      "🚨 Orders Without Items:\n",
      " order_id customer_name order_date\n",
      "     1004         Diana 2024-06-04\n",
      "\n",
      "⚠️ Missing orders saved to 'orders_missing_items.csv'\n"
     ]
    }
   ],
   "source": [
    "import pandas as pd\n",
    "from io import StringIO\n",
    "\n",
    "# ---------------------------------------------\n",
    "# Step 1: Create Simulated CSV Data in Code\n",
    "# ---------------------------------------------\n",
    "\n",
    "orders_csv = \"\"\"\n",
    "order_id,customer_name,order_date\n",
    "1001,Alice,2024-06-01\n",
    "1002,Bob,2024-06-02\n",
    "1003,Charlie,2024-06-03\n",
    "1004,Diana,2024-06-04\n",
    "1005,Evan,2024-06-05\n",
    "\"\"\"\n",
    "\n",
    "order_items_csv = \"\"\"\n",
    "item_id,order_id,product_name,quantity\n",
    "1,1001,Widget,2\n",
    "2,1001,Gadget,1\n",
    "3,1002,Widget,1\n",
    "4,1003,Doodad,3\n",
    "5,1005,Thingamajig,2\n",
    "\"\"\"\n",
    "\n",
    "# Read the CSV strings into DataFrames\n",
    "orders_df = pd.read_csv(StringIO(orders_csv))\n",
    "items_df = pd.read_csv(StringIO(order_items_csv))\n",
    "\n",
    "# ---------------------------------------------\n",
    "# Step 2: Identify Orders Without Items\n",
    "# ---------------------------------------------\n",
    "\n",
    "# Get unique order_ids from order_items.csv\n",
    "order_ids_with_items = set(items_df['order_id'].unique())\n",
    "\n",
    "# Find order_ids in orders.csv that are NOT in order_items.csv\n",
    "orders_df['has_items'] = orders_df['order_id'].isin(order_ids_with_items)\n",
    "missing_orders = orders_df[~orders_df['has_items']]\n",
    "\n",
    "# ---------------------------------------------\n",
    "# Step 3: Print Summary & Results\n",
    "# ---------------------------------------------\n",
    "\n",
    "total_orders = len(orders_df)\n",
    "orders_missing_items = len(missing_orders)\n",
    "orders_with_items = total_orders - orders_missing_items\n",
    "\n",
    "print(f\"Total Orders: {total_orders}\")\n",
    "print(f\"Orders with Items: {orders_with_items}\")\n",
    "print(f\"Orders WITHOUT Items: {orders_missing_items}\")\n",
    "print(f\"Data Consistency Rate: {(orders_with_items / total_orders) * 100:.1f}%\")\n",
    "\n",
    "if not missing_orders.empty:\n",
    "    print(\"\\n🚨 Orders Without Items:\")\n",
    "    print(missing_orders[['order_id', 'customer_name', 'order_date']].to_string(index=False))\n",
    "\n",
    "    # ---------------------------------------------\n",
    "    # Step 4: Export Results for Manual Review\n",
    "    # ---------------------------------------------\n",
    "    missing_orders.to_csv(\"orders_missing_items.csv\", index=False)\n",
    "    print(\"\\n⚠️ Missing orders saved to 'orders_missing_items.csv'\")\n",
    "else:\n",
    "    print(\"\\n✅ All orders have corresponding items.\")\n"
   ]
  }
 ],
 "metadata": {
  "kernelspec": {
   "display_name": "Python 3",
   "language": "python",
   "name": "python3"
  },
  "language_info": {
   "codemirror_mode": {
    "name": "ipython",
    "version": 3
   },
   "file_extension": ".py",
   "mimetype": "text/x-python",
   "name": "python",
   "nbconvert_exporter": "python",
   "pygments_lexer": "ipython3",
   "version": "3.10.12"
  }
 },
 "nbformat": 4,
 "nbformat_minor": 2
}
