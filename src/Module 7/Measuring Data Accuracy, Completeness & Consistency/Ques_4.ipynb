{
 "cells": [
  {
   "cell_type": "markdown",
   "metadata": {},
   "source": [
    "## Ensuring Consistency in Multi-source Data Integration\n",
    "\n",
    "**Description**: Validate the integration of two datasets `products_A.csv` and `products_B.csv` . Ensure consistency in product \"category\" information."
   ]
  },
  {
   "cell_type": "code",
   "execution_count": 1,
   "metadata": {},
   "outputs": [
    {
     "name": "stdout",
     "output_type": "stream",
     "text": [
      "Merged Data with Category Consistency Check:\n",
      "   product_id product_name_A   category_A product_name_B   category_B  \\\n",
      "0         101         Widget        Tools         Widget        Tools   \n",
      "1         102         Gadget  Electronics         Gadget  Electronics   \n",
      "2         103         Doodad        Tools         Doodad     Hardware   \n",
      "3         104    Thingamajig      Gadgets    Thingamajig      Gadgets   \n",
      "\n",
      "   category_match  \n",
      "0            True  \n",
      "1            True  \n",
      "2           False  \n",
      "3            True  \n",
      "\n",
      "Inconsistent Category Entries:\n",
      "   product_id category_A category_B\n",
      "2         103      Tools   Hardware\n"
     ]
    }
   ],
   "source": [
    "# Write your code from here\n",
    "import pandas as pd\n",
    "\n",
    "# Simulated dataset from source A\n",
    "products_A = pd.DataFrame({\n",
    "    'product_id': [101, 102, 103, 104],\n",
    "    'product_name': ['Widget', 'Gadget', 'Doodad', 'Thingamajig'],\n",
    "    'category': ['Tools', 'Electronics', 'Tools', 'Gadgets']\n",
    "})\n",
    "\n",
    "# Simulated dataset from source B\n",
    "products_B = pd.DataFrame({\n",
    "    'product_id': [101, 102, 103, 104],\n",
    "    'product_name': ['Widget', 'Gadget', 'Doodad', 'Thingamajig'],\n",
    "    'category': ['Tools', 'Electronics', 'Hardware', 'Gadgets']  # Notice category mismatch for product_id 103\n",
    "})\n",
    "\n",
    "# Merge datasets on product_id\n",
    "merged = pd.merge(products_A, products_B, on='product_id', suffixes=('_A', '_B'))\n",
    "\n",
    "# Check for category consistency\n",
    "merged['category_match'] = merged['category_A'] == merged['category_B']\n",
    "\n",
    "# Find inconsistent rows\n",
    "inconsistent = merged[~merged['category_match']]\n",
    "\n",
    "print(\"Merged Data with Category Consistency Check:\")\n",
    "print(merged)\n",
    "\n",
    "print(\"\\nInconsistent Category Entries:\")\n",
    "print(inconsistent[['product_id', 'category_A', 'category_B']])\n"
   ]
  }
 ],
 "metadata": {
  "kernelspec": {
   "display_name": "Python 3",
   "language": "python",
   "name": "python3"
  },
  "language_info": {
   "codemirror_mode": {
    "name": "ipython",
    "version": 3
   },
   "file_extension": ".py",
   "mimetype": "text/x-python",
   "name": "python",
   "nbconvert_exporter": "python",
   "pygments_lexer": "ipython3",
   "version": "3.10.12"
  }
 },
 "nbformat": 4,
 "nbformat_minor": 2
}
