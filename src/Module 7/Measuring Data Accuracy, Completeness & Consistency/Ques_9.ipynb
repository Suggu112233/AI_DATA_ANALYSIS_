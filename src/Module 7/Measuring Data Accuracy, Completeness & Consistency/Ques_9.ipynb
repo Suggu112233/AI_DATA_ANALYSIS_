{
 "cells": [
  {
   "cell_type": "markdown",
   "metadata": {},
   "source": [
    "# Measuring Completeness\n",
    "\n",
    "**Activity Overview**: Evaluate data completeness by checking missing data rates and handling partially available records.\n",
    "\n",
    "## Title: Customer Profiles\n",
    "\n",
    "**Task**: Calculate the missing data rate for customer profiles.\n",
    "\n",
    "**Steps**:\n",
    "1. List all required fields for a complete customer profile (e.g., name, address, email,\n",
    "phone number).\n",
    "2. Analyze the dataset to count how many profiles have missing fields.\n",
    "3. Calculate the percentage of missing data fields across all profiles."
   ]
  },
  {
   "cell_type": "code",
   "execution_count": 1,
   "metadata": {},
   "outputs": [
    {
     "name": "stdout",
     "output_type": "stream",
     "text": [
      "Customer Profiles Data:\n",
      "   customer_id     name       address              email phone_number  \\\n",
      "0            1    Alice   123 Main St  alice@example.com     555-1234   \n",
      "1            2      Bob          None    bob@example.com         None   \n",
      "2            3  Charlie  789 Park Ave               None     555-7890   \n",
      "3            4     None    456 Elm St   dave@example.com     555-4567   \n",
      "4            5      Eve    321 Oak St    eve@example.com         None   \n",
      "\n",
      "   missing_fields_count  has_missing_fields  \n",
      "0                     0               False  \n",
      "1                     2                True  \n",
      "2                     1                True  \n",
      "3                     1                True  \n",
      "4                     1                True  \n",
      "\n",
      "Total required fields: 20\n",
      "Total missing fields: 5\n",
      "Percentage of missing data fields: 25.00%\n",
      "\n",
      "Profiles with missing required fields: 4 out of 5 (80.00%)\n"
     ]
    }
   ],
   "source": [
    "# Write your code from here\n",
    "import pandas as pd\n",
    "import numpy as np\n",
    "\n",
    "# Example customer profiles dataset\n",
    "data = {\n",
    "    'customer_id': [1, 2, 3, 4, 5],\n",
    "    'name': ['Alice', 'Bob', 'Charlie', None, 'Eve'],\n",
    "    'address': ['123 Main St', None, '789 Park Ave', '456 Elm St', '321 Oak St'],\n",
    "    'email': ['alice@example.com', 'bob@example.com', None, 'dave@example.com', 'eve@example.com'],\n",
    "    'phone_number': ['555-1234', None, '555-7890', '555-4567', None]\n",
    "}\n",
    "\n",
    "df = pd.DataFrame(data)\n",
    "\n",
    "# 1. List all required fields\n",
    "required_fields = ['name', 'address', 'email', 'phone_number']\n",
    "\n",
    "# 2. Count missing fields per profile\n",
    "df['missing_fields_count'] = df[required_fields].isnull().sum(axis=1)\n",
    "\n",
    "# Identify profiles with any missing required fields\n",
    "df['has_missing_fields'] = df['missing_fields_count'] > 0\n",
    "\n",
    "# 3. Calculate the percentage of missing data fields across all profiles\n",
    "total_fields = df.shape[0] * len(required_fields)\n",
    "total_missing = df[required_fields].isnull().sum().sum()\n",
    "missing_percentage = (total_missing / total_fields) * 100\n",
    "\n",
    "print(\"Customer Profiles Data:\")\n",
    "print(df)\n",
    "\n",
    "print(f\"\\nTotal required fields: {total_fields}\")\n",
    "print(f\"Total missing fields: {total_missing}\")\n",
    "print(f\"Percentage of missing data fields: {missing_percentage:.2f}%\")\n",
    "\n",
    "# Additional insight: number and percentage of profiles with missing fields\n",
    "num_profiles_with_missing = df['has_missing_fields'].sum()\n",
    "percent_profiles_with_missing = (num_profiles_with_missing / df.shape[0]) * 100\n",
    "\n",
    "print(f\"\\nProfiles with missing required fields: {num_profiles_with_missing} out of {df.shape[0]} \"\n",
    "      f\"({percent_profiles_with_missing:.2f}%)\")\n"
   ]
  }
 ],
 "metadata": {
  "kernelspec": {
   "display_name": "Python 3",
   "language": "python",
   "name": "python3"
  },
  "language_info": {
   "codemirror_mode": {
    "name": "ipython",
    "version": 3
   },
   "file_extension": ".py",
   "mimetype": "text/x-python",
   "name": "python",
   "nbconvert_exporter": "python",
   "pygments_lexer": "ipython3",
   "version": "3.10.12"
  }
 },
 "nbformat": 4,
 "nbformat_minor": 2
}
