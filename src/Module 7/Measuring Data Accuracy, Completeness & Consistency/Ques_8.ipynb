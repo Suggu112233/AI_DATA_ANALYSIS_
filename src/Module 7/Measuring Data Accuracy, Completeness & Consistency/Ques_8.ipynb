{
 "cells": [
  {
   "cell_type": "markdown",
   "metadata": {},
   "source": [
    "# Measuring Data Accuracy\n",
    "\n",
    "**Activity Overview**: Assess data accuracy by comparing it to a trusted source and detecting incorrect values or mismatches.\n",
    "\n",
    "## Title: Product Pricing\n",
    "\n",
    "**Task**: Compare a dataset of product prices with the latest official price list.\n",
    "\n",
    "**Steps**:\n",
    "1. Obtain the latest product price list from the official company website.\n",
    "2. Compare the dataset's product prices against the verified list.\n",
    "3. Identify any discrepancies and mark them for correction."
   ]
  },
  {
   "cell_type": "code",
   "execution_count": 2,
   "metadata": {},
   "outputs": [
    {
     "name": "stdout",
     "output_type": "stream",
     "text": [
      "Products with price discrepancies:\n",
      "  product_id  price_company  price_trusted\n",
      "1       P002          23.50          22.99\n",
      "3       P004          12.75          13.00\n",
      "\n",
      "Company prices after correction:\n",
      "  product_id  price\n",
      "0       P001  10.99\n",
      "1       P002  22.99\n",
      "2       P003  15.00\n",
      "3       P004  13.00\n",
      "4       P005   9.99\n"
     ]
    }
   ],
   "source": [
    "# Write your code from here\n",
    "import pandas as pd\n",
    "\n",
    "# Example company dataset (possibly outdated or error-prone)\n",
    "company_prices = pd.DataFrame({\n",
    "    'product_id': ['P001', 'P002', 'P003', 'P004', 'P005'],\n",
    "    'price': [10.99, 23.50, 15.00, 12.75, 9.99]\n",
    "})\n",
    "\n",
    "# Trusted official price list (latest verified prices)\n",
    "trusted_prices = pd.DataFrame({\n",
    "    'product_id': ['P001', 'P002', 'P003', 'P004', 'P005'],\n",
    "    'price': [10.99, 22.99, 15.00, 13.00, 9.99]\n",
    "})\n",
    "\n",
    "# Merge datasets on product_id to compare prices\n",
    "comparison = pd.merge(company_prices, trusted_prices, on='product_id', suffixes=('_company', '_trusted'))\n",
    "\n",
    "# Identify discrepancies where prices do not match\n",
    "comparison['price_mismatch'] = comparison['price_company'] != comparison['price_trusted']\n",
    "\n",
    "# Extract mismatches for correction\n",
    "mismatches = comparison[comparison['price_mismatch']]\n",
    "\n",
    "print(\"Products with price discrepancies:\")\n",
    "print(mismatches[['product_id', 'price_company', 'price_trusted']])\n",
    "\n",
    "# Mark for correction: could update or flag in the dataset\n",
    "# Example: Update company prices with trusted prices where mismatch exists\n",
    "company_prices_corrected = company_prices.copy()\n",
    "for idx, row in mismatches.iterrows():\n",
    "    product = row['product_id']\n",
    "    correct_price = row['price_trusted']\n",
    "    company_prices_corrected.loc[company_prices_corrected['product_id'] == product, 'price'] = correct_price\n",
    "\n",
    "print(\"\\nCompany prices after correction:\")\n",
    "print(company_prices_corrected)\n"
   ]
  }
 ],
 "metadata": {
  "kernelspec": {
   "display_name": "Python 3",
   "language": "python",
   "name": "python3"
  },
  "language_info": {
   "codemirror_mode": {
    "name": "ipython",
    "version": 3
   },
   "file_extension": ".py",
   "mimetype": "text/x-python",
   "name": "python",
   "nbconvert_exporter": "python",
   "pygments_lexer": "ipython3",
   "version": "3.10.12"
  }
 },
 "nbformat": 4,
 "nbformat_minor": 2
}
