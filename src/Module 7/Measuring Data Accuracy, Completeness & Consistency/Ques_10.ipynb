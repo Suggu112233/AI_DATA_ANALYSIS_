{
 "cells": [
  {
   "cell_type": "markdown",
   "metadata": {},
   "source": [
    "# Ensuring Consistency\n",
    "\n",
    "**Activity Overview**: Ensure consistency by identifying and resolving conflicting values across datasets.\n",
    "\n",
    "## Title: Customer Address Discrepancies\n",
    "\n",
    "**Task**: Address customer address mismatches between CRM and marketing databases.\n",
    "\n",
    "**Steps**:\n",
    "1. Compare customer addresses in the CRM with those in the marketing database.\n",
    "2. Identify records with conflicting address information.\n",
    "3. Propose a method to consolidate records with verified addresses."
   ]
  },
  {
   "cell_type": "code",
   "execution_count": 1,
   "metadata": {},
   "outputs": [
    {
     "name": "stdout",
     "output_type": "stream",
     "text": [
      "Conflicting Address Records:\n",
      "   customer_id   name    address_crm address_marketing\n",
      "0            1  Alice    123 Main St   123 Main Street\n",
      "3            4  David  101 Maple Ave     102 Maple Ave\n",
      "\n",
      "Consolidated Addresses:\n",
      "   customer_id     name consolidated_address\n",
      "0            1    Alice          123 Main St\n",
      "1            2      Bob           456 Elm St\n",
      "2            3  Charlie           789 Oak St\n",
      "3            4    David        101 Maple Ave\n"
     ]
    }
   ],
   "source": [
    "# Write your code from here\n",
    "import pandas as pd\n",
    "\n",
    "# Sample CRM data\n",
    "crm_data = {\n",
    "    'customer_id': [1, 2, 3, 4],\n",
    "    'name': ['Alice', 'Bob', 'Charlie', 'David'],\n",
    "    'address': ['123 Main St', '456 Elm St', '789 Oak St', '101 Maple Ave']\n",
    "}\n",
    "\n",
    "# Sample Marketing data\n",
    "marketing_data = {\n",
    "    'customer_id': [1, 2, 3, 4],\n",
    "    'name': ['Alice', 'Bob', 'Charlie', 'David'],\n",
    "    'address': ['123 Main Street', '456 Elm St', '789 Oak St', '102 Maple Ave']  # Notice address discrepancies\n",
    "}\n",
    "\n",
    "crm_df = pd.DataFrame(crm_data)\n",
    "marketing_df = pd.DataFrame(marketing_data)\n",
    "\n",
    "# Merge datasets on customer_id and name to compare addresses\n",
    "merged_df = crm_df.merge(marketing_df, on=['customer_id', 'name'], suffixes=('_crm', '_marketing'))\n",
    "\n",
    "# Identify rows where addresses do not match exactly\n",
    "merged_df['address_conflict'] = merged_df['address_crm'] != merged_df['address_marketing']\n",
    "\n",
    "conflicts = merged_df[merged_df['address_conflict']]\n",
    "\n",
    "print(\"Conflicting Address Records:\")\n",
    "print(conflicts[['customer_id', 'name', 'address_crm', 'address_marketing']])\n",
    "\n",
    "# Proposed consolidation method:\n",
    "# For simplicity, prefer CRM address if conflict exists (could be replaced by more complex logic)\n",
    "\n",
    "def consolidate_address(row):\n",
    "    if row['address_conflict']:\n",
    "        # Placeholder logic: prefer CRM address\n",
    "        return row['address_crm']\n",
    "    else:\n",
    "        return row['address_crm']  # or marketing address as they match\n",
    "\n",
    "merged_df['consolidated_address'] = merged_df.apply(consolidate_address, axis=1)\n",
    "\n",
    "print(\"\\nConsolidated Addresses:\")\n",
    "print(merged_df[['customer_id', 'name', 'consolidated_address']])\n"
   ]
  }
 ],
 "metadata": {
  "kernelspec": {
   "display_name": "Python 3",
   "language": "python",
   "name": "python3"
  },
  "language_info": {
   "codemirror_mode": {
    "name": "ipython",
    "version": 3
   },
   "file_extension": ".py",
   "mimetype": "text/x-python",
   "name": "python",
   "nbconvert_exporter": "python",
   "pygments_lexer": "ipython3",
   "version": "3.10.12"
  }
 },
 "nbformat": 4,
 "nbformat_minor": 2
}
