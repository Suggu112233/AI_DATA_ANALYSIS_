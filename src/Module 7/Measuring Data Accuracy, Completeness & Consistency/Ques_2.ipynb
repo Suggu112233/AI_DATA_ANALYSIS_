{
 "cells": [
  {
   "cell_type": "markdown",
   "metadata": {},
   "source": [
    "## Find Conflicting Values Across Datasets\n",
    "\n",
    "**Description**: You have two datasets: `crm_customers.csv` and `erp_customers.csv` . Find customers with conflicting \"email\" information."
   ]
  },
  {
   "cell_type": "code",
   "execution_count": 1,
   "metadata": {},
   "outputs": [
    {
     "name": "stdout",
     "output_type": "stream",
     "text": [
      "Customers with conflicting email information:\n",
      "\n",
      "   customer_id name_crm          email_crm                email_erp\n",
      "1            2      Bob    bob@example.com       bob123@example.com\n",
      "3            4    David  david@example.com  david_wrong@example.com\n"
     ]
    }
   ],
   "source": [
    "# Write your code from here\n",
    "import pandas as pd\n",
    "\n",
    "# Sample data simulating crm_customers.csv\n",
    "crm_data = {\n",
    "    'customer_id': [1, 2, 3, 4],\n",
    "    'name': ['Alice', 'Bob', 'Charlie', 'David'],\n",
    "    'email': ['alice@example.com', 'bob@example.com', 'charlie@crm.com', 'david@example.com']\n",
    "}\n",
    "\n",
    "# Sample data simulating erp_customers.csv\n",
    "erp_data = {\n",
    "    'customer_id': [1, 2, 3, 4],\n",
    "    'name': ['Alice', 'Bob', 'Charlie', 'David'],\n",
    "    'email': ['alice@example.com', 'bob123@example.com', 'charlie@crm.com', 'david_wrong@example.com']\n",
    "}\n",
    "\n",
    "# Create DataFrames\n",
    "df_crm = pd.DataFrame(crm_data)\n",
    "df_erp = pd.DataFrame(erp_data)\n",
    "\n",
    "# Merge on customer_id to compare emails\n",
    "merged = pd.merge(df_crm, df_erp, on='customer_id', suffixes=('_crm', '_erp'))\n",
    "\n",
    "# Find rows where emails differ\n",
    "conflicts = merged[merged['email_crm'] != merged['email_erp']]\n",
    "\n",
    "print(\"Customers with conflicting email information:\\n\")\n",
    "print(conflicts[['customer_id', 'name_crm', 'email_crm', 'email_erp']])\n"
   ]
  }
 ],
 "metadata": {
  "kernelspec": {
   "display_name": "Python 3",
   "language": "python",
   "name": "python3"
  },
  "language_info": {
   "codemirror_mode": {
    "name": "ipython",
    "version": 3
   },
   "file_extension": ".py",
   "mimetype": "text/x-python",
   "name": "python",
   "nbconvert_exporter": "python",
   "pygments_lexer": "ipython3",
   "version": "3.10.12"
  }
 },
 "nbformat": 4,
 "nbformat_minor": 2
}
