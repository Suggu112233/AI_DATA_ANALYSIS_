{
 "cells": [
  {
   "cell_type": "markdown",
   "metadata": {},
   "source": [
    "## Compare Data Completeness Over Time\n",
    "\n",
    "**Description**: Analyze the trend of missing data in `\"sales_data.csv\"` over several months stored in a \"date\" column. Visualize missing data rates by month."
   ]
  },
  {
   "cell_type": "code",
   "execution_count": null,
   "metadata": {},
   "outputs": [],
   "source": [
    "# Write your code from here\n",
    "import pandas as pd\n",
    "import numpy as np\n",
    "import matplotlib.pyplot as plt\n",
    "\n",
    "# Sample data simulating sales_data with a 'date' and some missing values in 'sales_amount'\n",
    "np.random.seed(0)\n",
    "dates = pd.date_range(start='2024-01-01', periods=180)  # 6 months daily data\n",
    "data = {\n",
    "    'date': dates,\n",
    "    'sales_amount': np.random.choice([100, 200, 300, None], size=180, p=[0.3, 0.3, 0.3, 0.1])\n",
    "}\n",
    "df = pd.DataFrame(data)\n",
    "\n",
    "# Convert date to datetime if not already\n",
    "df['date'] = pd.to_datetime(df['date'])\n",
    "\n",
    "# Extract month-year from date for grouping\n",
    "df['month'] = df['date'].dt.to_period('M')\n",
    "\n",
    "# Calculate missing data rate per month for 'sales_amount'\n",
    "missing_rate = df.groupby('month')['sales_amount'].apply(lambda x: x.isna().mean()).reset_index()\n",
    "missing_rate.columns = ['month', 'missing_rate']\n",
    "\n",
    "# Plotting missing data rate over months\n",
    "plt.figure(figsize=(8,5))\n",
    "plt.plot(missing_rate['month'].astype(str), missing_rate['missing_rate'], marker='o')\n",
    "plt.title('Missing Sales Amount Rate by Month')\n",
    "plt.xlabel('Month')\n",
    "plt.ylabel('Missing Data Rate')\n",
    "plt.xticks(rotation=45)\n",
    "plt.grid(True)\n",
    "plt.tight_layout()\n",
    "plt.show()\n"
   ]
  }
 ],
 "metadata": {
  "kernelspec": {
   "display_name": "Python 3",
   "language": "python",
   "name": "python3"
  },
  "language_info": {
   "name": "python",
   "version": "3.10.12"
  }
 },
 "nbformat": 4,
 "nbformat_minor": 2
}
