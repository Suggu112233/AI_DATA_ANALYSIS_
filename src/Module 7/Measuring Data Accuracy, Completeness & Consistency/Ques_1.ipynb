{
 "cells": [
  {
   "cell_type": "markdown",
   "metadata": {},
   "source": [
    "### Task 1: Measure Data Accuracy using a Trusted Source\n",
    "\n",
    "**Description**: You have two datasets of product prices: `company_prices.csv` and\n",
    "`trusted_prices.csv` . Check if the prices in `company_prices.csv` match the prices in\n",
    "`trusted_prices.csv` . Assume both files have a \"product_id\" and \"price\" column."
   ]
  },
  {
   "cell_type": "code",
   "execution_count": 9,
   "metadata": {},
   "outputs": [
    {
     "name": "stdout",
     "output_type": "stream",
     "text": [
      "Total products compared: 5\n",
      "Number of price mismatches: 2\n",
      "Price accuracy: 60.00%\n",
      "\n",
      "Mismatched prices:\n",
      "   product_id  price_company  price_trusted\n",
      "1         102          15.49           15.0\n",
      "4         105          12.50           13.0\n"
     ]
    }
   ],
   "source": [
    "import pandas as pd\n",
    "\n",
    "# Sample company prices data\n",
    "company_data = {\n",
    "    'product_id': [101, 102, 103, 104, 105],\n",
    "    'price': [9.99, 15.49, 7.99, 20.00, 12.50]\n",
    "}\n",
    "\n",
    "# Sample trusted prices data\n",
    "trusted_data = {\n",
    "    'product_id': [101, 102, 103, 104, 105],\n",
    "    'price': [9.99, 15.00, 7.99, 20.00, 13.00]\n",
    "}\n",
    "\n",
    "# Create dataframes\n",
    "company_df = pd.DataFrame(company_data)\n",
    "trusted_df = pd.DataFrame(trusted_data)\n",
    "\n",
    "# Merge on product_id to compare prices side-by-side\n",
    "merged = pd.merge(company_df, trusted_df, on='product_id', suffixes=('_company', '_trusted'))\n",
    "\n",
    "# Find mismatches where prices differ\n",
    "mismatches = merged[merged['price_company'] != merged['price_trusted']]\n",
    "\n",
    "# Summary stats\n",
    "total_products = merged.shape[0]\n",
    "mismatch_count = mismatches.shape[0]\n",
    "accuracy_percent = (total_products - mismatch_count) / total_products * 100\n",
    "\n",
    "print(f\"Total products compared: {total_products}\")\n",
    "print(f\"Number of price mismatches: {mismatch_count}\")\n",
    "print(f\"Price accuracy: {accuracy_percent:.2f}%\")\n",
    "\n",
    "if mismatch_count > 0:\n",
    "    print(\"\\nMismatched prices:\")\n",
    "    print(mismatches[['product_id', 'price_company', 'price_trusted']])\n",
    "else:\n",
    "    print(\"All prices match perfectly!\")\n"
   ]
  },
  {
   "cell_type": "markdown",
   "metadata": {},
   "source": [
    "### Task 2: Detect Incorrect Values\n",
    "\n",
    "**Description**: In `company_prices.csv` , detect any negative price values which are incorrect values for prices."
   ]
  },
  {
   "cell_type": "code",
   "execution_count": 10,
   "metadata": {},
   "outputs": [
    {
     "name": "stdout",
     "output_type": "stream",
     "text": [
      "Negative price values detected:\n",
      "   product_id  price\n",
      "1         102 -15.49\n",
      "3         104 -20.00\n"
     ]
    }
   ],
   "source": [
    "# Write your code from here\n",
    "import pandas as pd\n",
    "\n",
    "# Sample company prices data with some negative values to simulate errors\n",
    "company_data = {\n",
    "    'product_id': [101, 102, 103, 104, 105],\n",
    "    'price': [9.99, -15.49, 7.99, -20.00, 12.50]\n",
    "}\n",
    "\n",
    "company_df = pd.DataFrame(company_data)\n",
    "\n",
    "# Detect negative prices\n",
    "negative_prices = company_df[company_df['price'] < 0]\n",
    "\n",
    "if not negative_prices.empty:\n",
    "    print(\"Negative price values detected:\")\n",
    "    print(negative_prices)\n",
    "else:\n",
    "    print(\"No negative price values found.\")\n"
   ]
  },
  {
   "cell_type": "markdown",
   "metadata": {},
   "source": [
    "### Task 3: Check Missing Data Rates\n",
    "\n",
    "**Description**: Calculate the percentage of missing values in `customer_data.csv` ."
   ]
  },
  {
   "cell_type": "code",
   "execution_count": 11,
   "metadata": {},
   "outputs": [
    {
     "name": "stdout",
     "output_type": "stream",
     "text": [
      "Percentage of missing values per column:\n",
      "CustomerID     0.0\n",
      "Name          20.0\n",
      "Age           40.0\n",
      "Email         20.0\n",
      "dtype: float64\n"
     ]
    }
   ],
   "source": [
    "# Write your code from here\n",
    "import pandas as pd\n",
    "import numpy as np\n",
    "\n",
    "# Simulated customer data with some missing values\n",
    "data = {\n",
    "    'CustomerID': [1, 2, 3, 4, 5],\n",
    "    'Name': ['Alice', 'Bob', np.nan, 'David', 'Eva'],\n",
    "    'Age': [25, np.nan, 30, 22, np.nan],\n",
    "    'Email': ['alice@example.com', 'bob@example.com', 'charlie@example.com', np.nan, 'eva@example.com']\n",
    "}\n",
    "\n",
    "df = pd.DataFrame(data)\n",
    "\n",
    "# Calculate percentage of missing values per column\n",
    "missing_percent = df.isnull().mean() * 100\n",
    "\n",
    "print(\"Percentage of missing values per column:\")\n",
    "print(missing_percent)\n"
   ]
  },
  {
   "cell_type": "markdown",
   "metadata": {},
   "source": [
    "### Task 4: Handling Partially Available Records\n",
    "\n",
    "**Description**: In `customer_data.csv` , identify records with missing \"email\" or \"phone number\" and decide whether to drop or fill them."
   ]
  },
  {
   "cell_type": "code",
   "execution_count": 12,
   "metadata": {},
   "outputs": [
    {
     "name": "stdout",
     "output_type": "stream",
     "text": [
      "Records with missing Email or Phone:\n",
      "    CustomerID     Name                Email         Phone\n",
      "1           2      Bob                  NaN  234-567-8901\n",
      "2           3  Charlie  charlie@example.com          None\n",
      "3           4    David                 None           NaN\n",
      "\n",
      "Data after dropping records with missing Email or Phone:\n",
      "    CustomerID   Name              Email         Phone\n",
      "0           1  Alice  alice@example.com  123-456-7890\n",
      "4           5    Eva    eva@example.com  567-890-1234\n",
      "\n",
      "Data after filling missing Email and Phone with placeholders:\n",
      "    CustomerID     Name                 Email         Phone\n",
      "0           1    Alice     alice@example.com  123-456-7890\n",
      "1           2      Bob  no_email@unknown.com  234-567-8901\n",
      "2           3  Charlie   charlie@example.com  000-000-0000\n",
      "3           4    David  no_email@unknown.com  000-000-0000\n",
      "4           5      Eva       eva@example.com  567-890-1234\n"
     ]
    }
   ],
   "source": [
    "# Write your code from here\n",
    "import pandas as pd\n",
    "import numpy as np\n",
    "\n",
    "# Sample data simulating missing emails and phone numbers\n",
    "data = {\n",
    "    'CustomerID': [1, 2, 3, 4, 5],\n",
    "    'Name': ['Alice', 'Bob', 'Charlie', 'David', 'Eva'],\n",
    "    'Email': ['alice@example.com', np.nan, 'charlie@example.com', None, 'eva@example.com'],\n",
    "    'Phone': ['123-456-7890', '234-567-8901', None, np.nan, '567-890-1234']\n",
    "}\n",
    "\n",
    "df = pd.DataFrame(data)\n",
    "\n",
    "# Identify records with missing Email or Phone\n",
    "missing_contact = df[df['Email'].isnull() | df['Phone'].isnull()]\n",
    "print(\"Records with missing Email or Phone:\\n\", missing_contact)\n",
    "\n",
    "# Option 1: Drop records with missing Email or Phone\n",
    "df_dropped = df.dropna(subset=['Email', 'Phone'])\n",
    "print(\"\\nData after dropping records with missing Email or Phone:\\n\", df_dropped)\n",
    "\n",
    "# Option 2: Fill missing Email and Phone with placeholders\n",
    "df_filled = df.copy()\n",
    "df_filled['Email'] = df_filled['Email'].fillna('no_email@unknown.com')\n",
    "df_filled['Phone'] = df_filled['Phone'].fillna('000-000-0000')\n",
    "\n",
    "print(\"\\nData after filling missing Email and Phone with placeholders:\\n\", df_filled)\n"
   ]
  }
 ],
 "metadata": {
  "kernelspec": {
   "display_name": "Python 3",
   "language": "python",
   "name": "python3"
  },
  "language_info": {
   "codemirror_mode": {
    "name": "ipython",
    "version": 3
   },
   "file_extension": ".py",
   "mimetype": "text/x-python",
   "name": "python",
   "nbconvert_exporter": "python",
   "pygments_lexer": "ipython3",
   "version": "3.10.12"
  }
 },
 "nbformat": 4,
 "nbformat_minor": 2
}
