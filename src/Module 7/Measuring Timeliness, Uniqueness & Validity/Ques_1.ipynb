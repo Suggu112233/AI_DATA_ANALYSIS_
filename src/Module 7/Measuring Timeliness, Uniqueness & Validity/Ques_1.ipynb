{
 "cells": [
  {
   "cell_type": "markdown",
   "metadata": {},
   "source": [
    "## Format Compliance for Email\n",
    "\n",
    "**Description**: Check if emails in a list are valid based on a basic regex pattern."
   ]
  },
  {
   "cell_type": "markdown",
   "metadata": {},
   "source": [
    "## Format Compliance for Email\n",
    "\n",
    "**Description**: Check if emails in a list are valid based on a basic regex pattern."
   ]
  },
  {
   "cell_type": "code",
   "execution_count": 1,
   "metadata": {},
   "outputs": [
    {
     "name": "stdout",
     "output_type": "stream",
     "text": [
      "john.doe@example.com: Valid\n",
      "jane_smith@company.net: Valid\n",
      "invalid-email@.com: Invalid\n",
      "noatsymbol.com: Invalid\n",
      "user@domain: Invalid\n",
      "user@domain.co.uk: Valid\n"
     ]
    }
   ],
   "source": [
    "# Write your code from here\n",
    "import re\n",
    "\n",
    "# Sample list of emails\n",
    "emails = [\n",
    "    \"john.doe@example.com\",\n",
    "    \"jane_smith@company.net\",\n",
    "    \"invalid-email@.com\",\n",
    "    \"noatsymbol.com\",\n",
    "    \"user@domain\",\n",
    "    \"user@domain.co.uk\"\n",
    "]\n",
    "\n",
    "# Basic regex pattern for email validation\n",
    "email_pattern = re.compile(r'^[\\w\\.-]+@[\\w\\.-]+\\.\\w+$')\n",
    "\n",
    "def validate_emails(email_list):\n",
    "    results = {}\n",
    "    for email in email_list:\n",
    "        if email_pattern.match(email):\n",
    "            results[email] = True\n",
    "        else:\n",
    "            results[email] = False\n",
    "    return results\n",
    "\n",
    "# Validate and print results\n",
    "validation_results = validate_emails(emails)\n",
    "for email, is_valid in validation_results.items():\n",
    "    print(f\"{email}: {'Valid' if is_valid else 'Invalid'}\")\n"
   ]
  },
  {
   "cell_type": "markdown",
   "metadata": {},
   "source": [
    "## Format Compliance for Phone Numbers\n",
    "\n",
    "**Description**: Verify if the phone numbers follow a specific pattern."
   ]
  },
  {
   "cell_type": "code",
   "execution_count": 2,
   "metadata": {},
   "outputs": [],
   "source": [
    "# Write your code from here"
   ]
  },
  {
   "cell_type": "markdown",
   "metadata": {},
   "source": [
    "## Checking Date Validity Format\n",
    "\n",
    "**Description**: Ensure the dates in a list adhere to a specific format (e.g., YYYY-MM-DD)."
   ]
  },
  {
   "cell_type": "code",
   "execution_count": 3,
   "metadata": {},
   "outputs": [],
   "source": [
    "# Write your code from here"
   ]
  }
 ],
 "metadata": {
  "kernelspec": {
   "display_name": "Python 3",
   "language": "python",
   "name": "python3"
  },
  "language_info": {
   "codemirror_mode": {
    "name": "ipython",
    "version": 3
   },
   "file_extension": ".py",
   "mimetype": "text/x-python",
   "name": "python",
   "nbconvert_exporter": "python",
   "pygments_lexer": "ipython3",
   "version": "3.10.12"
  }
 },
 "nbformat": 4,
 "nbformat_minor": 2
}
