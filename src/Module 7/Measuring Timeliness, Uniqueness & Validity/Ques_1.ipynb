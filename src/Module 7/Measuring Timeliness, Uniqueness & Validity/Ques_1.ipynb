{
 "cells": [
  {
   "cell_type": "markdown",
   "metadata": {},
   "source": [
    "## Format Compliance for Email\n",
    "\n",
    "**Description**: Check if emails in a list are valid based on a basic regex pattern."
   ]
  },
  {
   "cell_type": "markdown",
   "metadata": {},
   "source": [
    "## Format Compliance for Email\n",
    "\n",
    "**Description**: Check if emails in a list are valid based on a basic regex pattern."
   ]
  },
  {
   "cell_type": "code",
   "execution_count": 1,
   "metadata": {},
   "outputs": [
    {
     "name": "stdout",
     "output_type": "stream",
     "text": [
      "john.doe@example.com: Valid\n",
      "jane_smith@company.net: Valid\n",
      "invalid-email@.com: Invalid\n",
      "noatsymbol.com: Invalid\n",
      "user@domain: Invalid\n",
      "user@domain.co.uk: Valid\n"
     ]
    }
   ],
   "source": [
    "# Write your code from here\n",
    "import re\n",
    "\n",
    "# Sample list of emails\n",
    "emails = [\n",
    "    \"john.doe@example.com\",\n",
    "    \"jane_smith@company.net\",\n",
    "    \"invalid-email@.com\",\n",
    "    \"noatsymbol.com\",\n",
    "    \"user@domain\",\n",
    "    \"user@domain.co.uk\"\n",
    "]\n",
    "\n",
    "# Basic regex pattern for email validation\n",
    "email_pattern = re.compile(r'^[\\w\\.-]+@[\\w\\.-]+\\.\\w+$')\n",
    "\n",
    "def validate_emails(email_list):\n",
    "    results = {}\n",
    "    for email in email_list:\n",
    "        if email_pattern.match(email):\n",
    "            results[email] = True\n",
    "        else:\n",
    "            results[email] = False\n",
    "    return results\n",
    "\n",
    "# Validate and print results\n",
    "validation_results = validate_emails(emails)\n",
    "for email, is_valid in validation_results.items():\n",
    "    print(f\"{email}: {'Valid' if is_valid else 'Invalid'}\")\n"
   ]
  },
  {
   "cell_type": "markdown",
   "metadata": {},
   "source": [
    "## Format Compliance for Phone Numbers\n",
    "\n",
    "**Description**: Verify if the phone numbers follow a specific pattern."
   ]
  },
  {
   "cell_type": "code",
   "execution_count": 2,
   "metadata": {},
   "outputs": [
    {
     "name": "stdout",
     "output_type": "stream",
     "text": [
      "Total Phone Numbers     : 6\n",
      "Valid Phone Numbers     : 4\n",
      "Invalid Phone Numbers   : 2\n",
      "Format Compliance Rate  : 66.7%\n",
      "\n",
      " Invalid Phone Numbers:\n",
      " customer_id customer_name phone_number\n",
      "           5          Evan 123-45-67890\n",
      "           6           Fay abc-def-ghij\n",
      "\n",
      " Invalid phone numbers saved to 'invalid_phone_numbers.csv'\n"
     ]
    }
   ],
   "source": [
    "import pandas as pd\n",
    "import re\n",
    "\n",
    "# -------------------------------------\n",
    "# Step 1: Simulate a dataset with phone numbers\n",
    "# -------------------------------------\n",
    "data = {\n",
    "    'customer_id': [1, 2, 3, 4, 5, 6],\n",
    "    'customer_name': ['Alice', 'Bob', 'Charlie', 'Diana', 'Evan', 'Fay'],\n",
    "    'phone_number': [\n",
    "        '123-456-7890',     # valid\n",
    "        '(123) 456-7890',   # valid\n",
    "        '1234567890',       # valid\n",
    "        '123.456.7890',     # valid\n",
    "        '123-45-67890',     # invalid\n",
    "        'abc-def-ghij'      # invalid\n",
    "    ]\n",
    "}\n",
    "\n",
    "df = pd.DataFrame(data)\n",
    "\n",
    "# -------------------------------------\n",
    "# Step 2: Define regex pattern for valid phone numbers\n",
    "# -------------------------------------\n",
    "pattern = re.compile(r'^(\\(\\d{3}\\)\\s?|\\d{3}[-.]?)\\d{3}[-.]?\\d{4}$')\n",
    "\n",
    "# -------------------------------------\n",
    "# Step 3: Apply validation\n",
    "# -------------------------------------\n",
    "df['is_valid'] = df['phone_number'].apply(lambda x: bool(pattern.match(x)))\n",
    "\n",
    "# -------------------------------------\n",
    "# Step 4: Report\n",
    "# -------------------------------------\n",
    "valid_count = df['is_valid'].sum()\n",
    "invalid_count = len(df) - valid_count\n",
    "valid_rate = valid_count / len(df) * 100\n",
    "\n",
    "print(f\"Total Phone Numbers     : {len(df)}\")\n",
    "print(f\"Valid Phone Numbers     : {valid_count}\")\n",
    "print(f\"Invalid Phone Numbers   : {invalid_count}\")\n",
    "print(f\"Format Compliance Rate  : {valid_rate:.1f}%\")\n",
    "\n",
    "# Print invalid entries\n",
    "invalid_entries = df[~df['is_valid']]\n",
    "if not invalid_entries.empty:\n",
    "    print(\"\\n Invalid Phone Numbers:\")\n",
    "    print(invalid_entries[['customer_id', 'customer_name', 'phone_number']].to_string(index=False))\n",
    "    invalid_entries.to_csv(\"invalid_phone_numbers.csv\", index=False)\n",
    "    print(\"\\n Invalid phone numbers saved to 'invalid_phone_numbers.csv'\")\n",
    "else:\n",
    "    print(\"\\n All phone numbers are valid.\")\n"
   ]
  },
  {
   "cell_type": "markdown",
   "metadata": {},
   "source": [
    "## Checking Date Validity Format\n",
    "\n",
    "**Description**: Ensure the dates in a list adhere to a specific format (e.g., YYYY-MM-DD)."
   ]
  },
  {
   "cell_type": "code",
   "execution_count": 3,
   "metadata": {},
   "outputs": [
    {
     "name": "stdout",
     "output_type": "stream",
     "text": [
      "Total Dates Checked     : 6\n",
      "Valid Dates             : 2\n",
      "Invalid Dates           : 4\n",
      "Date Format Compliance  : 33.3%\n",
      "\n",
      " Invalid Dates:\n",
      " record_id event_date\n",
      "         3 2024-02-30\n",
      "         4 05-01-2024\n",
      "         5 2024/06/15\n",
      "         6 2024-13-01\n",
      "\n",
      " Invalid dates saved to 'invalid_dates_report.csv'\n"
     ]
    }
   ],
   "source": [
    "import pandas as pd\n",
    "from datetime import datetime\n",
    "\n",
    "# ---------------------------------------\n",
    "# Step 1: Simulated dataset with dates\n",
    "# ---------------------------------------\n",
    "data = {\n",
    "    'record_id': [1, 2, 3, 4, 5, 6],\n",
    "    'event_date': [\n",
    "        '2024-05-01',   # valid\n",
    "        '2024-12-31',   # valid\n",
    "        '2024-02-30',   # invalid - Feb 30 doesn't exist\n",
    "        '05-01-2024',   # invalid format\n",
    "        '2024/06/15',   # invalid format\n",
    "        '2024-13-01'    # invalid - month 13 doesn't exist\n",
    "    ]\n",
    "}\n",
    "\n",
    "df = pd.DataFrame(data)\n",
    "\n",
    "# ---------------------------------------\n",
    "# Step 2: Define date format to validate\n",
    "# ---------------------------------------\n",
    "required_format = \"%Y-%m-%d\"\n",
    "\n",
    "def validate_date(date_str, fmt):\n",
    "    try:\n",
    "        datetime.strptime(date_str, fmt)\n",
    "        return True\n",
    "    except ValueError:\n",
    "        return False\n",
    "\n",
    "# ---------------------------------------\n",
    "# Step 3: Apply validation\n",
    "# ---------------------------------------\n",
    "df['is_valid_date'] = df['event_date'].apply(lambda x: validate_date(x, required_format))\n",
    "\n",
    "# ---------------------------------------\n",
    "# Step 4: Report Results\n",
    "# ---------------------------------------\n",
    "valid_count = df['is_valid_date'].sum()\n",
    "invalid_count = len(df) - valid_count\n",
    "valid_rate = valid_count / len(df) * 100\n",
    "\n",
    "print(f\"Total Dates Checked     : {len(df)}\")\n",
    "print(f\"Valid Dates             : {valid_count}\")\n",
    "print(f\"Invalid Dates           : {invalid_count}\")\n",
    "print(f\"Date Format Compliance  : {valid_rate:.1f}%\")\n",
    "\n",
    "# Show invalid entries\n",
    "invalid_dates = df[~df['is_valid_date']]\n",
    "if not invalid_dates.empty:\n",
    "    print(\"\\n Invalid Dates:\")\n",
    "    print(invalid_dates[['record_id', 'event_date']].to_string(index=False))\n",
    "    invalid_dates.to_csv(\"invalid_dates_report.csv\", index=False)\n",
    "    print(\"\\n Invalid dates saved to 'invalid_dates_report.csv'\")\n",
    "else:\n",
    "    print(\"\\n All dates are valid and properly formatted.\")\n"
   ]
  }
 ],
 "metadata": {
  "kernelspec": {
   "display_name": "Python 3",
   "language": "python",
   "name": "python3"
  },
  "language_info": {
   "codemirror_mode": {
    "name": "ipython",
    "version": 3
   },
   "file_extension": ".py",
   "mimetype": "text/x-python",
   "name": "python",
   "nbconvert_exporter": "python",
   "pygments_lexer": "ipython3",
   "version": "3.10.12"
  }
 },
 "nbformat": 4,
 "nbformat_minor": 2
}
