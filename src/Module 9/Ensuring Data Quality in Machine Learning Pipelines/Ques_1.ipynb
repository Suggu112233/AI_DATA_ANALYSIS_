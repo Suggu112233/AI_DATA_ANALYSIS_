{
 "cells": [
  {
   "cell_type": "markdown",
   "metadata": {},
   "source": [
    "### Garbage In, Garbage Out (GIGO): Cleaning Missing Data\n",
    "**Description**: Load a dataset (e.g., Titanic dataset) and identify missing values. Use\n",
    "appropriate techniques to handle these missing values."
   ]
  },
  {
   "cell_type": "code",
   "execution_count": 2,
   "metadata": {},
   "outputs": [
    {
     "ename": "SyntaxError",
     "evalue": "invalid syntax (4075995331.py, line 2)",
     "output_type": "error",
     "traceback": [
      "\u001b[0;36m  Cell \u001b[0;32mIn[2], line 2\u001b[0;36m\u001b[0m\n\u001b[0;31m    https://github.com/amruthareddy-zenV/AI_DATA_ANALYSIS_\u001b[0m\n\u001b[0m          ^\u001b[0m\n\u001b[0;31mSyntaxError\u001b[0m\u001b[0;31m:\u001b[0m invalid syntax\n"
     ]
    }
   ],
   "source": [
    "# Write your code from here\n",
    "https://github.com/amruthareddy-zenV/AI_DATA_ANALYSIS_"
   ]
  },
  {
   "cell_type": "code",
   "execution_count": null,
   "metadata": {},
   "outputs": [],
   "source": [
    "import grpc\n",
    "from concurrent import futures\n",
    "import time\n",
    "import re\n",
    "\n",
    "import validation_pb2\n",
    "import validation_pb2_grpc\n",
    "\n",
    "class ValidatorServicer(validation_pb2_grpc.ValidatorServicer):\n",
    "    def ValidateUserData(self, request, context):\n",
    "        errors = []\n",
    "\n",
    "        if not request.id.strip():\n",
    "            errors.append(\"ID must not be empty.\")\n",
    "        \n",
    "        email_pattern = r\"[^@]+@[^@]+\\.[^@]+\"\n",
    "        if not re.match(email_pattern, request.email):\n",
    "            errors.append(\"Invalid email format.\")\n",
    "        \n",
    "        if request.age < 0:\n",
    "            errors.append(\"Age must be non-negative.\")\n",
    "        \n",
    "        is_valid = len(errors) == 0\n",
    "        return validation_pb2.ValidationResponse(is_valid=is_valid, errors=errors)\n",
    "\n",
    "def serve():\n",
    "    server = grpc.server(futures.ThreadPoolExecutor(max_workers=10))\n",
    "    validation_pb2_grpc.add_ValidatorServicer_to_server(ValidatorServicer(), server)\n",
    "    server.add_insecure_port('[::]:50051')\n",
    "    server.start()\n",
    "    print(\"gRPC server started on port 50051.\")\n",
    "    try:\n",
    "        while True:\n",
    "            time.sleep(86400)\n",
    "    except KeyboardInterrupt:\n",
    "        server.stop(0)\n",
    "\n",
    "if __name__ == \"__main__\":\n",
    "    serve()\n"
   ]
  }
 ],
 "metadata": {
  "kernelspec": {
   "display_name": "Python 3",
   "language": "python",
   "name": "python3"
  },
  "language_info": {
   "codemirror_mode": {
    "name": "ipython",
    "version": 3
   },
   "file_extension": ".py",
   "mimetype": "text/x-python",
   "name": "python",
   "nbconvert_exporter": "python",
   "pygments_lexer": "ipython3",
   "version": "3.10.12"
  }
 },
 "nbformat": 4,
 "nbformat_minor": 2
}
