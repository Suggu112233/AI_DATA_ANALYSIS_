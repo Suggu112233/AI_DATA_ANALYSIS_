{
 "cells": [
  {
   "cell_type": "markdown",
   "metadata": {},
   "source": [
    "### Garbage In, Garbage Out (GIGO): Cleaning Missing Data\n",
    "**Description**: Load a dataset (e.g., Titanic dataset) and identify missing values. Use\n",
    "appropriate techniques to handle these missing values."
   ]
  },
  {
   "cell_type": "code",
   "execution_count": 1,
   "metadata": {},
   "outputs": [
    {
     "ename": "SyntaxError",
     "evalue": "invalid syntax (4075995331.py, line 2)",
     "output_type": "error",
     "traceback": [
      "\u001b[0;36m  Cell \u001b[0;32mIn[1], line 2\u001b[0;36m\u001b[0m\n\u001b[0;31m    https://github.com/amruthareddy-zenV/AI_DATA_ANALYSIS_\u001b[0m\n\u001b[0m          ^\u001b[0m\n\u001b[0;31mSyntaxError\u001b[0m\u001b[0;31m:\u001b[0m invalid syntax\n"
     ]
    }
   ],
   "source": [
    "# Write your code from here\n",
    "https://github.com/amruthareddy-zenV/AI_DATA_ANALYSIS_"
   ]
  },
  {
   "cell_type": "code",
   "execution_count": null,
   "metadata": {},
   "outputs": [],
   "source": [
    "import pandas as pd\n",
    "from io import StringIO\n",
    "\n",
    "# Step 1: Create sample Titanic CSV data with missing values as a string\n",
    "csv_data = \"\"\"\n",
    "PassengerId,Survived,Pclass,Name,Sex,Age,SibSp,Parch,Ticket,Fare,Cabin,Embarked\n",
    "1,0,3,\"Braund, Mr. Owen Harris\",male,22,1,0,A/5 21171,7.25,,S\n",
    "2,1,1,\"Cumings, Mrs. John Bradley (Florence Briggs Thayer)\",female,38,1,0,PC 17599,71.2833,C85,C\n",
    "3,1,3,\"Heikkinen, Miss. Laina\",female,,0,0,STON/O2. 3101282,7.925,,S\n",
    "4,1,1,\"Futrelle, Mrs. Jacques Heath (Lily May Peel)\",female,35,1,0,113803,53.1,C123,S\n",
    "5,0,3,\"Allen, Mr. William Henry\",male,35,0,0,373450,8.05,,S\n",
    "6,0,3,\"Moran, Mr. James\",male,,0,0,330877,8.4583,,Q\n",
    "7,0,1,\"McCarthy, Mr. Timothy J\",male,54,0,0,17463,51.8625,E46,S\n",
    "8,0,3,\"Palsson, Master. Gosta Leonard\",male,2,3,1,349909,21.075,,S\n",
    "9,1,3,\"Johnson, Mrs. Oscar W (Elisabeth Vilhelmina Berg)\",female,27,0,2,347742,11.1333,,S\n",
    "10,1,2,\"Nasser, Mrs. Nicholas (Adele Achem)\",female,14,1,0,237736,30.0708,,C\n",
    "\"\"\"\n",
    "\n",
    "# Step 2: Load data into pandas DataFrame\n",
    "df = pd.read_csv(StringIO(csv_data))\n",
    "\n",
    "print(\"Original DataFrame with missing values:\\n\")\n",
    "print(df)\n",
    "\n",
    "# Step 3: Identify missing values count per column\n",
    "print(\"\\nMissing values per column:\")\n",
    "print(df.isnull().sum())\n",
    "\n",
    "# Step 4: Handle missing values\n",
    "# For 'Age' (numerical), fill missing with mean\n",
    "df['Age'].fillna(df['Age'].mean(), inplace=True)\n",
    "\n",
    "# For 'Embarked' (categorical), fill missing with mode\n",
    "# Note: in this sample data, Embarked has no missing but let's do it anyway\n",
    "if df['Embarked'].isnull().sum() > 0:\n",
    "    df['Embarked'].fillna(df['Embarked'].mode()[0], inplace=True)\n",
    "\n",
    "# Step 5: Confirm no missing values remain\n",
    "print(\"\\nAfter imputing missing values:\\n\")\n",
    "print(df)\n",
    "print(\"\\nMissing values per column after cleaning:\")\n",
    "print(df.isnull().sum())\n"
   ]
  }
 ],
 "metadata": {
  "kernelspec": {
   "display_name": "Python 3",
   "language": "python",
   "name": "python3"
  },
  "language_info": {
   "codemirror_mode": {
    "name": "ipython",
    "version": 3
   },
   "file_extension": ".py",
   "mimetype": "text/x-python",
   "name": "python",
   "nbconvert_exporter": "python",
   "pygments_lexer": "ipython3",
   "version": "3.10.12"
  }
 },
 "nbformat": 4,
 "nbformat_minor": 2
}
