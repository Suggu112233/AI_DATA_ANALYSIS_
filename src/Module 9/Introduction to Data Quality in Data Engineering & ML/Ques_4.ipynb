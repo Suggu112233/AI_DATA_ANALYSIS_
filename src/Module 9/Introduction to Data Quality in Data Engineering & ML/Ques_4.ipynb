{
 "cells": [
  {
   "cell_type": "markdown",
   "metadata": {},
   "source": [
    "### Implement Data Quality with ISO 8000 Framework\n",
    "**Description**: Understand the key elements of ISO 8000 and how to apply them to ensure data quality.\n",
    "\n",
    "**Conceptual**:\n",
    "1. Data Governance: Set up policies and procedures to ensure high data quality.\n",
    "2. Data Profiling: Use profiling tools to understand and monitor data quality.\n",
    "3. Data Standards: Establish data standards that align with ISO 8000, ensuring consistency.\n",
    "\n",
    "**NOTE**: Assuming data is profiled using pandas_profiling"
   ]
  },
  {
   "cell_type": "code",
   "execution_count": null,
   "metadata": {},
   "outputs": [],
   "source": [
    "# Write your code from here\n",
    "import pandas as pd\n",
    "from pandas_profiling import ProfileReport\n",
    "\n",
    "# Step 1: Data Governance - Define simple data quality policies as functions\n",
    "def check_missing_values(df):\n",
    "    missing = df.isnull().sum()\n",
    "    print(\"Missing Values per Column:\")\n",
    "    print(missing)\n",
    "    return missing\n",
    "\n",
    "def check_data_types(df, expected_types):\n",
    "    mismatches = {}\n",
    "    for col, expected_type in expected_types.items():\n",
    "        if col in df.columns:\n",
    "            actual_type = df[col].dtype\n",
    "            if actual_type != expected_type:\n",
    "                mismatches[col] = (actual_type, expected_type)\n",
    "    if mismatches:\n",
    "        print(\"\\nData type mismatches found:\")\n",
    "        for col, (actual, expected) in mismatches.items():\n",
    "            print(f\" - Column '{col}': actual {actual}, expected {expected}\")\n",
    "    else:\n",
    "        print(\"\\nAll data types match expected schema.\")\n",
    "    return mismatches\n",
    "\n",
    "# Step 2: Data Profiling - Load dataset and generate profiling report\n",
    "def profile_data(df):\n",
    "    profile = ProfileReport(df, title=\"Data Profiling Report (ISO 8000)\", explorative=True)\n",
    "    profile.to_file(\"data_quality_report.html\")\n",
    "    print(\"\\nProfiling report saved as 'data_quality_report.html'\")\n",
    "\n",
    "# Step 3: Data Standards - Define expected schema to check consistency\n",
    "expected_schema = {\n",
    "    \"id\": \"int64\",\n",
    "    \"name\": \"object\",\n",
    "    \"email\": \"object\",\n",
    "    \"signup_date\": \"datetime64[ns]\",\n",
    "    \"purchase_amount\": \"float64\"\n",
    "}\n",
    "\n",
    "# Manually create sample data (simulate ingestion)\n",
    "data = {\n",
    "    \"id\": [1, 2, 3, 4],\n",
    "    \"name\": [\"Alice\", \"Bob\", \"Charlie\", None],\n",
    "    \"email\": [\"alice@example.com\", \"bob@example.com\", None, \"dave@example.com\"],\n",
    "    \"signup_date\": pd.to_datetime([\"2021-01-10\", \"2021-02-15\", \"2021-03-20\", None]),\n",
    "    \"purchase_amount\": [100.0, 200.5, None, 50.0]\n",
    "}\n",
    "\n",
    "df = pd.DataFrame(data)\n",
    "\n",
    "# Apply governance checks\n",
    "missing_vals = check_missing_values(df)\n",
    "type_mismatches = check_data_types(df, expected_schema)\n",
    "\n",
    "# Generate profiling report\n",
    "profile_data(df)\n"
   ]
  }
 ],
 "metadata": {
  "kernelspec": {
   "display_name": "base",
   "language": "python",
   "name": "python3"
  },
  "language_info": {
   "name": "python",
   "version": "3.12.7"
  }
 },
 "nbformat": 4,
 "nbformat_minor": 2
}
