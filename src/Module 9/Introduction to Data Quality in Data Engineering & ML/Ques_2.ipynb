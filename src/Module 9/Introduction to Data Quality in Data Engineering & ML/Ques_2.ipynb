{
 "cells": [
  {
   "cell_type": "markdown",
   "metadata": {},
   "source": [
    "### Imputing Missing Data\n",
    "**Description**: Impute missing data using various strategies like mean, median, or mode."
   ]
  },
  {
   "cell_type": "code",
   "execution_count": 2,
   "metadata": {},
   "outputs": [
    {
     "name": "stdout",
     "output_type": "stream",
     "text": [
      "Original DataFrame:\n",
      "\n",
      "    Age   Salary  Gender\n",
      "0  25.0  50000.0    Male\n",
      "1   NaN  60000.0  Female\n",
      "2  22.0      NaN     NaN\n",
      "3  28.0  52000.0  Female\n",
      "4   NaN  58000.0    Male\n",
      "\n",
      "DataFrame after Imputation:\n",
      "\n",
      "    Age   Salary  Gender\n",
      "0  25.0  50000.0    Male\n",
      "1  25.0  60000.0  Female\n",
      "2  22.0  55000.0  Female\n",
      "3  28.0  52000.0  Female\n",
      "4  25.0  58000.0    Male\n"
     ]
    }
   ],
   "source": [
    "import pandas as pd\n",
    "import numpy as np\n",
    "from sklearn.impute import SimpleImputer\n",
    "\n",
    "# Step 1: Create a sample DataFrame with missing values\n",
    "data = {\n",
    "    'Age': [25, np.nan, 22, 28, np.nan],\n",
    "    'Salary': [50000, 60000, np.nan, 52000, 58000],\n",
    "    'Gender': ['Male', 'Female', np.nan, 'Female', 'Male']\n",
    "}\n",
    "df = pd.DataFrame(data)\n",
    "\n",
    "print(\"Original DataFrame:\\n\")\n",
    "print(df)\n",
    "\n",
    "# Step 2: Imputation using Mean (for numerical)\n",
    "mean_imputer = SimpleImputer(strategy='mean')\n",
    "df['Age'] = mean_imputer.fit_transform(df[['Age']]).ravel()\n",
    "\n",
    "# Step 3: Imputation using Median (optional alternative)\n",
    "median_imputer = SimpleImputer(strategy='median')\n",
    "df['Salary'] = median_imputer.fit_transform(df[['Salary']]).ravel()\n",
    "\n",
    "# Step 4: Imputation using Mode (for categorical)\n",
    "mode_imputer = SimpleImputer(strategy='most_frequent')\n",
    "df['Gender'] = mode_imputer.fit_transform(df[['Gender']]).ravel()\n",
    "\n",
    "print(\"\\nDataFrame after Imputation:\\n\")\n",
    "print(df)\n"
   ]
  }
 ],
 "metadata": {
  "kernelspec": {
   "display_name": "Python 3",
   "language": "python",
   "name": "python3"
  },
  "language_info": {
   "codemirror_mode": {
    "name": "ipython",
    "version": 3
   },
   "file_extension": ".py",
   "mimetype": "text/x-python",
   "name": "python",
   "nbconvert_exporter": "python",
   "pygments_lexer": "ipython3",
   "version": "3.10.12"
  }
 },
 "nbformat": 4,
 "nbformat_minor": 2
}
