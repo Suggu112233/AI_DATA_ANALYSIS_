{
 "cells": [
  {
   "cell_type": "markdown",
   "metadata": {},
   "source": [
    "### Types of Data Quality Issues in ML Pipelines\n",
    "**Description**: Analyze a sample dataset (provided by the instructor) and identify instances of data quality issues such as missing values, bias, or noise."
   ]
  },
  {
   "cell_type": "code",
   "execution_count": null,
   "metadata": {},
   "outputs": [],
   "source": [
    "# Write your code from here\n",
    "\n",
    "import pandas as pd\n",
    "import numpy as np\n",
    "import matplotlib.pyplot as plt\n",
    "import seaborn as sns\n",
    "\n",
    "# Step 1: Create a sample dataset with intentional issues\n",
    "data = {\n",
    "    \"age\": [25, 30, np.nan, 22, 40, 35, 29, np.nan, 50, 27],\n",
    "    \"income\": [50000, 60000, 55000, 58000, 62000, None, 58000, 59000, 60000, 61000],\n",
    "    \"gender\": [\"M\", \"F\", \"F\", \"M\", \"F\", \"M\", \"M\", \"M\", \"F\", \"F\"],\n",
    "    \"purchase\": [1, 0, 1, 0, 1, 1, 0, 1, 0, 1]\n",
    "}\n",
    "df = pd.DataFrame(data)\n",
    "\n",
    "print(\"=== Dataset Preview ===\")\n",
    "print(df)\n",
    "\n",
    "# Step 2: Detect Missing Values\n",
    "print(\"\\n=== Missing Values ===\")\n",
    "print(df.isnull().sum())\n",
    "\n",
    "# Step 3: Detect Bias (Example: Gender bias in purchase)\n",
    "purchase_rate_by_gender = df.groupby(\"gender\")[\"purchase\"].mean()\n",
    "print(\"\\n=== Purchase Rate by Gender (Potential Bias Indicator) ===\")\n",
    "print(purchase_rate_by_gender)\n",
    "\n",
    "# Step 4: Detect Noise (Outliers in numerical features using boxplots)\n",
    "plt.figure(figsize=(10, 4))\n",
    "\n",
    "plt.subplot(1, 2, 1)\n",
    "sns.boxplot(x=df[\"age\"])\n",
    "plt.title(\"Age Distribution\")\n",
    "\n",
    "plt.subplot(1, 2, 2)\n",
    "sns.boxplot(x=df[\"income\"])\n",
    "plt.title(\"Income Distribution\")\n",
    "\n",
    "plt.tight_layout()\n",
    "plt.show()\n",
    "\n",
    "# Optional: Summary\n",
    "print(\"\\nSummary:\")\n",
    "print(\"- Missing values found in 'age' and 'income' columns.\")\n",
    "print(\"- Possible bias detected: purchase rate differs by gender.\")\n",
    "print(\"- Check boxplots for outliers (noise) in numerical features.\")\n",
    "\n"
   ]
  }
 ],
 "metadata": {
  "kernelspec": {
   "display_name": "base",
   "language": "python",
   "name": "python3"
  },
  "language_info": {
   "name": "python",
   "version": "3.12.7"
  }
 },
 "nbformat": 4,
 "nbformat_minor": 2
}
