{
 "cells": [
  {
   "cell_type": "markdown",
   "metadata": {},
   "source": [
    "### Detect Data Drift using Kolmogorov-Smirnov Test\n",
    "**Description**: Use statistical tests to detect data drift between two datasets."
   ]
  },
  {
   "cell_type": "code",
   "execution_count": 1,
   "metadata": {},
   "outputs": [
    {
     "name": "stdout",
     "output_type": "stream",
     "text": [
      "KS Statistic: 0.2310\n",
      "P-value: 0.0000\n",
      "Data drift detected: The two samples come from different distributions.\n"
     ]
    }
   ],
   "source": [
    "import numpy as np\n",
    "from scipy.stats import ks_2samp\n",
    "\n",
    "# Step 1: Generate two sample datasets (numeric feature)\n",
    "np.random.seed(42)\n",
    "data_old = np.random.normal(loc=0, scale=1, size=1000)  # original distribution\n",
    "data_new = np.random.normal(loc=0.5, scale=1.2, size=1000)  # shifted distribution to simulate drift\n",
    "\n",
    "# Step 2: Perform KS test\n",
    "statistic, p_value = ks_2samp(data_old, data_new)\n",
    "\n",
    "print(f\"KS Statistic: {statistic:.4f}\")\n",
    "print(f\"P-value: {p_value:.4f}\")\n",
    "\n",
    "# Step 3: Interpret result\n",
    "alpha = 0.05  # significance level\n",
    "\n",
    "if p_value < alpha:\n",
    "    print(\"Data drift detected: The two samples come from different distributions.\")\n",
    "else:\n",
    "    print(\"No data drift detected: The two samples likely come from the same distribution.\")\n"
   ]
  }
 ],
 "metadata": {
  "kernelspec": {
   "display_name": "Python 3",
   "language": "python",
   "name": "python3"
  },
  "language_info": {
   "codemirror_mode": {
    "name": "ipython",
    "version": 3
   },
   "file_extension": ".py",
   "mimetype": "text/x-python",
   "name": "python",
   "nbconvert_exporter": "python",
   "pygments_lexer": "ipython3",
   "version": "3.10.12"
  }
 },
 "nbformat": 4,
 "nbformat_minor": 2
}
