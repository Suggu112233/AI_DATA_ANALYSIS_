{
 "cells": [
  {
   "cell_type": "markdown",
   "metadata": {},
   "source": [
    "### Detect Data Drift in ML Models\n",
    "**Objective**: Monitor and detect changes in data distributions that impact ML model performance.\n",
    "\n",
    "**Task**: Categorical Feature Drift\n",
    "\n",
    "**Steps**:\n",
    "1. Load the baseline distribution for a categorical feature (e.g., gender ) from your training dataset.\n",
    "2. Load the same feature from your current production data.\n",
    "3. Use chi-squared tests to compare the distributions of the categorical feature.\n",
    "4. Step 4: If significant drift is detected, investigate the cause and update the model as needed."
   ]
  },
  {
   "cell_type": "markdown",
   "metadata": {},
   "source": [
    "### Detect Data Drift in ML Models\n",
    "**Objective**: Monitor and detect changes in data distributions that impact ML model performance.\n",
    "\n",
    "**Task**: Categorical Feature Drift\n",
    "\n",
    "**Steps**:\n",
    "1. Load the baseline distribution for a categorical feature (e.g., gender ) from your training dataset.\n",
    "2. Load the same feature from your current production data.\n",
    "3. Use chi-squared tests to compare the distributions of the categorical feature.\n",
    "4. Step 4: If significant drift is detected, investigate the cause and update the model as needed."
   ]
  },
  {
   "cell_type": "code",
   "execution_count": 1,
   "metadata": {},
   "outputs": [
    {
     "name": "stdout",
     "output_type": "stream",
     "text": [
      "Contingency Table:\n",
      "        baseline  production\n",
      "gender                      \n",
      "Female         4           1\n",
      "Male           4           7\n",
      "\n",
      "Chi-squared Statistic: 1.1636\n",
      "P-value: 0.2807\n",
      "No significant data drift detected in 'gender'.\n"
     ]
    }
   ],
   "source": [
    "# write your code from here\n",
    "\n",
    "import pandas as pd\n",
    "from scipy.stats import chi2_contingency\n",
    "\n",
    "# Step 1: Baseline (training) categorical feature distribution\n",
    "baseline_data = {\n",
    "    'gender': ['Male', 'Female', 'Female', 'Male', 'Female', 'Male', 'Male', 'Female']\n",
    "}\n",
    "baseline_df = pd.DataFrame(baseline_data)\n",
    "\n",
    "# Step 2: Current production categorical feature distribution\n",
    "production_data = {\n",
    "    'gender': ['Male', 'Male', 'Male', 'Female', 'Male', 'Male', 'Male', 'Male']\n",
    "}\n",
    "production_df = pd.DataFrame(production_data)\n",
    "\n",
    "# Get counts of categories in each dataset\n",
    "baseline_counts = baseline_df['gender'].value_counts().sort_index()\n",
    "production_counts = production_df['gender'].value_counts().sort_index()\n",
    "\n",
    "# Align categories (to handle categories missing in one dataset)\n",
    "all_categories = sorted(set(baseline_counts.index).union(set(production_counts.index)))\n",
    "baseline_counts = baseline_counts.reindex(all_categories, fill_value=0)\n",
    "production_counts = production_counts.reindex(all_categories, fill_value=0)\n",
    "\n",
    "# Create contingency table\n",
    "contingency_table = pd.DataFrame({\n",
    "    'baseline': baseline_counts,\n",
    "    'production': production_counts\n",
    "})\n",
    "\n",
    "print(\"Contingency Table:\")\n",
    "print(contingency_table)\n",
    "\n",
    "# Step 3: Perform Chi-Squared Test\n",
    "chi2_stat, p_value, dof, expected = chi2_contingency(contingency_table.T)\n",
    "\n",
    "print(f\"\\nChi-squared Statistic: {chi2_stat:.4f}\")\n",
    "print(f\"P-value: {p_value:.4f}\")\n",
    "\n",
    "# Step 4: Interpret results\n",
    "alpha = 0.05  # significance level\n",
    "if p_value < alpha:\n",
    "    print(\"Significant data drift detected in categorical feature 'gender'.\")\n",
    "    print(\"Investigate the cause and consider updating the ML model.\")\n",
    "else:\n",
    "    print(\"No significant data drift detected in 'gender'.\")\n"
   ]
  }
 ],
 "metadata": {
  "kernelspec": {
   "display_name": "Python 3",
   "language": "python",
   "name": "python3"
  },
  "language_info": {
   "codemirror_mode": {
    "name": "ipython",
    "version": 3
   },
   "file_extension": ".py",
   "mimetype": "text/x-python",
   "name": "python",
   "nbconvert_exporter": "python",
   "pygments_lexer": "ipython3",
   "version": "3.10.12"
  }
 },
 "nbformat": 4,
 "nbformat_minor": 2
}
