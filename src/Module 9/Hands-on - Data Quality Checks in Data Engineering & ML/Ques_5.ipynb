{
 "cells": [
  {
   "cell_type": "markdown",
   "metadata": {},
   "source": [
    "## Detect Schema Mismatches in Data Pipelines\n",
    "**Objective**: Identify and resolve schema mismatches that commonly occur in data pipelines.\n",
    "\n",
    "**Task**: Missing Column\n",
    "\n",
    "1. Load the source DataFrame with the below schema:\n",
    "    - id : Integer\n",
    "    - email : String\n",
    "    - signup_date : Date\n",
    "2. Load the target DataFrame with the below schema:\n",
    "    - id : Integer\n",
    "    - email : String\n",
    "3. Implement a check to identify any columns that are present in the source DataFrame but missing in the target.\n",
    "4. Add the missing `signup_date` column to the target DataFrame."
   ]
  },
  {
   "cell_type": "code",
   "execution_count": null,
   "metadata": {},
   "outputs": [],
   "source": [
    "# write your code from here\n",
    "import pandas as pd\n",
    "from datetime import datetime\n",
    "\n",
    "# Step 1: Create source DataFrame with schema: id, email, signup_date\n",
    "source_data = {\n",
    "    'id': [1, 2, 3],\n",
    "    'email': ['alice@example.com', 'bob@example.com', 'charlie@example.com'],\n",
    "    'signup_date': [pd.Timestamp('2023-01-01'), pd.Timestamp('2023-02-15'), pd.Timestamp('2023-03-10')]\n",
    "}\n",
    "source_df = pd.DataFrame(source_data)\n",
    "\n",
    "# Step 2: Create target DataFrame with schema: id, email (missing signup_date)\n",
    "target_data = {\n",
    "    'id': [1, 2, 3],\n",
    "    'email': ['alice@example.com', 'bob@example.com', 'charlie@example.com']\n",
    "}\n",
    "target_df = pd.DataFrame(target_data)\n",
    "\n",
    "# Step 3: Identify missing columns in target\n",
    "source_cols = set(source_df.columns)\n",
    "target_cols = set(target_df.columns)\n",
    "\n",
    "missing_cols = source_cols - target_cols\n",
    "print(\"Missing columns in target DataFrame:\", missing_cols)\n",
    "\n",
    "# Step 4: Add missing column(s) to target DataFrame with default values\n",
    "for col in missing_cols:\n",
    "    # Use default values from source DataFrame if possible, else fill with NaN or appropriate default\n",
    "    target_df[col] = pd.NaT if source_df[col].dtype == 'datetime64[ns]' else None\n",
    "\n",
    "print(\"\\nTarget DataFrame after adding missing columns:\")\n",
    "print(target_df)\n"
   ]
  }
 ],
 "metadata": {
  "kernelspec": {
   "display_name": "base",
   "language": "python",
   "name": "python3"
  },
  "language_info": {
   "name": "python",
   "version": "3.12.7"
  }
 },
 "nbformat": 4,
 "nbformat_minor": 2
}
