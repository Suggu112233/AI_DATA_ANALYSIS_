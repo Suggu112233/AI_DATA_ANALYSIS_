{
 "cells": [
  {
   "cell_type": "markdown",
   "metadata": {},
   "source": [
    "## Detect Schema Mismatches in Data Pipelines\n",
    "**Objective**: Identify and resolve schema mismatches that commonly occur in data pipelines.\n",
    "\n",
    "**Task**: Column Name Mismatch\n",
    "\n",
    "**Steps**:\n",
    "1. Load the source DataFrame with the below schema:\n",
    "    - id : Integer\n",
    "    - name : String\n",
    "    - age : Integer\n",
    "2. Load the target DataFrame with the below schema:\n",
    "    - id : Integer\n",
    "    - fullname : String\n",
    "    - age : Integer\n",
    "3. Use a schema comparison tool or write a simple function to detect mismatches in column names.\n",
    "4. Resolve the mismatch by renaming the `fullname` column in the target DataFrame to `name` ."
   ]
  },
  {
   "cell_type": "code",
   "execution_count": 1,
   "metadata": {},
   "outputs": [
    {
     "name": "stdout",
     "output_type": "stream",
     "text": [
      "Mismatched columns between source and target: {'fullname', 'name'}\n",
      "\n",
      "Target DataFrame columns after renaming:\n",
      "Index(['id', 'name', 'age'], dtype='object')\n",
      "\n",
      "Schemas match after renaming.\n"
     ]
    }
   ],
   "source": [
    "import pandas as pd\n",
    "\n",
    "# Step 1: Create source DataFrame with schema: id, name, age\n",
    "source_data = {\n",
    "    'id': [1, 2, 3],\n",
    "    'name': ['Alice', 'Bob', 'Charlie'],\n",
    "    'age': [25, 30, 35]\n",
    "}\n",
    "source_df = pd.DataFrame(source_data)\n",
    "\n",
    "# Step 2: Create target DataFrame with schema: id, fullname, age\n",
    "target_data = {\n",
    "    'id': [1, 2, 3],\n",
    "    'fullname': ['Alice', 'Bob', 'Charlie'],\n",
    "    'age': [25, 30, 35]\n",
    "}\n",
    "target_df = pd.DataFrame(target_data)\n",
    "\n",
    "# Step 3: Detect mismatches in column names\n",
    "source_cols = set(source_df.columns)\n",
    "target_cols = set(target_df.columns)\n",
    "\n",
    "mismatched_cols = source_cols.symmetric_difference(target_cols)\n",
    "print(\"Mismatched columns between source and target:\", mismatched_cols)\n",
    "\n",
    "# Step 4: Resolve mismatch by renaming 'fullname' to 'name' in target DataFrame\n",
    "if 'fullname' in target_df.columns:\n",
    "    target_df.rename(columns={'fullname': 'name'}, inplace=True)\n",
    "\n",
    "print(\"\\nTarget DataFrame columns after renaming:\")\n",
    "print(target_df.columns)\n",
    "\n",
    "# Optional: Verify if schemas now match\n",
    "if set(source_df.columns) == set(target_df.columns):\n",
    "    print(\"\\nSchemas match after renaming.\")\n",
    "else:\n",
    "    print(\"\\nSchemas still mismatch.\")\n"
   ]
  }
 ],
 "metadata": {
  "kernelspec": {
   "display_name": "Python 3",
   "language": "python",
   "name": "python3"
  },
  "language_info": {
   "codemirror_mode": {
    "name": "ipython",
    "version": 3
   },
   "file_extension": ".py",
   "mimetype": "text/x-python",
   "name": "python",
   "nbconvert_exporter": "python",
   "pygments_lexer": "ipython3",
   "version": "3.10.12"
  }
 },
 "nbformat": 4,
 "nbformat_minor": 2
}
