{
 "cells": [
  {
   "cell_type": "markdown",
   "metadata": {},
   "source": [
    "### Implementing Adversarial Validation for Data Drift\n",
    "Description: Create and train a classifier that distinguishes between train and test datasets, using the classifier’s performance to infer data drift."
   ]
  },
  {
   "cell_type": "code",
   "execution_count": 2,
   "metadata": {},
   "outputs": [
    {
     "name": "stdout",
     "output_type": "stream",
     "text": [
      "Adversarial Validation AUC: 0.5893\n",
      "No significant data drift detected.\n"
     ]
    }
   ],
   "source": [
    "import pandas as pd\n",
    "import numpy as np\n",
    "from sklearn.ensemble import RandomForestClassifier\n",
    "from sklearn.model_selection import train_test_split\n",
    "from sklearn.metrics import roc_auc_score\n",
    "\n",
    "# Step 1: Create synthetic train and test datasets\n",
    "np.random.seed(42)\n",
    "\n",
    "# Train data: normal distribution\n",
    "train_data = pd.DataFrame({\n",
    "    'feature1': np.random.normal(0, 1, 1000),\n",
    "    'feature2': np.random.normal(5, 2, 1000)\n",
    "})\n",
    "\n",
    "# Test data: slightly shifted distribution (simulate drift)\n",
    "test_data = pd.DataFrame({\n",
    "    'feature1': np.random.normal(0.5, 1, 1000),\n",
    "    'feature2': np.random.normal(4.8, 2.2, 1000)\n",
    "})\n",
    "\n",
    "# Step 2: Label the data\n",
    "train_data['is_test'] = 0\n",
    "test_data['is_test'] = 1\n",
    "\n",
    "# Step 3: Combine and shuffle\n",
    "combined = pd.concat([train_data, test_data], ignore_index=True)\n",
    "X = combined[['feature1', 'feature2']]\n",
    "y = combined['is_test']\n",
    "\n",
    "# Step 4: Split for validation\n",
    "X_train, X_val, y_train, y_val = train_test_split(X, y, test_size=0.3, random_state=42)\n",
    "\n",
    "# Step 5: Train classifier to distinguish train vs test\n",
    "clf = RandomForestClassifier(n_estimators=100, random_state=42)\n",
    "clf.fit(X_train, y_train)\n",
    "\n",
    "# Step 6: Evaluate classifier performance\n",
    "y_pred_proba = clf.predict_proba(X_val)[:, 1]\n",
    "auc_score = roc_auc_score(y_val, y_pred_proba)\n",
    "\n",
    "print(f\"Adversarial Validation AUC: {auc_score:.4f}\")\n",
    "\n",
    "# Step 7: Interpret result\n",
    "if auc_score > 0.7:\n",
    "    print(\"Warning: Significant data drift detected between train and test sets.\")\n",
    "else:\n",
    "    print(\"No significant data drift detected.\")\n"
   ]
  }
 ],
 "metadata": {
  "kernelspec": {
   "display_name": "Python 3",
   "language": "python",
   "name": "python3"
  },
  "language_info": {
   "codemirror_mode": {
    "name": "ipython",
    "version": 3
   },
   "file_extension": ".py",
   "mimetype": "text/x-python",
   "name": "python",
   "nbconvert_exporter": "python",
   "pygments_lexer": "ipython3",
   "version": "3.10.12"
  }
 },
 "nbformat": 4,
 "nbformat_minor": 2
}
