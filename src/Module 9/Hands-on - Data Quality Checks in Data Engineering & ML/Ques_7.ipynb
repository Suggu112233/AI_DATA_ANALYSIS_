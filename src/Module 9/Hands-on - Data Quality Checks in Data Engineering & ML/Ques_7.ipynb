{
 "cells": [
  {
   "cell_type": "markdown",
   "metadata": {},
   "source": [
    "### Detect Data Drift in ML Models\n",
    "**Objective**: Monitor and detect changes in data distributions that impact ML model performance.\n",
    "\n",
    "**Task**: Feature Correlation Drift\n",
    "\n",
    "**Steps**:\n",
    "1. Compute the correlation matrix of features in your training dataset.\n",
    "2. Compute the correlation matrix of the same features in your production data.\n",
    "3. Assess changes in the correlation matrix over time to identify any significant deviations.\n",
    "4. Investigate any significant changes in correlation as they may indicate issues in the data collection process or model assumptions."
   ]
  },
  {
   "cell_type": "markdown",
   "metadata": {},
   "source": [
    "### Detect Data Drift in ML Models\n",
    "**Objective**: Monitor and detect changes in data distributions that impact ML model performance.\n",
    "\n",
    "**Task**: Feature Correlation Drift\n",
    "\n",
    "**Steps**:\n",
    "1. Compute the correlation matrix of features in your training dataset.\n",
    "2. Compute the correlation matrix of the same features in your production data.\n",
    "3. Assess changes in the correlation matrix over time to identify any significant deviations.\n",
    "4. Investigate any significant changes in correlation as they may indicate issues in the data collection process or model assumptions."
   ]
  },
  {
   "cell_type": "code",
   "execution_count": null,
   "metadata": {},
   "outputs": [],
   "source": [
    "# write your code from here\n",
    "import pandas as pd\n",
    "import numpy as np\n",
    "\n",
    "# Step 1: Create example training dataset\n",
    "train_data = {\n",
    "    'feature1': [1, 2, 3, 4, 5, 6, 7, 8, 9, 10],\n",
    "    'feature2': [10, 9, 8, 7, 6, 5, 4, 3, 2, 1],\n",
    "    'feature3': [5, 3, 6, 2, 7, 1, 8, 0, 9, -1]\n",
    "}\n",
    "train_df = pd.DataFrame(train_data)\n",
    "\n",
    "# Step 2: Create example production dataset with some changes in correlation\n",
    "prod_data = {\n",
    "    'feature1': [1, 3, 5, 7, 9, 11, 13, 15, 17, 19],\n",
    "    'feature2': [20, 18, 16, 14, 12, 10, 8, 6, 4, 2],\n",
    "    'feature3': [2, 5, 1, 7, 0, 9, -1, 11, -2, 13]\n",
    "}\n",
    "prod_df = pd.DataFrame(prod_data)\n",
    "\n",
    "# Step 3: Compute correlation matrices\n",
    "train_corr = train_df.corr()\n",
    "prod_corr = prod_df.corr()\n",
    "\n",
    "print(\"Training Data Correlation Matrix:\")\n",
    "print(train_corr)\n",
    "\n",
    "print(\"\\nProduction Data Correlation Matrix:\")\n",
    "print(prod_corr)\n",
    "\n",
    "# Step 4: Calculate difference between correlation matrices\n",
    "corr_diff = (train_corr - prod_corr).abs()\n",
    "\n",
    "print(\"\\nAbsolute difference between correlation matrices:\")\n",
    "print(corr_diff)\n",
    "\n",
    "# Step 5: Set threshold for significant drift (e.g., 0.3)\n",
    "threshold = 0.3\n",
    "\n",
    "# Identify pairs of features with correlation drift exceeding threshold\n",
    "drifted_pairs = []\n",
    "\n",
    "for i in corr_diff.index:\n",
    "    for j in corr_diff.columns:\n",
    "        if i != j and corr_diff.loc[i, j] > threshold:\n",
    "            drifted_pairs.append((i, j, corr_diff.loc[i, j]))\n",
    "\n",
    "if drifted_pairs:\n",
    "    print(\"\\nSignificant correlation drift detected between feature pairs:\")\n",
    "    for f1, f2, diff_val in drifted_pairs:\n",
    "        print(f\" - {f1} and {f2}: drift = {diff_val:.3f}\")\n",
    "else:\n",
    "    print(\"\\nNo significant correlation drift detected.\")\n",
    "\n",
    "\n"
   ]
  }
 ],
 "metadata": {
  "kernelspec": {
   "display_name": "base",
   "language": "python",
   "name": "python3"
  },
  "language_info": {
   "name": "python",
   "version": "3.12.7"
  }
 },
 "nbformat": 4,
 "nbformat_minor": 2
}
