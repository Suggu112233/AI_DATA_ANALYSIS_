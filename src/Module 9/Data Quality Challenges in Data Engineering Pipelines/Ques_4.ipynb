{
 "cells": [
  {
   "cell_type": "markdown",
   "metadata": {},
   "source": [
    "### Complex Schema Validation with Avro\n",
    "**Description**: Implement a solution in Python to validate records against a complex nested Avro schema.\n",
    "\n",
    "Eg., Complex schema ( nested_schema.avsc ):\n",
    "\n",
    "**Steps**:\n",
    "1. Load schema\n",
    "2. Example data to validate\n",
    "3. Validate against schema\n",
    "4. Read back to check"
   ]
  },
  {
   "cell_type": "code",
   "execution_count": 6,
   "metadata": {},
   "outputs": [
    {
     "name": "stdout",
     "output_type": "stream",
     "text": [
      "Validating records:\n",
      " Record 1 is valid? True\n"
     ]
    },
    {
     "ename": "ValidationError",
     "evalue": "[\n  \"example.avro.Employee.age is <thirty> of type <class 'str'> expected int\"\n]",
     "output_type": "error",
     "traceback": [
      "\u001b[0;31m---------------------------------------------------------------------------\u001b[0m",
      "\u001b[0;31mValidationError\u001b[0m                           Traceback (most recent call last)",
      "Cell \u001b[0;32mIn[6], line 59\u001b[0m\n\u001b[1;32m     57\u001b[0m \u001b[38;5;28;01mfor\u001b[39;00m idx, record \u001b[38;5;129;01min\u001b[39;00m \u001b[38;5;28menumerate\u001b[39m(records, start\u001b[38;5;241m=\u001b[39m\u001b[38;5;241m1\u001b[39m):\n\u001b[1;32m     58\u001b[0m     \u001b[38;5;28;01mtry\u001b[39;00m:\n\u001b[0;32m---> 59\u001b[0m         \u001b[43mvalidation\u001b[49m\u001b[38;5;241;43m.\u001b[39;49m\u001b[43mvalidate\u001b[49m\u001b[43m(\u001b[49m\u001b[43mrecord\u001b[49m\u001b[43m,\u001b[49m\u001b[43m \u001b[49m\u001b[43mparsed_schema\u001b[49m\u001b[43m)\u001b[49m\n\u001b[1;32m     60\u001b[0m         \u001b[38;5;28mprint\u001b[39m(\u001b[38;5;124mf\u001b[39m\u001b[38;5;124m\"\u001b[39m\u001b[38;5;124m Record \u001b[39m\u001b[38;5;132;01m{\u001b[39;00midx\u001b[38;5;132;01m}\u001b[39;00m\u001b[38;5;124m is valid? True\u001b[39m\u001b[38;5;124m\"\u001b[39m)\n\u001b[1;32m     61\u001b[0m         valid_records\u001b[38;5;241m.\u001b[39mappend(record)\n",
      "File \u001b[0;32mfastavro/_validation.pyx:301\u001b[0m, in \u001b[0;36mfastavro._validation.validate\u001b[0;34m()\u001b[0m\n",
      "File \u001b[0;32mfastavro/_validation.pyx:311\u001b[0m, in \u001b[0;36mfastavro._validation.validate\u001b[0;34m()\u001b[0m\n",
      "File \u001b[0;32mfastavro/_validation.pyx:275\u001b[0m, in \u001b[0;36mfastavro._validation._validate\u001b[0;34m()\u001b[0m\n",
      "File \u001b[0;32mfastavro/_validation.pyx:151\u001b[0m, in \u001b[0;36mfastavro._validation.validate_record\u001b[0;34m()\u001b[0m\n",
      "File \u001b[0;32mfastavro/_validation.pyx:296\u001b[0m, in \u001b[0;36mfastavro._validation._validate\u001b[0;34m()\u001b[0m\n",
      "\u001b[0;31mValidationError\u001b[0m: [\n  \"example.avro.Employee.age is <thirty> of type <class 'str'> expected int\"\n]"
     ]
    }
   ],
   "source": [
    "import json\n",
    "from fastavro import parse_schema, writer, reader, validation\n",
    "\n",
    "# Step 1: Define the nested Avro schema\n",
    "schema_json = {\n",
    "    \"namespace\": \"example.avro\",\n",
    "    \"type\": \"record\",\n",
    "    \"name\": \"Employee\",\n",
    "    \"fields\": [\n",
    "        {\"name\": \"name\", \"type\": \"string\"},\n",
    "        {\"name\": \"age\", \"type\": \"int\"},\n",
    "        {\"name\": \"address\", \"type\": {\n",
    "            \"type\": \"record\",\n",
    "            \"name\": \"Address\",\n",
    "            \"fields\": [\n",
    "                {\"name\": \"street\", \"type\": \"string\"},\n",
    "                {\"name\": \"city\", \"type\": \"string\"},\n",
    "                {\"name\": \"zip\", \"type\": \"string\"}\n",
    "            ]\n",
    "        }},\n",
    "        {\"name\": \"skills\", \"type\": {\"type\": \"array\", \"items\": \"string\"}}\n",
    "    ]\n",
    "}\n",
    "\n",
    "# Step 2: Parse schema\n",
    "parsed_schema = parse_schema(schema_json)\n",
    "\n",
    "# Step 3: Define example data records\n",
    "valid_record = {\n",
    "    \"name\": \"Alice\",\n",
    "    \"age\": 30,\n",
    "    \"address\": {\n",
    "        \"street\": \"123 Main St\",\n",
    "        \"city\": \"Springfield\",\n",
    "        \"zip\": \"12345\"\n",
    "    },\n",
    "    \"skills\": [\"Python\", \"SQL\", \"Spark\"]\n",
    "}\n",
    "\n",
    "invalid_record = {\n",
    "    \"name\": \"Bob\",\n",
    "    \"age\": \"thirty\",  # Invalid: should be int\n",
    "    \"address\": {\n",
    "        \"street\": \"456 Elm St\",\n",
    "        \"city\": \"Shelbyville\",\n",
    "        \"zip\": \"67890\"\n",
    "    },\n",
    "    \"skills\": [\"Java\", \"C++\"]\n",
    "}\n",
    "\n",
    "# Step 4: Validate records\n",
    "print(\"Validating records:\")\n",
    "\n",
    "records = [valid_record, invalid_record]\n",
    "valid_records = []\n",
    "\n",
    "for idx, record in enumerate(records, start=1):\n",
    "    try:\n",
    "        validation.validate(record, parsed_schema)\n",
    "        print(f\" Record {idx} is valid? True\")\n",
    "        valid_records.append(record)\n",
    "    except ValueError as e:\n",
    "        print(f\" Record {idx} is valid? False\")\n",
    "        print(f\"  ValidationError: {e}\")\n",
    "\n",
    "# Step 5: Write only valid records to Avro file\n",
    "avro_file = \"employees.avro\"\n",
    "with open(avro_file, \"wb\") as out:\n",
    "    writer(out, parsed_schema, valid_records)\n",
    "\n",
    "print(f\"\\nWritten {len(valid_records)} valid record(s) to {avro_file}\")\n",
    "\n",
    "# Step 6: Read back valid records from Avro\n",
    "print(\"\\nReading back records from Avro:\")\n",
    "with open(avro_file, \"rb\") as fo:\n",
    "    for record in reader(fo):\n",
    "        print(record)\n"
   ]
  }
 ],
 "metadata": {
  "kernelspec": {
   "display_name": "Python 3",
   "language": "python",
   "name": "python3"
  },
  "language_info": {
   "codemirror_mode": {
    "name": "ipython",
    "version": 3
   },
   "file_extension": ".py",
   "mimetype": "text/x-python",
   "name": "python",
   "nbconvert_exporter": "python",
   "pygments_lexer": "ipython3",
   "version": "3.10.12"
  }
 },
 "nbformat": 4,
 "nbformat_minor": 2
}
