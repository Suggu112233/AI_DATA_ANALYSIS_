{
 "cells": [
  {
   "cell_type": "code",
   "execution_count": 1,
   "metadata": {},
   "outputs": [],
   "source": [
    "# Part 1: Load a Dataset & Check Missing Values\n",
    "\n",
    "# Task 1: Iris Dataset\n",
    "# - Load the dataset using Pandas.\n",
    "# - Check for missing values in the entire dataset.\n",
    "\n",
    "\n",
    "\n",
    "\n",
    "\n",
    "\n",
    "\n",
    "\n",
    "# Part 2: Identify Duplicates & Inconsistencies\n",
    "\n",
    "# Task 2: Inconsistent Entries in a Sample Dataset\n",
    "# - Assume you have a dataset with a 'Gender' column. Identify inconsistent entries like 'M', 'Male', or 'male'.\n",
    "\n",
    "\n",
    "\n",
    "\n",
    "\n",
    "\n",
    "\n",
    "\n",
    "\n",
    "# Part 3: Generate a Data Quality Report\n",
    "\n",
    "# Task 3: Iris Dataset Summary\n",
    "# - Generate basic descriptive statistics for the Iris dataset.\n",
    "\n",
    "\n",
    "\n",
    "\n"
   ]
  },
  {
   "cell_type": "code",
   "execution_count": 2,
   "metadata": {},
   "outputs": [
    {
     "name": "stdout",
     "output_type": "stream",
     "text": [
      "Missing values in each column:\n",
      "sepal_length    0\n",
      "sepal_width     0\n",
      "petal_length    0\n",
      "petal_width     0\n",
      "species         0\n",
      "dtype: int64\n"
     ]
    }
   ],
   "source": [
    "import pandas as pd\n",
    "\n",
    "# Load Iris dataset from seaborn or from CSV\n",
    "import seaborn as sns\n",
    "iris = sns.load_dataset('iris')\n",
    "\n",
    "# Check for missing values in the entire dataset\n",
    "missing_values = iris.isnull().sum()\n",
    "\n",
    "print(\"Missing values in each column:\")\n",
    "print(missing_values)\n"
   ]
  },
  {
   "cell_type": "code",
   "execution_count": 3,
   "metadata": {},
   "outputs": [
    {
     "name": "stdout",
     "output_type": "stream",
     "text": [
      "Unique entries in 'Gender' column:\n",
      "['Female' 'M' 'male' 'Male' 'F']\n",
      "\n",
      "DataFrame after normalizing 'Gender':\n",
      "      Name  Gender Gender_normalized\n",
      "0    Alice  Female            Female\n",
      "1      Bob       M              Male\n",
      "2  Charlie    male              Male\n",
      "3    David    Male              Male\n",
      "4      Eva       F            Female\n"
     ]
    }
   ],
   "source": [
    "# Sample dataset with 'Gender' column containing inconsistent entries\n",
    "data = {\n",
    "    'Name': ['Alice', 'Bob', 'Charlie', 'David', 'Eva'],\n",
    "    'Gender': ['Female', 'M', 'male', 'Male', 'F']\n",
    "}\n",
    "df = pd.DataFrame(data)\n",
    "\n",
    "# Check unique entries in 'Gender' column to identify inconsistencies\n",
    "unique_genders = df['Gender'].unique()\n",
    "print(\"Unique entries in 'Gender' column:\")\n",
    "print(unique_genders)\n",
    "\n",
    "# Optionally: Normalize the 'Gender' entries (e.g., map all variants of male/female to consistent labels)\n",
    "gender_map = {\n",
    "    'M': 'Male',\n",
    "    'male': 'Male',\n",
    "    'Male': 'Male',\n",
    "    'F': 'Female',\n",
    "    'Female': 'Female'\n",
    "}\n",
    "\n",
    "df['Gender_normalized'] = df['Gender'].map(gender_map)\n",
    "\n",
    "print(\"\\nDataFrame after normalizing 'Gender':\")\n",
    "print(df)\n"
   ]
  },
  {
   "cell_type": "code",
   "execution_count": 4,
   "metadata": {},
   "outputs": [
    {
     "name": "stdout",
     "output_type": "stream",
     "text": [
      "Iris Dataset Summary Statistics:\n",
      "        sepal_length  sepal_width  petal_length  petal_width species\n",
      "count     150.000000   150.000000    150.000000   150.000000     150\n",
      "unique           NaN          NaN           NaN          NaN       3\n",
      "top              NaN          NaN           NaN          NaN  setosa\n",
      "freq             NaN          NaN           NaN          NaN      50\n",
      "mean        5.843333     3.057333      3.758000     1.199333     NaN\n",
      "std         0.828066     0.435866      1.765298     0.762238     NaN\n",
      "min         4.300000     2.000000      1.000000     0.100000     NaN\n",
      "25%         5.100000     2.800000      1.600000     0.300000     NaN\n",
      "50%         5.800000     3.000000      4.350000     1.300000     NaN\n",
      "75%         6.400000     3.300000      5.100000     1.800000     NaN\n",
      "max         7.900000     4.400000      6.900000     2.500000     NaN\n"
     ]
    }
   ],
   "source": [
    "# Generate descriptive statistics for the Iris dataset\n",
    "summary = iris.describe(include='all')\n",
    "\n",
    "print(\"Iris Dataset Summary Statistics:\")\n",
    "print(summary)\n"
   ]
  }
 ],
 "metadata": {
  "kernelspec": {
   "display_name": "Python 3",
   "language": "python",
   "name": "python3"
  },
  "language_info": {
   "codemirror_mode": {
    "name": "ipython",
    "version": 3
   },
   "file_extension": ".py",
   "mimetype": "text/x-python",
   "name": "python",
   "nbconvert_exporter": "python",
   "pygments_lexer": "ipython3",
   "version": "3.10.12"
  }
 },
 "nbformat": 4,
 "nbformat_minor": 2
}
