{
 "cells": [
  {
   "cell_type": "code",
   "execution_count": 1,
   "metadata": {},
   "outputs": [],
   "source": [
    "# Question: Detecting Data Drift\n",
    "# Description: Identify potential data drift between two time periods for a numeric attribute.\n"
   ]
  },
  {
   "cell_type": "code",
   "execution_count": 2,
   "metadata": {},
   "outputs": [
    {
     "name": "stdout",
     "output_type": "stream",
     "text": [
      "CSV file 'my_generated_data.csv' created successfully!\n",
      "It contains 10 rows and 5 columns.\n",
      "\n",
      "First 5 rows of the generated data:\n",
      "      Name  Age         City Occupation  Salary\n",
      "0    Alice   24     New York   Engineer   70000\n",
      "1      Bob   30  Los Angeles     Artist   55000\n",
      "2  Charlie   35      Chicago     Doctor  120000\n",
      "3    David   28      Houston    Teacher   60000\n",
      "4      Eve   42      Phoenix   Designer   80000\n",
      "\n",
      "File 'my_generated_data.csv' found at: /workspaces/AI_DATA_ANALYSIS_/src/Module 3/Identifying & Measuring Data Quality Issues/my_generated_data.csv\n"
     ]
    }
   ],
   "source": [
    "import pandas as pd\n",
    "import os # Import the os module for file path operations (optional, but good practice)\n",
    "\n",
    "# --- Define Sample Data ---\n",
    "# This dictionary represents the data you want to save into your CSV.\n",
    "# Each key will become a column header, and its value will be a list\n",
    "# containing the data for that column. Ensure all lists are of the same length.\n",
    "sample_data = {\n",
    "    'Name': ['Alice', 'Bob', 'Charlie', 'David', 'Eve', 'Frank', 'Grace', 'Heidi', 'Ivan', 'Judy'],\n",
    "    'Age': [24, 30, 35, 28, 42, 55, 29, 31, 40, 27],\n",
    "    'City': ['New York', 'Los Angeles', 'Chicago', 'Houston', 'Phoenix', 'Philadelphia', 'San Antonio', 'San Diego', 'Dallas', 'San Jose'],\n",
    "    'Occupation': ['Engineer', 'Artist', 'Doctor', 'Teacher', 'Designer', 'Manager', 'Analyst', 'Consultant', 'Developer', 'Salesperson'],\n",
    "    'Salary': [70000, 55000, 120000, 60000, 80000, 95000, 65000, 72000, 100000, 58000]\n",
    "}\n",
    "\n",
    "# --- Create a Pandas DataFrame from the Sample Data ---\n",
    "# A DataFrame is a 2-dimensional labeled data structure with columns of potentially\n",
    "# different types. It's similar to a spreadsheet or SQL table.\n",
    "df = pd.DataFrame(sample_data)\n",
    "\n",
    "# --- Define the CSV File Path ---\n",
    "# This is the name of the CSV file that will be created.\n",
    "# By default, it will be saved in the same directory where your Python script is run.\n",
    "csv_file_name = 'my_generated_data.csv'\n",
    "\n",
    "# --- Save the DataFrame to a CSV File ---\n",
    "# .to_csv() is a Pandas method that writes the DataFrame to a CSV file.\n",
    "# 'index=False' is crucial: it prevents Pandas from writing the DataFrame's\n",
    "# internal index (0, 1, 2, ...) as an extra column in your CSV file.\n",
    "try:\n",
    "    df.to_csv(csv_file_name, index=False)\n",
    "    print(f\"CSV file '{csv_file_name}' created successfully!\")\n",
    "    print(f\"It contains {len(df)} rows and {len(df.columns)} columns.\")\n",
    "    print(\"\\nFirst 5 rows of the generated data:\")\n",
    "    print(df.head()) # Display the first few rows to confirm content\n",
    "except Exception as e:\n",
    "    print(f\"An error occurred while creating the CSV file: {e}\")\n",
    "\n",
    "# You can optionally verify the file exists\n",
    "if os.path.exists(csv_file_name):\n",
    "    print(f\"\\nFile '{csv_file_name}' found at: {os.path.abspath(csv_file_name)}\")\n",
    "else:\n",
    "    print(f\"\\nFile '{csv_file_name}' was not found after creation attempt.\")\n",
    "\n"
   ]
  },
  {
   "cell_type": "code",
   "execution_count": 3,
   "metadata": {},
   "outputs": [
    {
     "name": "stdout",
     "output_type": "stream",
     "text": [
      "KS statistic: 0.212\n",
      "P-value: 4.397213520931296e-20\n",
      "Data drift detected in 'Age' distribution.\n"
     ]
    }
   ],
   "source": [
    "import pandas as pd\n",
    "import numpy as np\n",
    "from scipy.stats import ks_2samp\n",
    "\n",
    "# Simulate old data with mean 40, std 10\n",
    "df_old = pd.DataFrame({\n",
    "    'Age': np.random.normal(40, 10, 1000)\n",
    "})\n",
    "\n",
    "# Simulate new data with mean 45, std 10 (shifted distribution)\n",
    "df_new = pd.DataFrame({\n",
    "    'Age': np.random.normal(45, 10, 1000)\n",
    "})\n",
    "\n",
    "# Detect drift using Kolmogorov-Smirnov test\n",
    "stat, p_value = ks_2samp(df_old['Age'], df_new['Age'])\n",
    "print(f\"KS statistic: {stat}\")\n",
    "print(f\"P-value: {p_value}\")\n",
    "\n",
    "if p_value < 0.05:\n",
    "    print(\"Data drift detected in 'Age' distribution.\")\n",
    "else:\n",
    "    print(\"No significant data drift detected.\")\n"
   ]
  },
  {
   "cell_type": "code",
   "execution_count": 4,
   "metadata": {},
   "outputs": [],
   "source": [
    "import pandas as pd\n",
    "import numpy as np\n",
    "\n",
    "# Simulate old data\n",
    "df_old = pd.DataFrame({\n",
    "    'Age': np.random.normal(40, 10, 1000)  # mean 40, std 10, 1000 samples\n",
    "})\n",
    "\n",
    "# Simulate new data (shifted mean to 45)\n",
    "df_new = pd.DataFrame({\n",
    "    'Age': np.random.normal(45, 10, 1000)\n",
    "})\n"
   ]
  }
 ],
 "metadata": {
  "kernelspec": {
   "display_name": "Python 3",
   "language": "python",
   "name": "python3"
  },
  "language_info": {
   "codemirror_mode": {
    "name": "ipython",
    "version": 3
   },
   "file_extension": ".py",
   "mimetype": "text/x-python",
   "name": "python",
   "nbconvert_exporter": "python",
   "pygments_lexer": "ipython3",
   "version": "3.10.12"
  }
 },
 "nbformat": 4,
 "nbformat_minor": 2
}
