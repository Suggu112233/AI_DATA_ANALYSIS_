{
 "cells": [
  {
   "cell_type": "code",
   "execution_count": 7,
   "metadata": {},
   "outputs": [],
   "source": [
    "# Question: Data Quality Automation Tools - Introduction to Great Expectations\n",
    "# Description: Set up a simple Great Expectations check for missing values in a numeric column.\n",
    "\n"
   ]
  },
  {
   "cell_type": "code",
   "execution_count": 8,
   "metadata": {},
   "outputs": [
    {
     "ename": "ImportError",
     "evalue": "cannot import name 'BaseDataContext' from 'great_expectations.data_context' (/home/vscode/.local/lib/python3.10/site-packages/great_expectations/data_context/__init__.py)",
     "output_type": "error",
     "traceback": [
      "\u001b[0;31m---------------------------------------------------------------------------\u001b[0m",
      "\u001b[0;31mImportError\u001b[0m                               Traceback (most recent call last)",
      "Cell \u001b[0;32mIn[8], line 4\u001b[0m\n\u001b[1;32m      2\u001b[0m \u001b[38;5;28;01mimport\u001b[39;00m\u001b[38;5;250m \u001b[39m\u001b[38;5;21;01mgreat_expectations\u001b[39;00m\u001b[38;5;250m \u001b[39m\u001b[38;5;28;01mas\u001b[39;00m\u001b[38;5;250m \u001b[39m\u001b[38;5;21;01mge\u001b[39;00m\n\u001b[1;32m      3\u001b[0m \u001b[38;5;28;01mfrom\u001b[39;00m\u001b[38;5;250m \u001b[39m\u001b[38;5;21;01mgreat_expectations\u001b[39;00m\u001b[38;5;21;01m.\u001b[39;00m\u001b[38;5;21;01mcore\u001b[39;00m\u001b[38;5;21;01m.\u001b[39;00m\u001b[38;5;21;01mbatch\u001b[39;00m\u001b[38;5;250m \u001b[39m\u001b[38;5;28;01mimport\u001b[39;00m BatchRequest\n\u001b[0;32m----> 4\u001b[0m \u001b[38;5;28;01mfrom\u001b[39;00m\u001b[38;5;250m \u001b[39m\u001b[38;5;21;01mgreat_expectations\u001b[39;00m\u001b[38;5;21;01m.\u001b[39;00m\u001b[38;5;21;01mdata_context\u001b[39;00m\u001b[38;5;250m \u001b[39m\u001b[38;5;28;01mimport\u001b[39;00m BaseDataContext\n\u001b[1;32m      5\u001b[0m \u001b[38;5;28;01mfrom\u001b[39;00m\u001b[38;5;250m \u001b[39m\u001b[38;5;21;01mgreat_expectations\u001b[39;00m\u001b[38;5;21;01m.\u001b[39;00m\u001b[38;5;21;01mvalidator\u001b[39;00m\u001b[38;5;21;01m.\u001b[39;00m\u001b[38;5;21;01mvalidator\u001b[39;00m\u001b[38;5;250m \u001b[39m\u001b[38;5;28;01mimport\u001b[39;00m Validator\n\u001b[1;32m      6\u001b[0m \u001b[38;5;28;01mimport\u001b[39;00m\u001b[38;5;250m \u001b[39m\u001b[38;5;21;01mos\u001b[39;00m\n",
      "\u001b[0;31mImportError\u001b[0m: cannot import name 'BaseDataContext' from 'great_expectations.data_context' (/home/vscode/.local/lib/python3.10/site-packages/great_expectations/data_context/__init__.py)"
     ]
    }
   ],
   "source": [
    "import pandas as pd\n",
    "import great_expectations as ge\n",
    "from great_expectations.core.batch import BatchRequest\n",
    "from great_expectations.data_context import BaseDataContext\n",
    "from great_expectations.validator.validator import Validator\n",
    "import os\n",
    "\n",
    "# Step 1: Create CSV file programmatically\n",
    "csv_path = \"sample_data.csv\"\n",
    "data = {\n",
    "    \"id\": [1, 2, 3, 4, 5],\n",
    "    \"score\": [95, 88, None, 76, 85],  # 'score' column has one missing value\n",
    "}\n",
    "df = pd.DataFrame(data)\n",
    "df.to_csv(csv_path, index=False)\n",
    "\n",
    "# Step 2: Create a minimal Great Expectations context and datasource for pandas\n",
    "context = BaseDataContext(\n",
    "    project_config={\n",
    "        \"datasources\": {\n",
    "            \"my_pandas_datasource\": {\n",
    "                \"class_name\": \"Datasource\",\n",
    "                \"execution_engine\": {\n",
    "                    \"class_name\": \"PandasExecutionEngine\"\n",
    "                },\n",
    "                \"data_connectors\": {\n",
    "                    \"default_runtime_data_connector\": {\n",
    "                        \"class_name\": \"RuntimeDataConnector\",\n",
    "                        \"batch_identifiers\": [\"default_identifier_name\"],\n",
    "                    }\n",
    "                },\n",
    "            }\n",
    "        },\n",
    "        \"stores\": {\n",
    "            \"expectations_store\": {\"class_name\": \"InMemoryStore\"},\n",
    "            \"validations_store\": {\"class_name\": \"InMemoryStore\"},\n",
    "            \"checkpoint_store\": {\"class_name\": \"InMemoryStore\"},\n",
    "        },\n",
    "        \"expectations_store_name\": \"expectations_store\",\n",
    "        \"validations_store_name\": \"validations_store\",\n",
    "        \"checkpoint_store_name\": \"checkpoint_store\",\n",
    "        \"validation_operators\": {},\n",
    "        \"data_docs_sites\": {},\n",
    "    }\n",
    ")\n",
    "\n",
    "# Step 3: Load data and create a Validator for it\n",
    "batch_request = BatchRequest(\n",
    "    datasource_name=\"my_pandas_datasource\",\n",
    "    data_connector_name=\"default_runtime_data_connector\",\n",
    "    data_asset_name=\"my_data_asset\",  # arbitrary name\n",
    "    runtime_parameters={\"batch_data\": pd.read_csv(csv_path)},\n",
    "    batch_identifiers={\"default_identifier_name\": \"default_identifier\"},\n",
    ")\n",
    "\n",
    "validator: Validator = context.get_validator(batch_request=batch_request)\n",
    "\n",
    "# Step 4: Add expectation - no missing values in 'score' column\n",
    "validator.expect_column_values_to_not_be_null(\"score\")\n",
    "\n",
    "# Step 5: Run validation\n",
    "results = validator.validate()\n",
    "\n",
    "# Step 6: Print summary\n",
    "print(results)\n",
    "\n",
    "# Optional: print just the missing values check result\n",
    "for res in results[\"results\"]:\n",
    "    if res[\"expectation_config\"][\"expectation_type\"] == \"expect_column_values_to_not_be_null\":\n",
    "        print(\"\\nExpectation:\", res[\"expectation_config\"][\"expectation_type\"])\n",
    "        print(\"Success:\", res[\"success\"])\n",
    "        print(\"Details:\", res[\"result\"])\n"
   ]
  },
  {
   "cell_type": "code",
   "execution_count": null,
   "metadata": {},
   "outputs": [
    {
     "ename": "AttributeError",
     "evalue": "module 'great_expectations' has no attribute 'from_pandas'",
     "output_type": "error",
     "traceback": [
      "\u001b[0;31m---------------------------------------------------------------------------\u001b[0m",
      "\u001b[0;31mAttributeError\u001b[0m                            Traceback (most recent call last)",
      "Cell \u001b[0;32mIn[4], line 17\u001b[0m\n\u001b[1;32m     14\u001b[0m df \u001b[38;5;241m=\u001b[39m pd\u001b[38;5;241m.\u001b[39mread_csv(csv_path)\n\u001b[1;32m     16\u001b[0m \u001b[38;5;66;03m# Step 3: Convert pandas DataFrame to Great Expectations dataset\u001b[39;00m\n\u001b[0;32m---> 17\u001b[0m df_ge \u001b[38;5;241m=\u001b[39m \u001b[43mge\u001b[49m\u001b[38;5;241;43m.\u001b[39;49m\u001b[43mfrom_pandas\u001b[49m(df)\n\u001b[1;32m     19\u001b[0m \u001b[38;5;66;03m# Step 4: Create expectation: no missing values in 'score' column\u001b[39;00m\n\u001b[1;32m     20\u001b[0m df_ge\u001b[38;5;241m.\u001b[39mexpect_column_values_to_not_be_null(\u001b[38;5;124m'\u001b[39m\u001b[38;5;124mscore\u001b[39m\u001b[38;5;124m'\u001b[39m)\n",
      "\u001b[0;31mAttributeError\u001b[0m: module 'great_expectations' has no attribute 'from_pandas'"
     ]
    }
   ],
   "source": []
  }
 ],
 "metadata": {
  "kernelspec": {
   "display_name": "Python 3",
   "language": "python",
   "name": "python3"
  },
  "language_info": {
   "codemirror_mode": {
    "name": "ipython",
    "version": 3
   },
   "file_extension": ".py",
   "mimetype": "text/x-python",
   "name": "python",
   "nbconvert_exporter": "python",
   "pygments_lexer": "ipython3",
   "version": "3.10.12"
  }
 },
 "nbformat": 4,
 "nbformat_minor": 2
}
