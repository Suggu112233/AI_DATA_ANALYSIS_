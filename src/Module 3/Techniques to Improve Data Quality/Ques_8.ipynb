{
 "cells": [
  {
   "cell_type": "code",
   "execution_count": 5,
   "metadata": {},
   "outputs": [],
   "source": [
    "# Question: Data Quality Automation Tools - Introduction to Great Expectations\n",
    "# Description: Set up a simple Great Expectations check for missing values in a numeric column.\n",
    "\n"
   ]
  },
  {
   "cell_type": "code",
   "execution_count": 6,
   "metadata": {},
   "outputs": [
    {
     "ename": "AttributeError",
     "evalue": "module 'great_expectations' has no attribute 'from_pandas'",
     "output_type": "error",
     "traceback": [
      "\u001b[0;31m---------------------------------------------------------------------------\u001b[0m",
      "\u001b[0;31mAttributeError\u001b[0m                            Traceback (most recent call last)",
      "Cell \u001b[0;32mIn[6], line 12\u001b[0m\n\u001b[1;32m      9\u001b[0m df \u001b[38;5;241m=\u001b[39m pd\u001b[38;5;241m.\u001b[39mDataFrame(data)\n\u001b[1;32m     11\u001b[0m \u001b[38;5;66;03m# Convert to Great Expectations dataframe\u001b[39;00m\n\u001b[0;32m---> 12\u001b[0m ge_df \u001b[38;5;241m=\u001b[39m \u001b[43mge\u001b[49m\u001b[38;5;241;43m.\u001b[39;49m\u001b[43mfrom_pandas\u001b[49m(df)\n\u001b[1;32m     14\u001b[0m \u001b[38;5;66;03m# Check for missing values in the 'age' column\u001b[39;00m\n\u001b[1;32m     15\u001b[0m result \u001b[38;5;241m=\u001b[39m ge_df\u001b[38;5;241m.\u001b[39mexpect_column_values_to_not_be_null(\u001b[38;5;124m\"\u001b[39m\u001b[38;5;124mage\u001b[39m\u001b[38;5;124m\"\u001b[39m)\n",
      "\u001b[0;31mAttributeError\u001b[0m: module 'great_expectations' has no attribute 'from_pandas'"
     ]
    }
   ],
   "source": [
    "import great_expectations as ge\n",
    "import pandas as pd\n",
    "\n",
    "# Sample dataframe\n",
    "data = {\n",
    "    \"age\": [25, 30, None, 22, 40],\n",
    "    \"salary\": [50000, 60000, 55000, None, 70000]\n",
    "}\n",
    "df = pd.DataFrame(data)\n",
    "\n",
    "# Convert to Great Expectations dataframe\n",
    "ge_df = ge.from_pandas(df)\n",
    "\n",
    "# Check for missing values in the 'age' column\n",
    "result = ge_df.expect_column_values_to_not_be_null(\"age\")\n",
    "\n",
    "# Print the result\n",
    "print(result)\n"
   ]
  },
  {
   "cell_type": "code",
   "execution_count": null,
   "metadata": {},
   "outputs": [],
   "source": [
    "import great_expectations as ge\n",
    "import pandas as pd\n",
    "\n",
    "# Sample dataframe\n",
    "data = {\n",
    "    \"age\": [25, 30, None, 22, 40],\n",
    "    \"salary\": [50000, 60000, 55000, None, 70000]\n",
    "}\n",
    "df = pd.DataFrame(data)\n",
    "\n",
    "# Convert to Great Expectations dataframe\n",
    "ge_df = ge.from_pandas(df)\n",
    "\n",
    "# Check for missing values in the 'age' column\n",
    "result = ge_df.expect_column_values_to_not_be_null(\"age\")\n",
    "\n",
    "# Print the result\n",
    "print(result)\n"
   ]
  }
 ],
 "metadata": {
  "kernelspec": {
   "display_name": "Python 3",
   "language": "python",
   "name": "python3"
  },
  "language_info": {
   "codemirror_mode": {
    "name": "ipython",
    "version": 3
   },
   "file_extension": ".py",
   "mimetype": "text/x-python",
   "name": "python",
   "nbconvert_exporter": "python",
   "pygments_lexer": "ipython3",
   "version": "3.10.12"
  }
 },
 "nbformat": 4,
 "nbformat_minor": 2
}
