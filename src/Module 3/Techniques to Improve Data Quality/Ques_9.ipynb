{
 "cells": [
  {
   "cell_type": "code",
   "execution_count": 1,
   "metadata": {},
   "outputs": [],
   "source": [
    "# Question: Predictive Imputation Using Machine Learning\n",
    "# Description: Use a simple predictive model to impute missing values in a column.\n",
    "\n"
   ]
  },
  {
   "cell_type": "code",
   "execution_count": 2,
   "metadata": {},
   "outputs": [
    {
     "name": "stdout",
     "output_type": "stream",
     "text": [
      "Data after imputation:\n",
      "     Age  Salary  Experience\n",
      "0  25.00   50000           2\n",
      "1  30.00   60000           5\n",
      "2  26.04   55000           4\n",
      "3  22.00   52000           1\n",
      "4  40.00   70000           8\n",
      "5  27.80   58000           3\n",
      "6  35.00   62000           6\n"
     ]
    }
   ],
   "source": [
    "import pandas as pd\n",
    "from sklearn.ensemble import RandomForestRegressor\n",
    "from sklearn.model_selection import train_test_split\n",
    "\n",
    "# Sample dataset with missing values in 'Age'\n",
    "data = {\n",
    "    'Age': [25, 30, None, 22, 40, None, 35],\n",
    "    'Salary': [50000, 60000, 55000, 52000, 70000, 58000, 62000],\n",
    "    'Experience': [2, 5, 4, 1, 8, 3, 6]\n",
    "}\n",
    "\n",
    "df = pd.DataFrame(data)\n",
    "\n",
    "# Separate rows where 'Age' is missing and not missing\n",
    "df_missing = df[df['Age'].isnull()]\n",
    "df_not_missing = df[df['Age'].notnull()]\n",
    "\n",
    "# Features for prediction (all except 'Age')\n",
    "features = ['Salary', 'Experience']\n",
    "\n",
    "# Training data\n",
    "X_train = df_not_missing[features]\n",
    "y_train = df_not_missing['Age']\n",
    "\n",
    "# Data to predict\n",
    "X_predict = df_missing[features]\n",
    "\n",
    "# Build and train model\n",
    "model = RandomForestRegressor(random_state=42)\n",
    "model.fit(X_train, y_train)\n",
    "\n",
    "# Predict missing ages\n",
    "predicted_ages = model.predict(X_predict)\n",
    "\n",
    "# Fill the missing values in original dataframe\n",
    "df.loc[df['Age'].isnull(), 'Age'] = predicted_ages\n",
    "\n",
    "print(\"Data after imputation:\")\n",
    "print(df)\n"
   ]
  }
 ],
 "metadata": {
  "kernelspec": {
   "display_name": "Python 3",
   "language": "python",
   "name": "python3"
  },
  "language_info": {
   "codemirror_mode": {
    "name": "ipython",
    "version": 3
   },
   "file_extension": ".py",
   "mimetype": "text/x-python",
   "name": "python",
   "nbconvert_exporter": "python",
   "pygments_lexer": "ipython3",
   "version": "3.10.12"
  }
 },
 "nbformat": 4,
 "nbformat_minor": 2
}
