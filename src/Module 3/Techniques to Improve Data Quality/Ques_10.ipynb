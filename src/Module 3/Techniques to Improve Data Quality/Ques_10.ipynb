{
 "cells": [
  {
   "cell_type": "code",
   "execution_count": 3,
   "metadata": {},
   "outputs": [],
   "source": [
    "# Question: Advanced Deduplication Using Machine Learning\n",
    "# Description: Implement ML-based deduplication based on feature similarity.\n",
    "\n",
    "\n"
   ]
  },
  {
   "cell_type": "code",
   "execution_count": 4,
   "metadata": {},
   "outputs": [
    {
     "name": "stdout",
     "output_type": "stream",
     "text": [
      "Classification Report:\n",
      "              precision    recall  f1-score   support\n",
      "\n",
      "           0       1.00      1.00      1.00         1\n",
      "           1       1.00      1.00      1.00         1\n",
      "\n",
      "    accuracy                           1.00         2\n",
      "   macro avg       1.00      1.00      1.00         2\n",
      "weighted avg       1.00      1.00      1.00         2\n",
      "\n",
      "Duplicate pairs detected (by id): [(1, 2), (3, 4)]\n"
     ]
    },
    {
     "name": "stderr",
     "output_type": "stream",
     "text": [
      "/home/vscode/.local/lib/python3.10/site-packages/sklearn/utils/validation.py:2739: UserWarning: X does not have valid feature names, but LogisticRegression was fitted with feature names\n",
      "  warnings.warn(\n",
      "/home/vscode/.local/lib/python3.10/site-packages/sklearn/utils/validation.py:2739: UserWarning: X does not have valid feature names, but LogisticRegression was fitted with feature names\n",
      "  warnings.warn(\n",
      "/home/vscode/.local/lib/python3.10/site-packages/sklearn/utils/validation.py:2739: UserWarning: X does not have valid feature names, but LogisticRegression was fitted with feature names\n",
      "  warnings.warn(\n",
      "/home/vscode/.local/lib/python3.10/site-packages/sklearn/utils/validation.py:2739: UserWarning: X does not have valid feature names, but LogisticRegression was fitted with feature names\n",
      "  warnings.warn(\n",
      "/home/vscode/.local/lib/python3.10/site-packages/sklearn/utils/validation.py:2739: UserWarning: X does not have valid feature names, but LogisticRegression was fitted with feature names\n",
      "  warnings.warn(\n",
      "/home/vscode/.local/lib/python3.10/site-packages/sklearn/utils/validation.py:2739: UserWarning: X does not have valid feature names, but LogisticRegression was fitted with feature names\n",
      "  warnings.warn(\n"
     ]
    }
   ],
   "source": [
    "import pandas as pd\n",
    "from sklearn.feature_extraction.text import TfidfVectorizer\n",
    "from sklearn.metrics.pairwise import cosine_similarity\n",
    "from fuzzywuzzy import fuzz\n",
    "from sklearn.model_selection import train_test_split\n",
    "from sklearn.linear_model import LogisticRegression\n",
    "from sklearn.metrics import classification_report\n",
    "\n",
    "# Sample dataset\n",
    "data = {\n",
    "    'id': [1, 2, 3, 4],\n",
    "    'name': ['John Smith', 'Jon Smyth', 'Alice Johnson', 'Alicia Jonson'],\n",
    "    'email': ['john@example.com', 'jon@example.com', 'alice@example.com', 'alicia@example.com'],\n",
    "}\n",
    "\n",
    "df = pd.DataFrame(data)\n",
    "\n",
    "# Generate pairs for comparison (all pairs)\n",
    "pairs = []\n",
    "for i in range(len(df)):\n",
    "    for j in range(i+1, len(df)):\n",
    "        pairs.append((i, j))\n",
    "\n",
    "# Extract features for pairs\n",
    "features = []\n",
    "labels = []  # For demonstration, you’d need true labels (1=duplicate, 0=not)\n",
    "\n",
    "for i, j in pairs:\n",
    "    name_1, name_2 = df.loc[i, 'name'], df.loc[j, 'name']\n",
    "    email_1, email_2 = df.loc[i, 'email'], df.loc[j, 'email']\n",
    "\n",
    "    # Fuzzy matching scores for names and emails\n",
    "    name_ratio = fuzz.ratio(name_1, name_2)\n",
    "    email_ratio = fuzz.ratio(email_1, email_2)\n",
    "\n",
    "    features.append([name_ratio, email_ratio])\n",
    "\n",
    "    # For example purposes, label pairs as duplicate if name similarity > 80 and email similarity > 80\n",
    "    label = 1 if name_ratio > 80 and email_ratio > 80 else 0\n",
    "    labels.append(label)\n",
    "\n",
    "X = pd.DataFrame(features, columns=['name_similarity', 'email_similarity'])\n",
    "y = labels\n",
    "\n",
    "# Train/test split\n",
    "X_train, X_test, y_train, y_test = train_test_split(X, y, test_size=0.3, random_state=42)\n",
    "\n",
    "# Train classifier\n",
    "clf = LogisticRegression()\n",
    "clf.fit(X_train, y_train)\n",
    "\n",
    "# Predict duplicates on test set\n",
    "y_pred = clf.predict(X_test)\n",
    "\n",
    "print(\"Classification Report:\")\n",
    "print(classification_report(y_test, y_pred))\n",
    "\n",
    "# Identify duplicates in original pairs\n",
    "duplicates = []\n",
    "for idx, (i, j) in enumerate(pairs):\n",
    "    pred = clf.predict([features[idx]])[0]\n",
    "    if pred == 1:\n",
    "        duplicates.append((df.loc[i, 'id'], df.loc[j, 'id']))\n",
    "\n",
    "print(\"Duplicate pairs detected (by id):\", duplicates)\n"
   ]
  }
 ],
 "metadata": {
  "kernelspec": {
   "display_name": "Python 3",
   "language": "python",
   "name": "python3"
  },
  "language_info": {
   "codemirror_mode": {
    "name": "ipython",
    "version": 3
   },
   "file_extension": ".py",
   "mimetype": "text/x-python",
   "name": "python",
   "nbconvert_exporter": "python",
   "pygments_lexer": "ipython3",
   "version": "3.10.12"
  }
 },
 "nbformat": 4,
 "nbformat_minor": 2
}
