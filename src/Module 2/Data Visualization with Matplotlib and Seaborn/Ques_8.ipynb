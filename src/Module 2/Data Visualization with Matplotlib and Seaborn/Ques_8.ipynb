{
 "cells": [
  {
   "cell_type": "code",
   "execution_count": null,
   "metadata": {},
   "outputs": [],
   "source": [
    "# Seaborn Histogram with KDE\n",
    "# Description: Create a histogram using Seaborn that includes a Kernel Density Estimate (KDE) for marks\n",
    "# data: [23, 45, 56, 78, 89, 90, 67, 88, 76, 59]."
   ]
  },
  {
   "cell_type": "markdown",
   "metadata": {},
   "source": [
    "import seaborn as sns\n",
    "import matplotlib.pyplot as plt\n",
    "\n",
    "# Marks obtained by students\n",
    "marks = [23, 45, 56, 78, 89, 90, 67, 88, 76, 59]\n",
    "\n",
    "# Create the histogram with KDE\n",
    "sns.histplot(marks, bins=5, kde=True, color='coral', edgecolor='black')\n",
    "\n",
    "# Add title and axis labels\n",
    "plt.title('Distribution of Marks with KDE', fontsize=14, fontweight='bold')\n",
    "plt.xlabel('Marks')\n",
    "plt.ylabel('Frequency')\n",
    "\n",
    "# Display the plot\n",
    "plt.show()\n"
   ]
  },
  {
   "cell_type": "markdown",
   "metadata": {},
   "source": [
    "import seaborn as sns\n",
    "import matplotlib.pyplot as plt\n",
    "\n",
    "# Marks obtained by students\n",
    "marks = [23, 45, 56, 78, 89, 90, 67, 88, 76, 59]\n",
    "\n",
    "# Create the histogram with KDE\n",
    "sns.histplot(marks, bins=5, kde=True, color='coral', edgecolor='black')\n",
    "\n",
    "# Add title and axis labels\n",
    "plt.title('Distribution of Marks with KDE', fontsize=14, fontweight='bold')\n",
    "plt.xlabel('Marks')\n",
    "plt.ylabel('Frequency')\n",
    "\n",
    "# Display the plot\n",
    "plt.show()\n"
   ]
  }
 ],
 "metadata": {
  "kernelspec": {
   "display_name": "Python 3",
   "language": "python",
   "name": "python3"
  },
  "language_info": {
   "name": "python",
   "version": "3.10.12"
  }
 },
 "nbformat": 4,
 "nbformat_minor": 2
}
