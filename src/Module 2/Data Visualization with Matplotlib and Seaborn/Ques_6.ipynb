{
 "cells": [
  {
   "cell_type": "code",
   "execution_count": 1,
   "metadata": {},
   "outputs": [],
   "source": [
    "# Customizing Matplotlib Plot Styles\n",
    "# Description: Customize the Matplotlib bar plot from Question 1 with a grid, different color, and custom fonts."
   ]
  },
  {
   "cell_type": "markdown",
   "metadata": {},
   "source": [
    "import matplotlib.pyplot as plt\n",
    "\n",
    "# Product names and corresponding sales data\n",
    "products = ['A', 'B', 'C', 'D', 'E']\n",
    "sales = [23, 75, 57, 90, 65]  # in thousands\n",
    "\n",
    "# Set plot style (optional: 'seaborn', 'ggplot', etc.)\n",
    "plt.style.use('seaborn-vibrant')\n",
    "\n",
    "# Create the bar plot with custom color\n",
    "plt.bar(products, sales, color='teal')\n",
    "\n",
    "# Add grid\n",
    "plt.grid(True, linestyle='--', alpha=0.7, axis='y')\n",
    "\n",
    "# Add title and axis labels with custom fonts\n",
    "plt.title('Product Sales (in Thousands)', fontsize=14, fontweight='bold', family='serif')\n",
    "plt.xlabel('Products', fontsize=12, family='sans-serif')\n",
    "plt.ylabel('Sales', fontsize=12, family='sans-serif')\n",
    "\n",
    "# Display the plot\n",
    "plt.show()  "
   ]
  },
  {
   "cell_type": "markdown",
   "metadata": {},
   "source": [
    "import matplotlib.pyplot as plt\n",
    "\n",
    "# Product names and corresponding sales data\n",
    "products = ['A', 'B', 'C', 'D', 'E']\n",
    "sales = [23, 75, 57, 90, 65]  # in thousands\n",
    "\n",
    "# Set plot style (optional: 'seaborn', 'ggplot', etc.)\n",
    "plt.style.use('seaborn-vibrant')\n",
    "\n",
    "# Create the bar plot with custom color\n",
    "plt.bar(products, sales, color='teal')\n",
    "\n",
    "# Add grid\n",
    "plt.grid(True, linestyle='--', alpha=0.7, axis='y')\n",
    "\n",
    "# Add title and axis labels with custom fonts\n",
    "plt.title('Product Sales (in Thousands)', fontsize=14, fontweight='bold', family='serif')\n",
    "plt.xlabel('Products', fontsize=12, family='sans-serif')\n",
    "plt.ylabel('Sales', fontsize=12, family='sans-serif')\n",
    "\n",
    "# Display the plot\n",
    "plt.show()"
   ]
  }
 ],
 "metadata": {
  "kernelspec": {
   "display_name": "Python 3",
   "language": "python",
   "name": "python3"
  },
  "language_info": {
   "codemirror_mode": {
    "name": "ipython",
    "version": 3
   },
   "file_extension": ".py",
   "mimetype": "text/x-python",
   "name": "python",
   "nbconvert_exporter": "python",
   "pygments_lexer": "ipython3",
   "version": "3.10.12"
  }
 },
 "nbformat": 4,
 "nbformat_minor": 2
}
