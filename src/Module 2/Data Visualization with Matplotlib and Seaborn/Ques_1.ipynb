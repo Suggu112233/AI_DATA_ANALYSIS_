{
 "cells": [
  {
   "cell_type": "code",
   "execution_count": null,
   "metadata": {},
   "outputs": [],
   "source": [
    "# Creating a Simple Bar Plot with Matplotlib\n",
    "# Description: Create a bar plot using Matplotlib to visualize the number of sales (in thousands) for a set of\n",
    "# products: 'A', 'B', 'C', 'D', and 'E' with values [23, 75, 57, 90, 65].\n",
    "\n"
   ]
  },
  {
   "cell_type": "markdown",
   "metadata": {},
   "source": [
    "mport matplotlib.pyplot as plt\n",
    "\n",
    "# Product names and corresponding sales data\n",
    "products = ['A', 'B', 'C', 'D', 'E']\n",
    "sales = [23, 75, 57, 90, 65]  # in thousands\n",
    "\n",
    "# Creating the bar plot\n",
    "plt.bar(products, sales, color='skyblue')\n",
    "\n",
    "# Adding title and labels\n",
    "plt.title('Product Sales (in thousands)')\n",
    "plt.xlabel('Products')\n",
    "plt.ylabel('Sales')\n",
    "\n",
    "# Display the plot\n",
    "plt.show()"
   ]
  },
  {
   "cell_type": "markdown",
   "metadata": {},
   "source": []
  },
  {
   "cell_type": "code",
   "execution_count": null,
   "metadata": {},
   "outputs": [],
   "source": []
  }
 ],
 "metadata": {
  "language_info": {
   "name": "python"
  }
 },
 "nbformat": 4,
 "nbformat_minor": 2
}
