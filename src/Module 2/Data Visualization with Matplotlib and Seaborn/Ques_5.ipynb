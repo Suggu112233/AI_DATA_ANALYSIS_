{
 "cells": [
  {
   "cell_type": "code",
   "execution_count": 1,
   "metadata": {},
   "outputs": [],
   "source": [
    "# Basic Seaborn Scatter Plot\n",
    "# Description: Using Seaborn, recreate the scatter plot from Question 2 for height vs. weight."
   ]
  },
  {
   "cell_type": "markdown",
   "metadata": {},
   "source": [
    "import seaborn as sns\n",
    "import matplotlib.pyplot as plt\n",
    "import pandas as pd\n",
    "\n",
    "# Data for heights (in cm) and weights (in kg)\n",
    "data = {\n",
    "    'Height': [160, 170, 165, 180, 175],\n",
    "    'Weight': [55, 65, 60, 80, 76]\n",
    "}\n",
    "df = pd.DataFrame(data)\n",
    "\n",
    "# Create the scatter plot using Seaborn\n",
    "sns.scatterplot(x='Height', y='Weight', data=df, color='purple', marker='o')\n",
    "\n",
    "# Add title and axis labels\n",
    "plt.title('Height vs Weight')\n",
    "plt.xlabel('Height (cm)')\n",
    "plt.ylabel('Weight (kg)')\n",
    "\n",
    "# Display the plot\n",
    "plt.show()"
   ]
  },
  {
   "cell_type": "markdown",
   "metadata": {},
   "source": [
    "import seaborn as sns\n",
    "import matplotlib.pyplot as plt\n",
    "import pandas as pd\n",
    "\n",
    "# Data for heights (in cm) and weights (in kg)\n",
    "data = {\n",
    "    'Height': [160, 170, 165, 180, 175],\n",
    "    'Weight': [55, 65, 60, 80, 76]\n",
    "}\n",
    "df = pd.DataFrame(data)\n",
    "\n",
    "# Create the scatter plot using Seaborn\n",
    "sns.scatterplot(x='Height', y='Weight', data=df, color='purple', marker='o')\n",
    "\n",
    "# Add title and axis labels\n",
    "plt.title('Height vs Weight')\n",
    "plt.xlabel('Height (cm)')\n",
    "plt.ylabel('Weight (kg)')\n",
    "\n",
    "# Display the plot\n",
    "plt.show()\n"
   ]
  },
  {
   "cell_type": "markdown",
   "metadata": {},
   "source": [
    "import seaborn as sns\n",
    "import matplotlib.pyplot as plt\n",
    "import pandas as pd\n",
    "\n",
    "# Data for heights (in cm) and weights (in kg)\n",
    "data = {\n",
    "    'Height': [160, 170, 165, 180, 175],\n",
    "    'Weight': [55, 65, 60, 80, 76]\n",
    "}\n",
    "df = pd.DataFrame(data)\n",
    "\n",
    "# Create the scatter plot using Seaborn\n",
    "sns.scatterplot(x='Height', y='Weight', data=df, color='purple', marker='o')\n",
    "\n",
    "# Add title and axis labels\n",
    "plt.title('Height vs Weight')\n",
    "plt.xlabel('Height (cm)')\n",
    "plt.ylabel('Weight (kg)')\n",
    "\n",
    "# Display the plot\n",
    "plt.show()  \n",
    "\n",
    "\n"
   ]
  },
  {
   "cell_type": "markdown",
   "metadata": {},
   "source": []
  }
 ],
 "metadata": {
  "kernelspec": {
   "display_name": "Python 3",
   "language": "python",
   "name": "python3"
  },
  "language_info": {
   "codemirror_mode": {
    "name": "ipython",
    "version": 3
   },
   "file_extension": ".py",
   "mimetype": "text/x-python",
   "name": "python",
   "nbconvert_exporter": "python",
   "pygments_lexer": "ipython3",
   "version": "3.10.12"
  }
 },
 "nbformat": 4,
 "nbformat_minor": 2
}
