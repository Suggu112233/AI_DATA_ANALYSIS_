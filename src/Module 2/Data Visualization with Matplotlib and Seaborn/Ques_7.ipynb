{
 "cells": [
  {
   "cell_type": "code",
   "execution_count": 1,
   "metadata": {},
   "outputs": [],
   "source": [
    "# Advanced Scatter Plot with Seaborn\n",
    "# Description: Using Seaborn, enhance the scatter plot for height vs. weight by adding size for points based\n",
    "# on data: Size [10, 15, 13, 18, 12]."
   ]
  },
  {
   "cell_type": "markdown",
   "metadata": {},
   "source": [
    "import seaborn as sns\n",
    "import matplotlib.pyplot as plt\n",
    "import pandas as pd\n",
    "\n",
    "# Data for heights, weights, and point sizes\n",
    "data = {\n",
    "    'Height': [160, 170, 165, 180, 175],\n",
    "    'Weight': [55, 65, 60, 80, 76],\n",
    "    'Size':   [10, 15, 13, 18, 12]\n",
    "}\n",
    "df = pd.DataFrame(data)\n",
    "\n",
    "# Create the scatter plot with varying point sizes\n",
    "sns.scatterplot(x='Height', y='Weight', size='Size', data=df,\n",
    "                sizes=(50, 300), color='blue', alpha=0.7, legend=False)\n",
    "\n",
    "# Add title and axis labels\n",
    "plt.title('Height vs Weight (Point Size Based on Data)', fontsize=14, fontweight='bold')\n",
    "plt.xlabel('Height (cm)')\n",
    "plt.ylabel('Weight (kg)')\n",
    "\n",
    "# Display the plot\n",
    "plt.show()\n"
   ]
  }
 ],
 "metadata": {
  "kernelspec": {
   "display_name": "Python 3",
   "language": "python",
   "name": "python3"
  },
  "language_info": {
   "codemirror_mode": {
    "name": "ipython",
    "version": 3
   },
   "file_extension": ".py",
   "mimetype": "text/x-python",
   "name": "python",
   "nbconvert_exporter": "python",
   "pygments_lexer": "ipython3",
   "version": "3.10.12"
  }
 },
 "nbformat": 4,
 "nbformat_minor": 2
}
