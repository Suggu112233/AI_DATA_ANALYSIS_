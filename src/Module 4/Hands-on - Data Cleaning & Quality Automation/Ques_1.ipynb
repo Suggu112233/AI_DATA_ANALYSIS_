{
 "cells": [
  {
   "cell_type": "code",
   "execution_count": 1,
   "metadata": {},
   "outputs": [],
   "source": [
    "# Question 1: Handling Missing Values with Conditional Filling\n",
    "# Description: Fill missing values in a specific column based on a condition from another column.\n",
    "\n"
   ]
  },
  {
   "cell_type": "code",
   "execution_count": 2,
   "metadata": {},
   "outputs": [],
   "source": [
    "# Question 2: Removing Outliers by Rescaling\n",
    "# Description: Remove outliers by standardizing a numerical column using z-scores.\n",
    "\n"
   ]
  },
  {
   "cell_type": "code",
   "execution_count": 3,
   "metadata": {},
   "outputs": [],
   "source": [
    "# Question 3: Applying Data Type Conversion\n",
    "# Description: Convert the 'Age' column to integers after filling missing values.\n",
    "\n"
   ]
  },
  {
   "cell_type": "code",
   "execution_count": 4,
   "metadata": {},
   "outputs": [],
   "source": [
    "# Question 4: Automating Data Cleaning with Functions\n",
    "# Description: Create a function that automates the process of filling missing values, removing duplicates, and standardizing column names.\n",
    "\n"
   ]
  },
  {
   "cell_type": "code",
   "execution_count": 5,
   "metadata": {},
   "outputs": [],
   "source": [
    "# Question 5: Complex Data Normalization\n",
    "# Description: Normalize a numeric column to a range using min-max scaling.\n",
    "\n"
   ]
  },
  {
   "cell_type": "code",
   "execution_count": 6,
   "metadata": {},
   "outputs": [
    {
     "name": "stdout",
     "output_type": "stream",
     "text": [
      "Original Data:\n",
      "   Gender   Age   Salary Department\n",
      "0    Male  25.0    50000         HR\n",
      "1  Female   NaN    55000    Finance\n",
      "2  Female  22.0    52000    Finance\n",
      "3    Male  28.0    58000         HR\n",
      "4     NaN  32.0  1000000         HR\n",
      "5  Female   NaN    54000    Finance\n",
      "6    Male  40.0    49000         HR\n",
      "\n",
      "Cleaned & Processed Data:\n",
      "    gender  age   salary department  salary_normalized\n",
      "0     Male   25    50000         HR           0.001052\n",
      "1   Female   22    55000    Finance           0.006309\n",
      "2   Female   22    52000    Finance           0.003155\n",
      "3     Male   28    58000         HR           0.009464\n",
      "4  Unknown   32  1000000         HR           1.000000\n",
      "5   Female   22    54000    Finance           0.005258\n",
      "6     Male   40    49000         HR           0.000000\n"
     ]
    }
   ],
   "source": [
    "import pandas as pd\n",
    "import numpy as np\n",
    "from scipy import stats\n",
    "\n",
    "# -------------------------------------\n",
    "# Create sample synthetic dataset\n",
    "# -------------------------------------\n",
    "data = pd.DataFrame({\n",
    "    'Gender': ['Male', 'Female', 'Female', 'Male', np.nan, 'Female', 'Male'],\n",
    "    'Age': [25, np.nan, 22, 28, 32, np.nan, 40],\n",
    "    'Salary': [50000, 55000, 52000, 58000, 1000000, 54000, 49000],  # Outlier in Salary\n",
    "    'Department': ['HR', 'Finance', 'Finance', 'HR', 'HR', 'Finance', 'HR']\n",
    "})\n",
    "\n",
    "print(\"Original Data:\")\n",
    "print(data)\n",
    "\n",
    "# --------------------------------------------------\n",
    "# Question 1: Fill missing 'Age' based on 'Gender'\n",
    "# --------------------------------------------------\n",
    "# First, handle missing Gender to avoid groupby issues\n",
    "data['Gender'] = data['Gender'].fillna('Unknown')\n",
    "\n",
    "# Fill missing Age by Gender group\n",
    "data['Age'] = data.groupby('Gender')['Age'].transform(lambda x: x.fillna(x.mean()))\n",
    "\n",
    "# --------------------------------------------------\n",
    "# Question 2: Remove outliers using z-score on 'Salary'\n",
    "# --------------------------------------------------\n",
    "z_scores = np.abs(stats.zscore(data['Salary']))\n",
    "data = data[z_scores < 3]  # Keep only rows where z-score < 3\n",
    "\n",
    "# --------------------------------------------------\n",
    "# Question 3: Convert 'Age' to integer safely\n",
    "# --------------------------------------------------\n",
    "# Fill any remaining NaNs (in case groupby failed for some edge case)\n",
    "data['Age'] = data['Age'].fillna(data['Age'].mean())\n",
    "data['Age'] = data['Age'].round().astype(int)\n",
    "\n",
    "# --------------------------------------------------\n",
    "# Question 4: Automate data cleaning\n",
    "# --------------------------------------------------\n",
    "def clean_data(df):\n",
    "    df = df.copy()\n",
    "    \n",
    "    # Fill missing Gender\n",
    "    df['Gender'] = df['Gender'].fillna('Unknown')\n",
    "\n",
    "    # Fill missing Age by Gender group\n",
    "    df['Age'] = df.groupby('Gender')['Age'].transform(lambda x: x.fillna(x.mean()))\n",
    "    df['Age'] = df['Age'].fillna(df['Age'].mean()).round().astype(int)\n",
    "\n",
    "    # Remove duplicates\n",
    "    df = df.drop_duplicates()\n",
    "\n",
    "    # Standardize column names\n",
    "    df.columns = [col.strip().lower().replace(' ', '_') for col in df.columns]\n",
    "\n",
    "    return df\n",
    "\n",
    "# Apply cleaning function\n",
    "data = clean_data(data)\n",
    "\n",
    "# --------------------------------------------------\n",
    "# Question 5: Normalize 'salary' with min-max scaling\n",
    "# --------------------------------------------------\n",
    "min_salary = data['salary'].min()\n",
    "max_salary = data['salary'].max()\n",
    "data['salary_normalized'] = (data['salary'] - min_salary) / (max_salary - min_salary)\n",
    "\n",
    "# --------------------------------------------------\n",
    "# Final Output\n",
    "# --------------------------------------------------\n",
    "print(\"\\nCleaned & Processed Data:\")\n",
    "print(data)\n"
   ]
  }
 ],
 "metadata": {
  "kernelspec": {
   "display_name": "Python 3",
   "language": "python",
   "name": "python3"
  },
  "language_info": {
   "codemirror_mode": {
    "name": "ipython",
    "version": 3
   },
   "file_extension": ".py",
   "mimetype": "text/x-python",
   "name": "python",
   "nbconvert_exporter": "python",
   "pygments_lexer": "ipython3",
   "version": "3.10.12"
  }
 },
 "nbformat": 4,
 "nbformat_minor": 2
}
