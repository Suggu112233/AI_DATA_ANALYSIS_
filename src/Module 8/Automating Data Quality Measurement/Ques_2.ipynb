{
 "cells": [
  {
   "cell_type": "markdown",
   "metadata": {},
   "source": [
    "### Task 1: Validate Data with a Custom Expectation in Great Expectations\n",
    "**Description**: Create a custom expectation and validate data with Great Expectations.\n",
    "\n",
    "**Load a sample DataFrame**\n",
    "\n",
    "data = {\n",
    "'age': [25, 30, 35, 40, 45],\n",
    "'income': [50000, 60000, 75000, None, 100000]\n",
    "}"
   ]
  },
  {
   "cell_type": "code",
   "execution_count": 1,
   "metadata": {},
   "outputs": [
    {
     "ename": "ModuleNotFoundError",
     "evalue": "No module named 'great_expectations.dataset'",
     "output_type": "error",
     "traceback": [
      "\u001b[0;31m---------------------------------------------------------------------------\u001b[0m",
      "\u001b[0;31mModuleNotFoundError\u001b[0m                       Traceback (most recent call last)",
      "Cell \u001b[0;32mIn[1], line 3\u001b[0m\n\u001b[1;32m      1\u001b[0m \u001b[38;5;66;03m# Write your code from here\u001b[39;00m\n\u001b[1;32m      2\u001b[0m \u001b[38;5;28;01mimport\u001b[39;00m\u001b[38;5;250m \u001b[39m\u001b[38;5;21;01mgreat_expectations\u001b[39;00m\u001b[38;5;250m \u001b[39m\u001b[38;5;28;01mas\u001b[39;00m\u001b[38;5;250m \u001b[39m\u001b[38;5;21;01mge\u001b[39;00m\n\u001b[0;32m----> 3\u001b[0m \u001b[38;5;28;01mfrom\u001b[39;00m\u001b[38;5;250m \u001b[39m\u001b[38;5;21;01mgreat_expectations\u001b[39;00m\u001b[38;5;21;01m.\u001b[39;00m\u001b[38;5;21;01mdataset\u001b[39;00m\u001b[38;5;250m \u001b[39m\u001b[38;5;28;01mimport\u001b[39;00m PandasDataset\n\u001b[1;32m      5\u001b[0m \u001b[38;5;66;03m# Sample data\u001b[39;00m\n\u001b[1;32m      6\u001b[0m data \u001b[38;5;241m=\u001b[39m {\n\u001b[1;32m      7\u001b[0m     \u001b[38;5;124m'\u001b[39m\u001b[38;5;124mage\u001b[39m\u001b[38;5;124m'\u001b[39m: [\u001b[38;5;241m25\u001b[39m, \u001b[38;5;241m30\u001b[39m, \u001b[38;5;241m35\u001b[39m, \u001b[38;5;241m40\u001b[39m, \u001b[38;5;241m45\u001b[39m],\n\u001b[1;32m      8\u001b[0m     \u001b[38;5;124m'\u001b[39m\u001b[38;5;124mincome\u001b[39m\u001b[38;5;124m'\u001b[39m: [\u001b[38;5;241m50000\u001b[39m, \u001b[38;5;241m60000\u001b[39m, \u001b[38;5;241m75000\u001b[39m, \u001b[38;5;28;01mNone\u001b[39;00m, \u001b[38;5;241m100000\u001b[39m]\n\u001b[1;32m      9\u001b[0m }\n",
      "\u001b[0;31mModuleNotFoundError\u001b[0m: No module named 'great_expectations.dataset'"
     ]
    }
   ],
   "source": [
    "# Write your code from here\n",
    "import great_expectations as ge\n",
    "from great_expectations.dataset import PandasDataset\n",
    "\n",
    "# Sample data\n",
    "data = {\n",
    "    'age': [25, 30, 35, 40, 45],\n",
    "    'income': [50000, 60000, 75000, None, 100000]\n",
    "}\n",
    "\n",
    "# Convert to Great Expectations dataset object\n",
    "df = ge.from_pandas(pd.DataFrame(data))\n",
    "\n",
    "# Define a custom expectation method by subclassing PandasDataset\n",
    "class CustomDataset(PandasDataset):\n",
    "\n",
    "    def expect_column_values_to_be_even(self, column):\n",
    "        \"\"\"\n",
    "        Custom expectation to check if all values in a column are even numbers.\n",
    "        \"\"\"\n",
    "        # Boolean series where True means the value is even or missing (we'll ignore nulls)\n",
    "        success_series = self[column].dropna() % 2 == 0\n",
    "\n",
    "        # Calculate success: all non-null values should be even\n",
    "        success = success_series.all()\n",
    "\n",
    "        return {\n",
    "            \"success\": success,\n",
    "            \"result\": {\n",
    "                \"observed_value\": success_series.tolist()\n",
    "            }\n",
    "        }\n",
    "\n",
    "# Use the custom dataset class\n",
    "custom_df = CustomDataset(df)\n",
    "\n",
    "# Validate the 'age' column to see if all values are even\n",
    "result = custom_df.expect_column_values_to_be_even('age')\n",
    "\n",
    "print(result)\n"
   ]
  },
  {
   "cell_type": "markdown",
   "metadata": {},
   "source": [
    "### Task 2: Implement a Basic Alert System for Data Quality Drops\n",
    "**Description**: Set up a basic alert system that triggers when data quality drops."
   ]
  },
  {
   "cell_type": "code",
   "execution_count": null,
   "metadata": {},
   "outputs": [],
   "source": [
    "# Write your code from here\n",
    "import pandas as pd\n",
    "\n",
    "# Sample data with some missing values\n",
    "data = {\n",
    "    'age': [25, 30, None, 40, 45],\n",
    "    'income': [50000, 60000, 75000, None, 100000]\n",
    "}\n",
    "df = pd.DataFrame(data)\n",
    "\n",
    "# Function to calculate missing data percentage for each column\n",
    "def calculate_missing_rate(df):\n",
    "    missing_rate = df.isnull().mean()\n",
    "    return missing_rate\n",
    "\n",
    "# Function to check data quality and trigger alert\n",
    "def data_quality_alert(df, threshold=0.1):\n",
    "    missing_rate = calculate_missing_rate(df)\n",
    "    alert_columns = missing_rate[missing_rate > threshold]\n",
    "\n",
    "    if not alert_columns.empty:\n",
    "        print(\"ALERT: Data quality has dropped below threshold!\")\n",
    "        print(f\"Columns with missing data above {threshold*100}%:\")\n",
    "        print(alert_columns)\n",
    "    else:\n",
    "        print(\"Data quality is within acceptable limits.\")\n",
    "\n",
    "# Run alert system\n",
    "data_quality_alert(df)\n"
   ]
  },
  {
   "cell_type": "markdown",
   "metadata": {},
   "source": [
    "### Task 3: Real-time Data Quality Monitoring with Python and Great Expectations\n",
    "**Description**: Implement a system that monitors data quality in real-time."
   ]
  },
  {
   "cell_type": "code",
   "execution_count": null,
   "metadata": {},
   "outputs": [],
   "source": [
    "# Write your code from here\n",
    "import great_expectations as ge\n",
    "import pandas as pd\n",
    "\n",
    "# Sample incoming data batch (could be from API, streaming, etc.)\n",
    "def get_new_data():\n",
    "    data = {\n",
    "        'age': [25, 30, None, 40, 150],   # 150 is invalid age\n",
    "        'income': [50000, 60000, 75000, None, 100000]\n",
    "    }\n",
    "    return pd.DataFrame(data)\n",
    "\n",
    "# Initialize Great Expectations DataFrame\n",
    "def validate_data(df):\n",
    "    ge_df = ge.from_pandas(df)\n",
    "    \n",
    "    # Define expectations\n",
    "    ge_df.expect_column_values_to_not_be_null('age')\n",
    "    ge_df.expect_column_values_to_be_between('age', min_value=0, max_value=120)\n",
    "    ge_df.expect_column_values_to_not_be_null('income')\n",
    "    ge_df.expect_column_values_to_be_between('income', min_value=0)\n",
    "    \n",
    "    # Run validation\n",
    "    result = ge_df.validate()\n",
    "    \n",
    "    # Check for success or failures\n",
    "    if result['success']:\n",
    "        print(\"Data quality check PASSED.\")\n",
    "    else:\n",
    "        print(\"Data quality check FAILED!\")\n",
    "        for res in result['results']:\n",
    "            if not res['success']:\n",
    "                print(f\"Failed Expectation: {res['expectation_config']['expectation_type']}\")\n",
    "                print(f\"Details: {res['result']}\")\n",
    "    \n",
    "    return result['success']\n",
    "\n",
    "# Simulate real-time data arrival\n",
    "def monitor_real_time():\n",
    "    # In a real scenario, this would be a loop or triggered by data arrival\n",
    "    new_data = get_new_data()\n",
    "    print(\"Validating new data batch:\")\n",
    "    print(new_data)\n",
    "    \n",
    "    success = validate_data(new_data)\n",
    "    if not success:\n",
    "        # Here, you can send alerts, log, or take corrective action\n",
    "        print(\"Alert: Data quality issues detected!\")\n",
    "    else:\n",
    "        print(\"Data is clean.\")\n",
    "\n",
    "if __name__ == \"__main__\":\n",
    "    monitor_real_time()\n"
   ]
  }
 ],
 "metadata": {
  "kernelspec": {
   "display_name": "Python 3",
   "language": "python",
   "name": "python3"
  },
  "language_info": {
   "codemirror_mode": {
    "name": "ipython",
    "version": 3
   },
   "file_extension": ".py",
   "mimetype": "text/x-python",
   "name": "python",
   "nbconvert_exporter": "python",
   "pygments_lexer": "ipython3",
   "version": "3.10.12"
  }
 },
 "nbformat": 4,
 "nbformat_minor": 2
}
