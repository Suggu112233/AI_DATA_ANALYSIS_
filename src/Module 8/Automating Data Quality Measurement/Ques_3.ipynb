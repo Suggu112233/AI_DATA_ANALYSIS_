{
 "cells": [
  {
   "cell_type": "markdown",
   "metadata": {},
   "source": [
    "## Using AI for Anomalies Detection in Data Quality\n",
    "**Description**: Implement an AI-based approach to detect anomalies in data quality.\n",
    "\n",
    "**Steps**:\n",
    "1. Use an Anomaly Detection Algorithm:\n",
    "    - Use sklearn's Isolation Forest for anomaly detection.\n",
    "\n",
    "**Example data:**\n",
    "\n",
    "data = np.array([[25, 50000], [30, 60000], [35, 75000], [40, None], [45, 100000]])\n",
    "\n",
    "2. Integrate with Great Expectations:\n",
    "    - Generate alerts if anomalies are detected:"
   ]
  },
  {
   "cell_type": "code",
   "execution_count": 1,
   "metadata": {},
   "outputs": [
    {
     "ename": "AttributeError",
     "evalue": "module 'great_expectations' has no attribute 'from_pandas'",
     "output_type": "error",
     "traceback": [
      "\u001b[0;31m---------------------------------------------------------------------------\u001b[0m",
      "\u001b[0;31mAttributeError\u001b[0m                            Traceback (most recent call last)",
      "Cell \u001b[0;32mIn[1], line 31\u001b[0m\n\u001b[1;32m     28\u001b[0m df[\u001b[38;5;124m'\u001b[39m\u001b[38;5;124manomaly\u001b[39m\u001b[38;5;124m'\u001b[39m] \u001b[38;5;241m=\u001b[39m iso_forest\u001b[38;5;241m.\u001b[39mpredict(df_filled)\n\u001b[1;32m     30\u001b[0m \u001b[38;5;66;03m# Prepare Great Expectations dataframe\u001b[39;00m\n\u001b[0;32m---> 31\u001b[0m ge_df \u001b[38;5;241m=\u001b[39m \u001b[43mge\u001b[49m\u001b[38;5;241;43m.\u001b[39;49m\u001b[43mfrom_pandas\u001b[49m(df)\n\u001b[1;32m     33\u001b[0m \u001b[38;5;66;03m# Expectations: no nulls (we already handled them), age and income within reasonable ranges\u001b[39;00m\n\u001b[1;32m     34\u001b[0m ge_df\u001b[38;5;241m.\u001b[39mexpect_column_values_to_be_between(\u001b[38;5;124m\"\u001b[39m\u001b[38;5;124mage\u001b[39m\u001b[38;5;124m\"\u001b[39m, min_value\u001b[38;5;241m=\u001b[39m\u001b[38;5;241m0\u001b[39m, max_value\u001b[38;5;241m=\u001b[39m\u001b[38;5;241m120\u001b[39m)\n",
      "\u001b[0;31mAttributeError\u001b[0m: module 'great_expectations' has no attribute 'from_pandas'"
     ]
    }
   ],
   "source": [
    "# Write your code from here\n",
    "import numpy as np\n",
    "import pandas as pd\n",
    "import great_expectations as ge\n",
    "from sklearn.ensemble import IsolationForest\n",
    "\n",
    "# Sample data with a missing value (None will be converted to np.nan)\n",
    "data = np.array([\n",
    "    [25, 50000],\n",
    "    [30, 60000],\n",
    "    [35, 75000],\n",
    "    [40, np.nan],    # Missing income\n",
    "    [45, 100000],\n",
    "    [120, 500],      # Possible anomaly (high age but very low income)\n",
    "])\n",
    "\n",
    "# Convert to DataFrame for easier handling\n",
    "df = pd.DataFrame(data, columns=[\"age\", \"income\"])\n",
    "\n",
    "# Handle missing values before anomaly detection (simple fill or drop)\n",
    "df_filled = df.fillna(df.median())  # Fill NaNs with median values\n",
    "\n",
    "# Isolation Forest model for anomaly detection\n",
    "iso_forest = IsolationForest(contamination=0.2, random_state=42)\n",
    "iso_forest.fit(df_filled)\n",
    "\n",
    "# Predict anomalies: -1 means anomaly, 1 means normal\n",
    "df['anomaly'] = iso_forest.predict(df_filled)\n",
    "\n",
    "# Prepare Great Expectations dataframe\n",
    "ge_df = ge.from_pandas(df)\n",
    "\n",
    "# Expectations: no nulls (we already handled them), age and income within reasonable ranges\n",
    "ge_df.expect_column_values_to_be_between(\"age\", min_value=0, max_value=120)\n",
    "ge_df.expect_column_values_to_be_between(\"income\", min_value=0)\n",
    "\n",
    "# Validate\n",
    "validation_result = ge_df.validate()\n",
    "\n",
    "# Check anomalies from Isolation Forest\n",
    "anomalies = df[df['anomaly'] == -1]\n",
    "\n",
    "print(\"\\n=== Anomaly Detection Results ===\")\n",
    "if not anomalies.empty:\n",
    "    print(f\"Anomalies detected:\\n{anomalies}\")\n",
    "else:\n",
    "    print(\"No anomalies detected.\")\n",
    "\n",
    "print(\"\\n=== Great Expectations Validation Results ===\")\n",
    "if validation_result[\"success\"]:\n",
    "    print(\"Data validation passed!\")\n",
    "else:\n",
    "    print(\"Data validation failed!\")\n",
    "    for res in validation_result[\"results\"]:\n",
    "        if not res[\"success\"]:\n",
    "            print(f\"Failed expectation: {res['expectation_config']['expectation_type']}\")\n",
    "            print(f\"Details: {res['result']}\")\n",
    "\n",
    "# Alert if anomalies or validation failures exist\n",
    "if not anomalies.empty or not validation_result[\"success\"]:\n",
    "    print(\"\\n*** ALERT: Data quality issues detected! ***\")\n",
    "else:\n",
    "    print(\"\\nData quality checks passed successfully.\")\n"
   ]
  }
 ],
 "metadata": {
  "kernelspec": {
   "display_name": "Python 3",
   "language": "python",
   "name": "python3"
  },
  "language_info": {
   "codemirror_mode": {
    "name": "ipython",
    "version": 3
   },
   "file_extension": ".py",
   "mimetype": "text/x-python",
   "name": "python",
   "nbconvert_exporter": "python",
   "pygments_lexer": "ipython3",
   "version": "3.10.12"
  }
 },
 "nbformat": 4,
 "nbformat_minor": 2
}
