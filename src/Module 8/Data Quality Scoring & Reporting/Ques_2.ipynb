{
 "cells": [
  {
   "cell_type": "markdown",
   "metadata": {},
   "source": [
    "## Build a Data Quality Dashboard\n",
    "\n",
    "**Description**: Create a simple dashboard that displays data quality metrics using a library like `dash` or `streamlit`.\n",
    "\n",
    "**Steps:**\n",
    "1. Install Streamlit: pip install streamlit\n",
    "2. Create a Python script dashboard.py.\n",
    "3. Run the dashboard: streamlit run dashboard.py"
   ]
  },
  {
   "cell_type": "markdown",
   "metadata": {},
   "source": [
    "## Build a Data Quality Dashboard\n",
    "\n",
    "**Description**: Create a simple dashboard that displays data quality metrics using a library like `dash` or `streamlit`.\n",
    "\n",
    "**Steps:**\n",
    "1. Install Streamlit: pip install streamlit\n",
    "2. Create a Python script dashboard.py.\n",
    "3. Run the dashboard: streamlit run dashboard.py"
   ]
  },
  {
   "cell_type": "code",
   "execution_count": 1,
   "metadata": {},
   "outputs": [
    {
     "name": "stderr",
     "output_type": "stream",
     "text": [
      "2025-05-19 14:23:08.886 WARNING streamlit.runtime.scriptrunner_utils.script_run_context: Thread 'MainThread': missing ScriptRunContext! This warning can be ignored when running in bare mode.\n",
      "2025-05-19 14:23:09.191 \n",
      "  \u001b[33m\u001b[1mWarning:\u001b[0m to view this Streamlit app on a browser, run it with the following\n",
      "  command:\n",
      "\n",
      "    streamlit run /home/vscode/.local/lib/python3.10/site-packages/ipykernel_launcher.py [ARGUMENTS]\n",
      "2025-05-19 14:23:09.192 Thread 'MainThread': missing ScriptRunContext! This warning can be ignored when running in bare mode.\n",
      "2025-05-19 14:23:09.193 Thread 'MainThread': missing ScriptRunContext! This warning can be ignored when running in bare mode.\n",
      "2025-05-19 14:23:09.194 Thread 'MainThread': missing ScriptRunContext! This warning can be ignored when running in bare mode.\n",
      "2025-05-19 14:23:09.195 Thread 'MainThread': missing ScriptRunContext! This warning can be ignored when running in bare mode.\n",
      "2025-05-19 14:23:09.196 Thread 'MainThread': missing ScriptRunContext! This warning can be ignored when running in bare mode.\n",
      "2025-05-19 14:23:09.199 Thread 'MainThread': missing ScriptRunContext! This warning can be ignored when running in bare mode.\n",
      "2025-05-19 14:23:09.202 Thread 'MainThread': missing ScriptRunContext! This warning can be ignored when running in bare mode.\n",
      "2025-05-19 14:23:09.203 Thread 'MainThread': missing ScriptRunContext! This warning can be ignored when running in bare mode.\n"
     ]
    }
   ],
   "source": [
    "# Write your code from here\n",
    "import streamlit as st\n",
    "import pandas as pd\n",
    "\n",
    "def calculate_dqi(df):\n",
    "    total_values = df.size\n",
    "    non_missing = df.count().sum()\n",
    "    dqi = non_missing / total_values\n",
    "    return dqi\n",
    "\n",
    "def missing_per_column(df):\n",
    "    return df.isnull().sum()\n",
    "\n",
    "# Streamlit App\n",
    "\n",
    "st.title(\"📊 Data Quality Dashboard\")\n",
    "\n",
    "uploaded_file = st.file_uploader(\"Upload your CSV file\", type=[\"csv\"])\n",
    "\n",
    "if uploaded_file:\n",
    "    df = pd.read_csv(uploaded_file)\n",
    "    st.write(\"### Data Preview\", df.head())\n",
    "\n",
    "    # Calculate metrics\n",
    "    dqi = calculate_dqi(df)\n",
    "    missing_counts = missing_per_column(df)\n",
    "    total_values = df.size\n",
    "\n",
    "    st.write(f\"### Overall Data Quality Index (DQI): {dqi:.4f}\")\n",
    "    st.write(f\"### Total Missing Values: {missing_counts.sum()} out of {total_values} ({(missing_counts.sum()/total_values)*100:.2f}%)\")\n",
    "\n",
    "    st.write(\"### Missing Values per Column\")\n",
    "    st.bar_chart(missing_counts)\n",
    "\n",
    "    st.write(\"### Data Completeness per Column (%)\")\n",
    "    completeness = 100 * (1 - missing_counts / len(df))\n",
    "    st.bar_chart(completeness)\n",
    "\n",
    "else:\n",
    "    st.info(\"Please upload a CSV file to get started.\")\n"
   ]
  }
 ],
 "metadata": {
  "kernelspec": {
   "display_name": "Python 3",
   "language": "python",
   "name": "python3"
  },
  "language_info": {
   "codemirror_mode": {
    "name": "ipython",
    "version": 3
   },
   "file_extension": ".py",
   "mimetype": "text/x-python",
   "name": "python",
   "nbconvert_exporter": "python",
   "pygments_lexer": "ipython3",
   "version": "3.10.12"
  }
 },
 "nbformat": 4,
 "nbformat_minor": 2
}
