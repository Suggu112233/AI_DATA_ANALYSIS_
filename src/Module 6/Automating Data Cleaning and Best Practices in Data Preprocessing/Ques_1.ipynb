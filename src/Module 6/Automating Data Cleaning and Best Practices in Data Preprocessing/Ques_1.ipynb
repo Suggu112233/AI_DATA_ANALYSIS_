{
 "cells": [
  {
   "cell_type": "markdown",
   "metadata": {},
   "source": [
    "## Automating Data Cleaning in Python"
   ]
  },
  {
   "cell_type": "markdown",
   "metadata": {
    "vscode": {
     "languageId": "plaintext"
    }
   },
   "source": [
    "    Task: Basic Pipeline with Scaling\n",
    "1. Objective: Create a pipeline that scales numerical features in a dataset.\n",
    "2. Steps:\n",
    "    - Load a sample dataset with Pandas.\n",
    "    - Define a pipeline using Pipeline from sklearn.pipeline .\n",
    "    - Use StandardScaler to scale features."
   ]
  },
  {
   "cell_type": "code",
   "execution_count": 3,
   "metadata": {},
   "outputs": [
    {
     "name": "stdout",
     "output_type": "stream",
     "text": [
      "Original Data:\n",
      "    Height  Weight  Age\n",
      "0     165      65   25\n",
      "1     180      85   32\n",
      "2     175      75   28\n",
      "3     160      55   40\n",
      "4     170      68   30\n",
      "\n",
      "Scaled Data:\n",
      "      Height    Weight       Age\n",
      "0 -0.707107 -0.458535 -1.185854\n",
      "1  1.414214  1.535096  0.197642\n",
      "2  0.707107  0.538280 -0.592927\n",
      "3 -1.414214 -1.455350  1.778781\n",
      "4  0.000000 -0.159490 -0.197642\n"
     ]
    }
   ],
   "source": [
    "import pandas as pd\n",
    "from sklearn.pipeline import Pipeline\n",
    "from sklearn.preprocessing import StandardScaler\n",
    "\n",
    "# Step 1: Load a sample dataset (created here manually)\n",
    "data = pd.DataFrame({\n",
    "    'Height': [165, 180, 175, 160, 170],\n",
    "    'Weight': [65, 85, 75, 55, 68],\n",
    "    'Age': [25, 32, 28, 40, 30]\n",
    "})\n",
    "\n",
    "print(\"Original Data:\\n\", data)\n",
    "\n",
    "# Step 2: Define the pipeline with StandardScaler\n",
    "pipeline = Pipeline([\n",
    "    ('scaler', StandardScaler())\n",
    "])\n",
    "\n",
    "# Step 3: Apply pipeline to scale data\n",
    "scaled_data = pipeline.fit_transform(data)\n",
    "\n",
    "# Convert scaled data back to DataFrame for easy viewing\n",
    "scaled_df = pd.DataFrame(scaled_data, columns=data.columns)\n",
    "\n",
    "print(\"\\nScaled Data:\\n\", scaled_df)\n"
   ]
  },
  {
   "cell_type": "markdown",
   "metadata": {},
   "source": [
    "    Task: Pipeline with Imputation\n",
    "1. Objective: Automate data cleaning by handling missing values.\n",
    "2. Steps:\n",
    "    - Load a dataset with missing values.\n",
    "    - Define a pipeline to use SimpleImputer for filling missing values."
   ]
  },
  {
   "cell_type": "code",
   "execution_count": 4,
   "metadata": {},
   "outputs": [
    {
     "name": "stdout",
     "output_type": "stream",
     "text": [
      "Original Data with Missing Values:\n",
      "     Age   Salary\n",
      "0  25.0  50000.0\n",
      "1  30.0      NaN\n",
      "2   NaN  60000.0\n",
      "3  22.0  52000.0\n",
      "4  40.0      NaN\n",
      "\n",
      "Data after Imputation:\n",
      "      Age   Salary\n",
      "0  25.00  50000.0\n",
      "1  30.00  54000.0\n",
      "2  29.25  60000.0\n",
      "3  22.00  52000.0\n",
      "4  40.00  54000.0\n"
     ]
    }
   ],
   "source": [
    "import pandas as pd\n",
    "from sklearn.pipeline import Pipeline\n",
    "from sklearn.impute import SimpleImputer\n",
    "\n",
    "# Step 1: Create a sample dataset with missing values\n",
    "data = pd.DataFrame({\n",
    "    'Age': [25, 30, None, 22, 40],\n",
    "    'Salary': [50000, None, 60000, 52000, None]\n",
    "})\n",
    "\n",
    "print(\"Original Data with Missing Values:\\n\", data)\n",
    "\n",
    "# Step 2: Define a pipeline to fill missing values with the mean\n",
    "pipeline = Pipeline([\n",
    "    ('imputer', SimpleImputer(strategy='mean'))\n",
    "])\n",
    "\n",
    "# Step 3: Fit the pipeline and transform the data\n",
    "imputed_data = pipeline.fit_transform(data)\n",
    "\n",
    "# Convert back to DataFrame for better readability\n",
    "imputed_df = pd.DataFrame(imputed_data, columns=data.columns)\n",
    "\n",
    "print(\"\\nData after Imputation:\\n\", imputed_df)\n"
   ]
  }
 ],
 "metadata": {
  "kernelspec": {
   "display_name": "Python 3",
   "language": "python",
   "name": "python3"
  },
  "language_info": {
   "codemirror_mode": {
    "name": "ipython",
    "version": 3
   },
   "file_extension": ".py",
   "mimetype": "text/x-python",
   "name": "python",
   "nbconvert_exporter": "python",
   "pygments_lexer": "ipython3",
   "version": "3.10.12"
  }
 },
 "nbformat": 4,
 "nbformat_minor": 2
}
