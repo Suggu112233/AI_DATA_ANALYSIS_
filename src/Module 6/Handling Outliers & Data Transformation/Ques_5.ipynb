{
 "cells": [
  {
   "cell_type": "code",
   "execution_count": null,
   "metadata": {},
   "outputs": [],
   "source": [
    "# Question: Combining Multiple Outlier Detection Methods\n",
    "# Description: Combine Z-score, IQR, and Boxplot methods to detect and compare outliers in adataset.\n",
    "\n",
    "\n"
   ]
  },
  {
   "cell_type": "code",
   "execution_count": null,
   "metadata": {},
   "outputs": [],
   "source": [
    "import numpy as np\n",
    "import pandas as pd\n",
    "import matplotlib.pyplot as plt\n",
    "\n",
    "# Sample dataset\n",
    "data = pd.DataFrame({\n",
    "    'Values': [10, 12, 12, 13, 12, 12, 14, 15, 16, 100, 12, 13, 14, 11, 15, 12, 200]\n",
    "})\n",
    "\n",
    "# 1. Z-score Method\n",
    "from scipy.stats import zscore\n",
    "data['Z_score'] = zscore(data['Values'])\n",
    "zscore_outliers = data[np.abs(data['Z_score']) > 3]['Values']\n",
    "\n",
    "# 2. IQR Method\n",
    "Q1 = data['Values'].quantile(0.25)\n",
    "Q3 = data['Values'].quantile(0.75)\n",
    "IQR = Q3 - Q1\n",
    "lower_bound = Q1 - 1.5 * IQR\n",
    "upper_bound = Q3 + 1.5 * IQR\n",
    "iqr_outliers = data[(data['Values'] < lower_bound) | (data['Values'] > upper_bound)]['Values']\n",
    "\n",
    "# 3. Boxplot Method (visual)\n",
    "plt.figure(figsize=(8,5))\n",
    "plt.boxplot(data['Values'], vert=False)\n",
    "plt.title('Boxplot of Values')\n",
    "plt.show()\n",
    "\n",
    "# Mark detected outliers\n",
    "print(\"Outliers detected by Z-score method:\", zscore_outliers.values)\n",
    "print(\"Outliers detected by IQR method:\", iqr_outliers.values)\n",
    "\n",
    "# Optional: Add columns indicating outliers detected by each method\n",
    "data['Z_outlier'] = np.abs(data['Z_score']) > 3\n",
    "data['IQR_outlier'] = (data['Values'] < lower_bound) | (data['Values'] > upper_bound)\n",
    "\n",
    "print(\"\\nData with Outlier Flags:\")\n",
    "print(data[['Values', 'Z_score', 'Z_outlier', 'IQR_outlier']])\n"
   ]
  }
 ],
 "metadata": {
  "kernelspec": {
   "display_name": "Python 3",
   "language": "python",
   "name": "python3"
  },
  "language_info": {
   "name": "python",
   "version": "3.10.12"
  }
 },
 "nbformat": 4,
 "nbformat_minor": 2
}
