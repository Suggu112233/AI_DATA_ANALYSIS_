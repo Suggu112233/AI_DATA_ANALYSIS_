{
 "cells": [
  {
   "cell_type": "code",
   "execution_count": 1,
   "metadata": {},
   "outputs": [],
   "source": [
    "# Question: Winsorization of Data\n",
    "# Description: Apply Winsorization to a given dataset to handle outliers.\n",
    "\n"
   ]
  },
  {
   "cell_type": "code",
   "execution_count": 2,
   "metadata": {},
   "outputs": [
    {
     "name": "stdout",
     "output_type": "stream",
     "text": [
      "Original Data:\n",
      "   Values\n",
      "0      10\n",
      "1      12\n",
      "2      12\n",
      "3      13\n",
      "4      14\n",
      "5      15\n",
      "6     100\n",
      "7     105\n",
      "8     110\n",
      "\n",
      "Data after Winsorization:\n",
      "   Values  Winsorized_Values\n",
      "0      10                 10\n",
      "1      12                 12\n",
      "2      12                 12\n",
      "3      13                 13\n",
      "4      14                 14\n",
      "5      15                 15\n",
      "6     100                100\n",
      "7     105                105\n",
      "8     110                110\n"
     ]
    }
   ],
   "source": [
    "import numpy as np\n",
    "import pandas as pd\n",
    "from scipy.stats.mstats import winsorize\n",
    "\n",
    "# Sample data with outliers\n",
    "data = pd.DataFrame({\n",
    "    'Values': [10, 12, 12, 13, 14, 15, 100, 105, 110]  # 100, 105, 110 are outliers\n",
    "})\n",
    "\n",
    "print(\"Original Data:\")\n",
    "print(data)\n",
    "\n",
    "# Apply Winsorization (limit extremes to 5th and 95th percentiles)\n",
    "# limits parameter: (lower_limit, upper_limit) as proportion of data to winsorize\n",
    "data['Winsorized_Values'] = winsorize(data['Values'], limits=(0.05, 0.05))\n",
    "\n",
    "print(\"\\nData after Winsorization:\")\n",
    "print(data)\n"
   ]
  }
 ],
 "metadata": {
  "kernelspec": {
   "display_name": "Python 3",
   "language": "python",
   "name": "python3"
  },
  "language_info": {
   "codemirror_mode": {
    "name": "ipython",
    "version": 3
   },
   "file_extension": ".py",
   "mimetype": "text/x-python",
   "name": "python",
   "nbconvert_exporter": "python",
   "pygments_lexer": "ipython3",
   "version": "3.10.12"
  }
 },
 "nbformat": 4,
 "nbformat_minor": 2
}
