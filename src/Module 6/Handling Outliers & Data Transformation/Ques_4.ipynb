{
 "cells": [
  {
   "cell_type": "code",
   "execution_count": 1,
   "metadata": {},
   "outputs": [],
   "source": [
    "# Question: Multivariate Outlier Detection Using Mahalanobis Distance\n",
    "# Description: Implement Mahalanobis distance to detect multivariate outliers in a dataset.\n",
    "\n"
   ]
  },
  {
   "cell_type": "code",
   "execution_count": 2,
   "metadata": {},
   "outputs": [
    {
     "name": "stdout",
     "output_type": "stream",
     "text": [
      "   X1  X2  Mahalanobis_Distance  Outlier\n",
      "0  10  20              1.516564    False\n",
      "1  12  22              1.063640    False\n",
      "2  14  19              0.887689    False\n",
      "3  15  21              1.232332    False\n",
      "4  10  23              1.256400    False\n",
      "5   9  22              0.536149    False\n",
      "6  12  21              0.334941    False\n",
      "7  11  20              1.149625    False\n",
      "8  50   5              2.638608    False\n"
     ]
    }
   ],
   "source": [
    "import numpy as np\n",
    "import pandas as pd\n",
    "from scipy.stats import chi2\n",
    "\n",
    "# Sample data (multivariate)\n",
    "data = pd.DataFrame({\n",
    "    'X1': [10, 12, 14, 15, 10, 9, 12, 11, 50],  # 50 is a potential outlier\n",
    "    'X2': [20, 22, 19, 21, 23, 22, 21, 20, 5]    # 5 is a potential outlier\n",
    "})\n",
    "\n",
    "# Calculate Mahalanobis Distance for each point\n",
    "def mahalanobis_distance(x, data):\n",
    "    mean_vec = np.mean(data, axis=0)\n",
    "    cov_mat = np.cov(data, rowvar=False)\n",
    "    inv_covmat = np.linalg.inv(cov_mat)\n",
    "    diff = x - mean_vec\n",
    "    md = np.sqrt(np.dot(np.dot(diff, inv_covmat), diff.T))\n",
    "    return md\n",
    "\n",
    "# Apply function to all rows\n",
    "data_values = data.values\n",
    "md_values = np.array([mahalanobis_distance(x, data_values) for x in data_values])\n",
    "\n",
    "data['Mahalanobis_Distance'] = md_values\n",
    "\n",
    "# Determine cutoff threshold from Chi-square distribution (df = number of features)\n",
    "threshold = chi2.ppf((1 - 0.01), df=data.shape[1])  # 99% confidence level\n",
    "\n",
    "data['Outlier'] = data['Mahalanobis_Distance'] > np.sqrt(threshold)\n",
    "\n",
    "print(data)\n"
   ]
  }
 ],
 "metadata": {
  "kernelspec": {
   "display_name": "Python 3",
   "language": "python",
   "name": "python3"
  },
  "language_info": {
   "codemirror_mode": {
    "name": "ipython",
    "version": 3
   },
   "file_extension": ".py",
   "mimetype": "text/x-python",
   "name": "python",
   "nbconvert_exporter": "python",
   "pygments_lexer": "ipython3",
   "version": "3.10.12"
  }
 },
 "nbformat": 4,
 "nbformat_minor": 2
}
