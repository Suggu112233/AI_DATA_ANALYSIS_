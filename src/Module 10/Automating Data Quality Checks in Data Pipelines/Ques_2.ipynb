{
 "cells": [
  {
   "cell_type": "markdown",
   "metadata": {},
   "source": [
    "## Automated Data Quality Monitoring\n",
    "**Objective**: Use Great Expectations to perform data profiling and write validation rules.\n",
    "\n",
    "1. Data Profiling with Great Expectations\n",
    "### Profile a CSV dataset containing customer information to inspect distribution patterns of 'Age' and 'Income' columns.\n",
    "- Load the dataset using Great Expectations and create a data context.\n",
    "- Generate a data asset to inspect the summary statistics.\n",
    "- View the generated expectation suite to analyze data distributions."
   ]
  },
  {
   "cell_type": "code",
   "execution_count": 1,
   "metadata": {},
   "outputs": [
    {
     "ename": "ImportError",
     "evalue": "cannot import name 'DataContext' from 'great_expectations.data_context' (/home/vscode/.local/lib/python3.10/site-packages/great_expectations/data_context/__init__.py)",
     "output_type": "error",
     "traceback": [
      "\u001b[0;31m---------------------------------------------------------------------------\u001b[0m",
      "\u001b[0;31mImportError\u001b[0m                               Traceback (most recent call last)",
      "Cell \u001b[0;32mIn[1], line 3\u001b[0m\n\u001b[1;32m      1\u001b[0m \u001b[38;5;66;03m# write your code from here\u001b[39;00m\n\u001b[1;32m      2\u001b[0m \u001b[38;5;28;01mimport\u001b[39;00m\u001b[38;5;250m \u001b[39m\u001b[38;5;21;01mgreat_expectations\u001b[39;00m\u001b[38;5;250m \u001b[39m\u001b[38;5;28;01mas\u001b[39;00m\u001b[38;5;250m \u001b[39m\u001b[38;5;21;01mge\u001b[39;00m\n\u001b[0;32m----> 3\u001b[0m \u001b[38;5;28;01mfrom\u001b[39;00m\u001b[38;5;250m \u001b[39m\u001b[38;5;21;01mgreat_expectations\u001b[39;00m\u001b[38;5;21;01m.\u001b[39;00m\u001b[38;5;21;01mdata_context\u001b[39;00m\u001b[38;5;250m \u001b[39m\u001b[38;5;28;01mimport\u001b[39;00m DataContext\n\u001b[1;32m      4\u001b[0m \u001b[38;5;28;01mfrom\u001b[39;00m\u001b[38;5;250m \u001b[39m\u001b[38;5;21;01mgreat_expectations\u001b[39;00m\u001b[38;5;21;01m.\u001b[39;00m\u001b[38;5;21;01mcore\u001b[39;00m\u001b[38;5;21;01m.\u001b[39;00m\u001b[38;5;21;01mbatch\u001b[39;00m\u001b[38;5;250m \u001b[39m\u001b[38;5;28;01mimport\u001b[39;00m BatchRequest\n\u001b[1;32m      6\u001b[0m \u001b[38;5;66;03m# Step 1: Initialize Great Expectations DataContext (creates or loads GE project)\u001b[39;00m\n",
      "\u001b[0;31mImportError\u001b[0m: cannot import name 'DataContext' from 'great_expectations.data_context' (/home/vscode/.local/lib/python3.10/site-packages/great_expectations/data_context/__init__.py)"
     ]
    }
   ],
   "source": [
    "# write your code from here\n",
    "import great_expectations as ge\n",
    "from great_expectations.data_context import DataContext\n",
    "from great_expectations.core.batch import BatchRequest\n",
    "\n",
    "# Step 1: Initialize Great Expectations DataContext (creates or loads GE project)\n",
    "context = ge.data_context.DataContext()\n",
    "\n",
    "# Step 2: Add a datasource pointing to your CSV file location (if not already configured)\n",
    "datasource_name = \"my_csv_datasource\"\n",
    "\n",
    "# Register datasource if not existing (adjust base_directory to your CSV folder)\n",
    "if datasource_name not in context.list_datasources():\n",
    "    context.add_datasource(\n",
    "        name=datasource_name,\n",
    "        class_name=\"Datasource\",\n",
    "        execution_engine={\n",
    "            \"class_name\": \"PandasExecutionEngine\"\n",
    "        },\n",
    "        data_connectors={\n",
    "            \"default_runtime_data_connector_name\": {\n",
    "                \"class_name\": \"RuntimeDataConnector\",\n",
    "                \"batch_identifiers\": [\"default_identifier_name\"]\n",
    "            }\n",
    "        }\n",
    "    )\n",
    "\n",
    "# Step 3: Load the CSV file as a runtime batch\n",
    "batch_request = BatchRequest(\n",
    "    datasource_name=datasource_name,\n",
    "    data_connector_name=\"default_runtime_data_connector_name\",\n",
    "    data_asset_name=\"customer_data\",  # arbitrary name for this batch\n",
    "    runtime_parameters={\"path\": \"./customer_data.csv\"},\n",
    "    batch_identifiers={\"default_identifier_name\": \"default_identifier\"}\n",
    ")\n",
    "\n",
    "# Step 4: Create or load an expectation suite for profiling\n",
    "expectation_suite_name = \"customer_data_profile_suite\"\n",
    "try:\n",
    "    suite = context.get_expectation_suite(expectation_suite_name)\n",
    "except Exception:\n",
    "    suite = context.create_expectation_suite(expectation_suite_name, overwrite_existing=True)\n",
    "\n",
    "# Step 5: Get validator to profile data\n",
    "validator = context.get_validator(\n",
    "    batch_request=batch_request,\n",
    "    expectation_suite_name=expectation_suite_name\n",
    ")\n",
    "\n",
    "# Step 6: Generate basic profiling expectations (summary stats)\n",
    "validator.profile()\n",
    "\n",
    "# Step 7: Save the expectation suite with profiling results\n",
    "validator.save_expectation_suite()\n",
    "\n",
    "print(f\"Generated expectation suite '{expectation_suite_name}' with summary statistics for 'Age' and 'Income'.\")\n",
    "\n",
    "# Step 8 (optional): View the expectation suite details\n",
    "expectations = validator.get_expectation_suite().expectations\n",
    "for exp in expectations:\n",
    "    if exp['kwargs'].get('column') in ['Age', 'Income']:\n",
    "        print(exp)\n"
   ]
  },
  {
   "cell_type": "markdown",
   "metadata": {},
   "source": [
    "2. Writing Validation Rules for Data Ingestion\n",
    "### Write validation rules for a CSV file to ensure the 'Date' column follows a specific date format.\n",
    "- Utilize expect_column_values_to_match_regex to enforce date format validation.\n",
    "- Run the validation and interpret the output."
   ]
  },
  {
   "cell_type": "code",
   "execution_count": null,
   "metadata": {},
   "outputs": [],
   "source": [
    "# write your code from here"
   ]
  }
 ],
 "metadata": {
  "kernelspec": {
   "display_name": "Python 3",
   "language": "python",
   "name": "python3"
  },
  "language_info": {
   "codemirror_mode": {
    "name": "ipython",
    "version": 3
   },
   "file_extension": ".py",
   "mimetype": "text/x-python",
   "name": "python",
   "nbconvert_exporter": "python",
   "pygments_lexer": "ipython3",
   "version": "3.10.12"
  }
 },
 "nbformat": 4,
 "nbformat_minor": 2
}
