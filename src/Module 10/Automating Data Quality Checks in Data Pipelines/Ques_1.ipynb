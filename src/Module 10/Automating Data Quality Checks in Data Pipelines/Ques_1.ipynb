{
 "cells": [
  {
   "cell_type": "markdown",
   "metadata": {},
   "source": [
    "### Integrating with Apache Airflow\n",
    "**Description**: Integrate Great Expectations with Apache Airflow to run data quality checks automatically in your DAG.\n",
    "\n",
    "**Steps**:\n",
    "1. Install Airflow (if you haven't already):\n",
    "2. Airflow DAG Integration:\n",
    "    - Create a DAG file:\n",
    "3. Deploy and Test:\n",
    "    - Place this file in your Airflow DAGs directory and start your Airflow scheduler.\n",
    "    - Open the Airflow UI and trigger the DAG to see it run your expectations."
   ]
  },
  {
   "cell_type": "code",
   "execution_count": 1,
   "metadata": {},
   "outputs": [
    {
     "ename": "ModuleNotFoundError",
     "evalue": "No module named 'airflow'",
     "output_type": "error",
     "traceback": [
      "\u001b[0;31m---------------------------------------------------------------------------\u001b[0m",
      "\u001b[0;31mModuleNotFoundError\u001b[0m                       Traceback (most recent call last)",
      "Cell \u001b[0;32mIn[1], line 3\u001b[0m\n\u001b[1;32m      1\u001b[0m \u001b[38;5;66;03m# Write your code from here\u001b[39;00m\n\u001b[0;32m----> 3\u001b[0m \u001b[38;5;28;01mfrom\u001b[39;00m\u001b[38;5;250m \u001b[39m\u001b[38;5;21;01mairflow\u001b[39;00m\u001b[38;5;250m \u001b[39m\u001b[38;5;28;01mimport\u001b[39;00m DAG\n\u001b[1;32m      4\u001b[0m \u001b[38;5;28;01mfrom\u001b[39;00m\u001b[38;5;250m \u001b[39m\u001b[38;5;21;01mairflow\u001b[39;00m\u001b[38;5;21;01m.\u001b[39;00m\u001b[38;5;21;01moperators\u001b[39;00m\u001b[38;5;21;01m.\u001b[39;00m\u001b[38;5;21;01mpython\u001b[39;00m\u001b[38;5;250m \u001b[39m\u001b[38;5;28;01mimport\u001b[39;00m PythonOperator\n\u001b[1;32m      5\u001b[0m \u001b[38;5;28;01mfrom\u001b[39;00m\u001b[38;5;250m \u001b[39m\u001b[38;5;21;01mdatetime\u001b[39;00m\u001b[38;5;250m \u001b[39m\u001b[38;5;28;01mimport\u001b[39;00m datetime, timedelta\n",
      "\u001b[0;31mModuleNotFoundError\u001b[0m: No module named 'airflow'"
     ]
    }
   ],
   "source": [
    "# Write your code from here\n",
    "\n",
    "from airflow import DAG\n",
    "from airflow.operators.python import PythonOperator\n",
    "from datetime import datetime, timedelta\n",
    "import great_expectations as ge\n",
    "\n",
    "def run_data_quality_checks():\n",
    "    # Initialize Great Expectations DataContext\n",
    "    context = ge.data_context.DataContext()\n",
    "\n",
    "    # Define your checkpoint name created in GE (replace with your checkpoint)\n",
    "    checkpoint_name = \"your_checkpoint_name\"\n",
    "\n",
    "    # Optionally define a batch request, if needed by your checkpoint\n",
    "    batch_request = {\n",
    "        \"datasource_name\": \"your_datasource_name\",\n",
    "        \"data_connector_name\": \"your_data_connector\",\n",
    "        \"data_asset_name\": \"your_data_asset_name\",\n",
    "        \"limit\": 1000,  # Optional limit on rows\n",
    "    }\n",
    "\n",
    "    # Run checkpoint with batch request\n",
    "    checkpoint_result = context.run_checkpoint(\n",
    "        checkpoint_name=checkpoint_name,\n",
    "        batch_request=batch_request,\n",
    "    )\n",
    "\n",
    "    # Check if validation succeeded\n",
    "    if not checkpoint_result[\"success\"]:\n",
    "        raise ValueError(\"Data Quality Check Failed!\")\n",
    "\n",
    "default_args = {\n",
    "    'owner': 'airflow',\n",
    "    'depends_on_past': False,\n",
    "    'email_on_failure': False,\n",
    "    'start_date': datetime(2025, 1, 1),\n",
    "    'retries': 1,\n",
    "    'retry_delay': timedelta(minutes=5),\n",
    "}\n",
    "\n",
    "with DAG(\n",
    "    'great_expectations_data_quality',\n",
    "    default_args=default_args,\n",
    "    description='Run Great Expectations data quality checks',\n",
    "    schedule_interval=timedelta(days=1),\n",
    "    catchup=False,\n",
    ") as dag:\n",
    "\n",
    "    run_quality_checks = PythonOperator(\n",
    "        task_id='run_data_quality_checks',\n",
    "        python_callable=run_data_quality_checks,\n",
    "    )\n"
   ]
  }
 ],
 "metadata": {
  "kernelspec": {
   "display_name": "Python 3",
   "language": "python",
   "name": "python3"
  },
  "language_info": {
   "codemirror_mode": {
    "name": "ipython",
    "version": 3
   },
   "file_extension": ".py",
   "mimetype": "text/x-python",
   "name": "python",
   "nbconvert_exporter": "python",
   "pygments_lexer": "ipython3",
   "version": "3.10.12"
  }
 },
 "nbformat": 4,
 "nbformat_minor": 2
}
