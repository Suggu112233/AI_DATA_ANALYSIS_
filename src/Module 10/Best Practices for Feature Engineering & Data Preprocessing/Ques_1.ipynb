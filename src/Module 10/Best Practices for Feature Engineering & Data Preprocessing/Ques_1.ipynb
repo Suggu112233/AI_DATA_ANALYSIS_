{
 "cells": [
  {
   "cell_type": "markdown",
   "metadata": {},
   "source": [
    "### Task 1: Handling Missing Values - Simple Imputation\n",
    "**Description**: Given a dataset with missing values, impute the missing values using the mean for numerical features and the mode for categorical features."
   ]
  },
  {
   "cell_type": "code",
   "execution_count": null,
   "metadata": {},
   "outputs": [],
   "source": [
    "# write your code from here"
   ]
  },
  {
   "cell_type": "markdown",
   "metadata": {},
   "source": [
    "### Task 2: Feature Scaling - Min-Max Normalization\n",
    "**Description**: Normalize a numerical feature using Min-Max scaling to a range [0, 1]."
   ]
  },
  {
   "cell_type": "code",
   "execution_count": null,
   "metadata": {},
   "outputs": [],
   "source": [
    "# write your code from here"
   ]
  },
  {
   "cell_type": "markdown",
   "metadata": {},
   "source": [
    "### Task 3: Handling Missing Values - Drop Missing Values\n",
    "**Description**: Remove rows with missing values from a dataset."
   ]
  },
  {
   "cell_type": "code",
   "execution_count": null,
   "metadata": {},
   "outputs": [],
   "source": [
    "# write your code from here"
   ]
  },
  {
   "cell_type": "markdown",
   "metadata": {},
   "source": [
    "### Task 4: Feature Scaling - Standardization\n",
    "**Description**: Standardize a numerical feature to have zero mean and unit variance."
   ]
  },
  {
   "cell_type": "code",
   "execution_count": null,
   "metadata": {},
   "outputs": [],
   "source": []
  },
  {
   "cell_type": "code",
   "execution_count": null,
   "metadata": {},
   "outputs": [],
   "source": [
    "import pandas as pd\n",
    "from sklearn.preprocessing import MinMaxScaler, StandardScaler\n",
    "from scipy.stats import mode\n",
    "\n",
    "# Sample dataset creation with missing values and numerical + categorical features\n",
    "data = {\n",
    "    'Age': [25, 30, None, 22, 28, None, 40],\n",
    "    'Salary': [50000, 60000, 55000, None, 65000, 70000, None],\n",
    "    'Department': ['Sales', 'HR', 'Sales', None, 'HR', 'Sales', 'HR']\n",
    "}\n",
    "\n",
    "df = pd.DataFrame(data)\n",
    "print(\"Original Data:\\n\", df)\n",
    "\n",
    "# Task 1: Handling Missing Values - Simple Imputation\n",
    "# Impute numerical features with mean\n",
    "for col in ['Age', 'Salary']:\n",
    "    mean_val = df[col].mean()\n",
    "    df[col].fillna(mean_val, inplace=True)\n",
    "\n",
    "# Impute categorical features with mode\n",
    "mode_val = df['Department'].mode()[0]\n",
    "df['Department'].fillna(mode_val, inplace=True)\n",
    "\n",
    "print(\"\\nAfter Imputation:\\n\", df)\n",
    "\n",
    "# Task 2: Feature Scaling - Min-Max Normalization (on Age)\n",
    "scaler = MinMaxScaler()\n",
    "df['Age_MinMax'] = scaler.fit_transform(df[['Age']])\n",
    "\n",
    "print(\"\\nAfter Min-Max Scaling (Age):\\n\", df[['Age', 'Age_MinMax']])\n",
    "\n",
    "# Task 3: Handling Missing Values - Drop Missing Values\n",
    "# Let's create a copy with some missing values again to demonstrate dropping\n",
    "df_with_missing = df.copy()\n",
    "df_with_missing.loc[0, 'Salary'] = None  # introduce missing value\n",
    "print(\"\\nData with introduced missing Salary value:\\n\", df_with_missing)\n",
    "\n",
    "df_dropped = df_with_missing.dropna()\n",
    "print(\"\\nAfter Dropping Rows with Missing Values:\\n\", df_dropped)\n",
    "\n",
    "# Task 4: Feature Scaling - Standardization (on Salary)\n",
    "std_scaler = StandardScaler()\n",
    "df['Salary_Standardized'] = std_scaler.fit_transform(df[['Salary']])\n",
    "\n",
    "print(\"\\nAfter Standardization (Salary):\\n\", df[['Salary', 'Salary_Standardized']])\n"
   ]
  }
 ],
 "metadata": {
  "kernelspec": {
   "display_name": "base",
   "language": "python",
   "name": "python3"
  },
  "language_info": {
   "name": "python",
   "version": "3.12.7"
  }
 },
 "nbformat": 4,
 "nbformat_minor": 2
}
