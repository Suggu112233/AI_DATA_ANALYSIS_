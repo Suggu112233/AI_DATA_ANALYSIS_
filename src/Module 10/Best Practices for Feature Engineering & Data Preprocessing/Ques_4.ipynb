{
 "cells": [
  {
   "cell_type": "markdown",
   "metadata": {},
   "source": [
    "### Feature Selection - Using Mutual Information\n",
    "**Description**: Use mutual information for feature selection to identify important features."
   ]
  },
  {
   "cell_type": "code",
   "execution_count": 1,
   "metadata": {},
   "outputs": [
    {
     "name": "stdout",
     "output_type": "stream",
     "text": [
      "Mutual Information scores for each feature:\n",
      "petal length (cm)    0.993339\n",
      "petal width (cm)     0.988274\n",
      "sepal length (cm)    0.505166\n",
      "sepal width (cm)     0.240206\n",
      "dtype: float64\n",
      "\n",
      "Selected Features:\n",
      "['petal length (cm)', 'petal width (cm)', 'sepal length (cm)', 'sepal width (cm)']\n"
     ]
    }
   ],
   "source": [
    "# write your code from here\n",
    "import pandas as pd\n",
    "from sklearn.feature_selection import mutual_info_classif\n",
    "from sklearn.datasets import load_iris\n",
    "\n",
    "# Load sample dataset (Iris)\n",
    "data = load_iris()\n",
    "X = pd.DataFrame(data.data, columns=data.feature_names)\n",
    "y = data.target\n",
    "\n",
    "# Compute mutual information between each feature and the target\n",
    "mi = mutual_info_classif(X, y)\n",
    "\n",
    "# Create a DataFrame to show feature scores\n",
    "mi_scores = pd.Series(mi, index=X.columns).sort_values(ascending=False)\n",
    "\n",
    "print(\"Mutual Information scores for each feature:\")\n",
    "print(mi_scores)\n",
    "\n",
    "# Select features with MI score above a threshold (e.g., 0.1)\n",
    "selected_features = mi_scores[mi_scores > 0.1].index.tolist()\n",
    "\n",
    "print(\"\\nSelected Features:\")\n",
    "print(selected_features)\n"
   ]
  }
 ],
 "metadata": {
  "kernelspec": {
   "display_name": "Python 3",
   "language": "python",
   "name": "python3"
  },
  "language_info": {
   "codemirror_mode": {
    "name": "ipython",
    "version": 3
   },
   "file_extension": ".py",
   "mimetype": "text/x-python",
   "name": "python",
   "nbconvert_exporter": "python",
   "pygments_lexer": "ipython3",
   "version": "3.10.12"
  }
 },
 "nbformat": 4,
 "nbformat_minor": 2
}
