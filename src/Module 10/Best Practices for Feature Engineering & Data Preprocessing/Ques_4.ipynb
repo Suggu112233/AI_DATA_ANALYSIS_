{
 "cells": [
  {
   "cell_type": "markdown",
   "metadata": {},
   "source": [
    "### Feature Selection - Using Mutual Information\n",
    "**Description**: Use mutual information for feature selection to identify important features."
   ]
  },
  {
   "cell_type": "code",
   "execution_count": null,
   "metadata": {},
   "outputs": [],
   "source": [
    "# write your code from here\n",
    "import pandas as pd\n",
    "from sklearn.feature_selection import mutual_info_classif\n",
    "from sklearn.datasets import load_iris\n",
    "\n",
    "# Load sample dataset (Iris)\n",
    "data = load_iris()\n",
    "X = pd.DataFrame(data.data, columns=data.feature_names)\n",
    "y = data.target\n",
    "\n",
    "# Compute mutual information between each feature and the target\n",
    "mi = mutual_info_classif(X, y)\n",
    "\n",
    "# Create a DataFrame to show feature scores\n",
    "mi_scores = pd.Series(mi, index=X.columns).sort_values(ascending=False)\n",
    "\n",
    "print(\"Mutual Information scores for each feature:\")\n",
    "print(mi_scores)\n",
    "\n",
    "# Select features with MI score above a threshold (e.g., 0.1)\n",
    "selected_features = mi_scores[mi_scores > 0.1].index.tolist()\n",
    "\n",
    "print(\"\\nSelected Features:\")\n",
    "print(selected_features)\n"
   ]
  }
 ],
 "metadata": {
  "kernelspec": {
   "display_name": "base",
   "language": "python",
   "name": "python3"
  },
  "language_info": {
   "name": "python",
   "version": "3.12.7"
  }
 },
 "nbformat": 4,
 "nbformat_minor": 2
}
