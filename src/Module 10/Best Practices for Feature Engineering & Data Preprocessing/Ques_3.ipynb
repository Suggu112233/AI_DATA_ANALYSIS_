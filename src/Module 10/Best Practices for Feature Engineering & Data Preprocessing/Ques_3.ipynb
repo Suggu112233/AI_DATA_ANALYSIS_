{
 "cells": [
  {
   "cell_type": "markdown",
   "metadata": {},
   "source": [
    "### Feature Selection - Variance Threshold\n",
    "**Description**: Remove features with low variance."
   ]
  },
  {
   "cell_type": "code",
   "execution_count": 1,
   "metadata": {},
   "outputs": [
    {
     "name": "stdout",
     "output_type": "stream",
     "text": [
      "Original Data:\n",
      "   feature1  feature2  feature3  feature4\n",
      "0         0         1         1         2\n",
      "1         0         2         1         2\n",
      "2         0         3         1         3\n",
      "3         0         4         1         3\n",
      "4         0         5         1         2\n",
      "\n",
      "Features selected after variance thresholding:\n",
      "Index(['feature2', 'feature4'], dtype='object')\n",
      "\n",
      "Filtered Data:\n",
      "[[1 2]\n",
      " [2 2]\n",
      " [3 3]\n",
      " [4 3]\n",
      " [5 2]]\n"
     ]
    }
   ],
   "source": [
    "# write your code from here\n",
    "import pandas as pd\n",
    "from sklearn.feature_selection import VarianceThreshold\n",
    "\n",
    "# Sample data with features\n",
    "data = {\n",
    "    'feature1': [0, 0, 0, 0, 0],    # zero variance (constant)\n",
    "    'feature2': [1, 2, 3, 4, 5],    # variance > 0\n",
    "    'feature3': [1, 1, 1, 1, 1],    # zero variance\n",
    "    'feature4': [2, 2, 3, 3, 2],    # some variance\n",
    "}\n",
    "\n",
    "df = pd.DataFrame(data)\n",
    "print(\"Original Data:\")\n",
    "print(df)\n",
    "\n",
    "# Create VarianceThreshold object to remove features with variance <= 0\n",
    "selector = VarianceThreshold(threshold=0.0)\n",
    "\n",
    "# Fit and transform the data\n",
    "filtered_data = selector.fit_transform(df)\n",
    "\n",
    "# Get the selected feature names\n",
    "selected_features = df.columns[selector.get_support()]\n",
    "\n",
    "print(\"\\nFeatures selected after variance thresholding:\")\n",
    "print(selected_features)\n",
    "\n",
    "print(\"\\nFiltered Data:\")\n",
    "print(filtered_data)\n",
    "\n"
   ]
  }
 ],
 "metadata": {
  "kernelspec": {
   "display_name": "Python 3",
   "language": "python",
   "name": "python3"
  },
  "language_info": {
   "codemirror_mode": {
    "name": "ipython",
    "version": 3
   },
   "file_extension": ".py",
   "mimetype": "text/x-python",
   "name": "python",
   "nbconvert_exporter": "python",
   "pygments_lexer": "ipython3",
   "version": "3.10.12"
  }
 },
 "nbformat": 4,
 "nbformat_minor": 2
}
